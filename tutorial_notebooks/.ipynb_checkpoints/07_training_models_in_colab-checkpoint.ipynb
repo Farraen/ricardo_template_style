{
 "cells": [
  {
   "cell_type": "code",
   "execution_count": 2,
   "metadata": {
    "hide_input": true
   },
   "outputs": [
    {
     "data": {
      "image/png": "[encoded data removed]",
      "text/plain": [
       "<IPython.core.display.Image object>"
      ]
     },
     "execution_count": 2,
     "metadata": {
      "image/png": {
       "width": 80
      }
     },
     "output_type": "execute_result"
    }
   ],
   "source": [
    "from IPython.display import HTML, Image, display\n",
    "Image(filename = 'styles/ricardo_logo.png', width = 80, embed = True)"
   ]
  },
  {
   "cell_type": "markdown",
   "metadata": {
    "colab_type": "text",
    "id": "pJZg3akOBKrN"
   },
   "source": [
    "<hr>\n",
    "\n",
    "# Training models on Google Colab\n",
    "\n",
    "## Intro\n",
    "\n",
    "Using the free GPU on Google Colab can massively speed up training of large models. The downside is that it can randomly disconnect at busy times, and with automatically disconnect you after around 8 hours of runtime. \n",
    "\n",
    "To get around this limitation, this notebook shows how to save models during training so that they can be reloaded later. It's also useful for recovering previous training weights if the model starts to overfit.\n",
    "\n"
   ]
  },
  {
   "cell_type": "markdown",
   "metadata": {
    "colab_type": "text",
    "id": "pqNecfMII_sq"
   },
   "source": [
    "## Setup\n"
   ]
  },
  {
   "cell_type": "markdown",
   "metadata": {
    "colab_type": "text",
    "id": "N_WzdtEFBpAy"
   },
   "source": [
    "\n",
    "\n",
    "### Connect to the GPU\n",
    "\n",
    "There are some bugs after a recent upgrade, which may persist if you've used Colab before. \n",
    "\n",
    "* Choose Runtime> Reset all Runtimes before you start.\n",
    "* Choose Runtime> Change runtime type, then choose GPU from the dropdown menu\n",
    "\n",
    "Check that the GPU is working by running the code below. If it prints out \"Found GPU at: /device:GPU:0\", you're good to go."
   ]
  },
  {
   "cell_type": "code",
   "execution_count": 1,
   "metadata": {
    "colab": {
     "base_uri": "https://localhost:8080/",
     "height": 34
    },
    "colab_type": "code",
    "executionInfo": {
     "elapsed": 1897,
     "status": "ok",
     "timestamp": 1562395688103,
     "user": {
      "displayName": "G Gibson",
      "photoUrl": "",
      "userId": "17412941746825049195"
     },
     "user_tz": -60
    },
    "id": "uhNDH9eoCWV3",
    "outputId": "27b40ae4-5e79-48d1-8286-bcdc5daea528"
   },
   "outputs": [
    {
     "name": "stdout",
     "output_type": "stream",
     "text": [
      "Found GPU at: /device:GPU:0\n"
     ]
    }
   ],
   "source": [
    "import tensorflow as tf\n",
    "device_name = tf.test.gpu_device_name()\n",
    "if device_name != '/device:GPU:0':\n",
    "    raise SystemError('GPU device not found')\n",
    "print('Found GPU at: {}'.format(device_name))"
   ]
  },
  {
   "cell_type": "markdown",
   "metadata": {
    "colab_type": "text",
    "id": "AVeGNV-mCWsZ"
   },
   "source": [
    "### Mount your Google Drive\n",
    "\n",
    "Next we need to mount your Google Drive.  Run the following cell and enter the code after following the link"
   ]
  },
  {
   "cell_type": "code",
   "execution_count": 62,
   "metadata": {
    "colab": {
     "base_uri": "https://localhost:8080/",
     "height": 54
    },
    "colab_type": "code",
    "executionInfo": {
     "elapsed": 326,
     "status": "ok",
     "timestamp": 1562399990331,
     "user": {
      "displayName": "G Gibson",
      "photoUrl": "",
      "userId": "17412941746825049195"
     },
     "user_tz": -60
    },
    "id": "TlQ7h_E1BuGM",
    "outputId": "4699eaea-4330-4ebd-b5ac-eb106c5f8ad2"
   },
   "outputs": [
    {
     "name": "stdout",
     "output_type": "stream",
     "text": [
      "Drive already mounted at /content/gdrive; to attempt to forcibly remount, call drive.mount(\"/content/gdrive\", force_remount=True).\n"
     ]
    }
   ],
   "source": [
    "from google.colab import drive\n",
    "drive.mount('/content/gdrive')"
   ]
  },
  {
   "cell_type": "markdown",
   "metadata": {
    "colab_type": "text",
    "id": "eztgT3HiDjwq"
   },
   "source": [
    "### Create a folder in which to store the models\n",
    "\n",
    "You can interact with the drive in the side bar, or interact with it using shell commands.  Let's choose to save our model in a folder called \"model_results\". \n",
    "\n",
    "The shell command below creates the folder if it doesn't exist, or you can do it manually in drive if you prefer"
   ]
  },
  {
   "cell_type": "code",
   "execution_count": 0,
   "metadata": {
    "colab": {},
    "colab_type": "code",
    "id": "52L1dk3eEBG6"
   },
   "outputs": [],
   "source": [
    "# Create the model_results folder if it doesn't exist\n",
    "!mkdir -p '/content/gdrive/My Drive/model_results'"
   ]
  },
  {
   "cell_type": "markdown",
   "metadata": {
    "colab_type": "text",
    "id": "NKVwid33EoDg"
   },
   "source": [
    "We can look at its contents - but it is currently empty"
   ]
  },
  {
   "cell_type": "code",
   "execution_count": 0,
   "metadata": {
    "colab": {},
    "colab_type": "code",
    "id": "W8l9fMwFDhlK"
   },
   "outputs": [],
   "source": [
    "# This should return nothing\n",
    "!ls '/content/gdrive/My Drive/model_results'"
   ]
  },
  {
   "cell_type": "markdown",
   "metadata": {
    "colab_type": "text",
    "id": "okNF5tEWB6Zm"
   },
   "source": [
    "### Install h5py \n",
    "\n",
    "You'll also need to install h5py in order to save the models. Although we won't use it here, I also recommend PyDrive, which is a wrapper for the Google Drive python client. "
   ]
  },
  {
   "cell_type": "code",
   "execution_count": 0,
   "metadata": {
    "colab": {},
    "colab_type": "code",
    "id": "9Ae5R6VLB5yq"
   },
   "outputs": [],
   "source": [
    "!sudo pip install h5py\n",
    "\n",
    "# pydrive may also be useful although we don't bother with it in this tutorial\n",
    "!pip install -U -q PyDrive"
   ]
  },
  {
   "cell_type": "markdown",
   "metadata": {
    "colab_type": "text",
    "id": "lOkCJJ2jOzYs"
   },
   "source": [
    "## Aside: using your own data\n",
    "\n",
    "The tutorial uses a built-in dataset, but you can also upload your own data.\n",
    "\n",
    "I'd suggest the easiest way is to save the data in your Google Drive, and you can access it directly now that you've mounted the drive. \n",
    "\n",
    "You can load data directly using pandas or any other method as needed."
   ]
  },
  {
   "cell_type": "code",
   "execution_count": 0,
   "metadata": {
    "colab": {},
    "colab_type": "code",
    "id": "FdMd0Qo8Pn6O"
   },
   "outputs": [],
   "source": [
    "# This will load the data into the variable df - commented out for now\n",
    "import pandas as pd\n",
    "# df = pd.read_csv('/content/gdrive/My Drive/[path to file]')"
   ]
  },
  {
   "cell_type": "code",
   "execution_count": 3,
   "metadata": {
    "hide_input": true
   },
   "outputs": [
    {
     "data": {
      "text/html": [
       "<div class = \"commenter1\"> \n",
       "Normally when you define a filepath, say if you're reading from a folder in the same directory as the notebook, \n",
       "you'd omit the '/' at the start of the filepath. When reading from Drive, it always starts with '/content/gdrive/My Drive/'\n",
       "</div>"
      ],
      "text/plain": [
       "<IPython.core.display.HTML object>"
      ]
     },
     "metadata": {},
     "output_type": "display_data"
    }
   ],
   "source": [
    "display(HTML('''<div class = \"commenter1\"> \n",
    "Normally when you define a filepath, say if you're reading from a folder in the same directory as the notebook, \n",
    "you'd omit the '/' at the start of the filepath. When reading from Drive, it always starts with '/content/gdrive/My Drive/'\n",
    "</div>'''))\n"
   ]
  },
  {
   "cell_type": "markdown",
   "metadata": {
    "colab_type": "text",
    "id": "Jg1mqRz3C5N4"
   },
   "source": [
    "## Define custom callbacks to save the model\n",
    "\n",
    "The custom callback below will save the model at regular intervals,with the filename indicating the epoch number and validation loss reached at that point. \n",
    "\n",
    "Since this can add up to A LOT of models if you're training for 1000 epochs, we can also set the function so that the model only saves after a certain number of epochs using the 'period' argument. \n",
    "\n",
    "In the example below, I've set it to save every 2 epochs. "
   ]
  },
  {
   "cell_type": "code",
   "execution_count": 0,
   "metadata": {
    "colab": {},
    "colab_type": "code",
    "id": "7fcp_KjGC4Yh"
   },
   "outputs": [],
   "source": [
    "# Callback to save the model every 2 epochs\n",
    "from keras.callbacks import *\n",
    "\n",
    "# Saves the models into our previously created model_results folder\n",
    "filepath=\"/content/gdrive/My Drive/model_results/epochs:{epoch:03d}-val_loss:{val_loss:.3f}.hdf5\"\n",
    "checkpoint = ModelCheckpoint(filepath, monitor='val_loss', \n",
    "                             verbose=1, \n",
    "                             save_best_only=True, \n",
    "                             mode='auto',\n",
    "                             period = 2) # Change to a different period as needed\n",
    "callbacks_list = [checkpoint]"
   ]
  },
  {
   "cell_type": "code",
   "execution_count": 4,
   "metadata": {
    "hide_input": true
   },
   "outputs": [
    {
     "data": {
      "text/html": [
       "<div class = \"commenter1\"> \n",
       "Make sure you've created the target folder following the steps above. Otherwise the model will fail on training. </div>"
      ],
      "text/plain": [
       "<IPython.core.display.HTML object>"
      ]
     },
     "metadata": {},
     "output_type": "display_data"
    }
   ],
   "source": [
    "display(HTML('''<div class = \"commenter1\"> \n",
    "Make sure you've created the target folder following the steps above. Otherwise the model will fail on training. </div>'''))\n"
   ]
  },
  {
   "cell_type": "markdown",
   "metadata": {
    "colab_type": "text",
    "id": "1ZvKQ8ZtG4em"
   },
   "source": [
    "## Training your model\n",
    "\n",
    "### Define the model (optional part)\n",
    "\n",
    "Set up your keras model as normal. We'll use a toy example here with the MNIST data and train a de-noising autoencoder.\n",
    "\n",
    "You can skip this part - the model design is not important. We are mainly interested in how to use the callbacks."
   ]
  },
  {
   "cell_type": "code",
   "execution_count": 0,
   "metadata": {
    "colab": {},
    "colab_type": "code",
    "id": "RY4w4YfUGh-F"
   },
   "outputs": [],
   "source": [
    "import keras\n",
    "from keras.layers import Input, Dense, Conv2D, MaxPooling2D, UpSampling2D\n",
    "from keras.models import Model\n",
    "from keras import backend as K\n",
    "\n",
    "# Load the data\n",
    "from keras.datasets import mnist\n",
    "\n",
    "import matplotlib.pyplot as plt\n",
    "import numpy as np"
   ]
  },
  {
   "cell_type": "code",
   "execution_count": 38,
   "metadata": {
    "colab": {
     "base_uri": "https://localhost:8080/",
     "height": 34
    },
    "colab_type": "code",
    "executionInfo": {
     "elapsed": 4200,
     "status": "ok",
     "timestamp": 1562398282029,
     "user": {
      "displayName": "G Gibson",
      "photoUrl": "",
      "userId": "17412941746825049195"
     },
     "user_tz": -60
    },
    "id": "HgZtQ1oCHGjs",
    "outputId": "142b7eec-76cc-41ba-e728-2da7f6e8242c"
   },
   "outputs": [
    {
     "data": {
      "text/plain": [
       "((60000, 28, 28), (10000, 28, 28))"
      ]
     },
     "execution_count": 38,
     "metadata": {
      "tags": []
     },
     "output_type": "execute_result"
    }
   ],
   "source": [
    "# Import the data\n",
    "(x_train, y_train), (x_test, y_test) = mnist.load_data()\n",
    "\n",
    "# Normalise it\n",
    "x_train = x_train.astype('float32') / 255.\n",
    "x_test = x_test.astype('float32') / 255.\n",
    "\n",
    "# Add noise and clip\n",
    "def add_noise(x, noise_factor = 0.5):\n",
    "    x = x + noise_factor * np.random.normal(loc=0.0,\n",
    "                                            scale=1.0, \n",
    "                                            size=x.shape)\n",
    "    return np.clip(x, 0, 1)\n",
    "\n",
    "x_train_noisy = add_noise(x_train)\n",
    "x_test_noisy = add_noise(x_test)\n",
    "\n",
    "x_train.shape, x_test.shape"
   ]
  },
  {
   "cell_type": "markdown",
   "metadata": {
    "colab_type": "text",
    "id": "PgCF5qyJHZno"
   },
   "source": [
    "We can see from the shapes that we need an extra channel at the end. It should be (len, 28, 28, 1). Let's add that using the reshape method.|"
   ]
  },
  {
   "cell_type": "code",
   "execution_count": 0,
   "metadata": {
    "colab": {},
    "colab_type": "code",
    "id": "W2j0nVIXHMx8"
   },
   "outputs": [],
   "source": [
    "# Reshape the data to have an extra channel for greyscale at the end\n",
    "def add_channel(x):\n",
    "    return np.reshape(x, (len(x), 28, 28, 1))\n",
    "x_train_CNN = add_channel(x_train)\n",
    "x_test_CNN = add_channel(x_test)\n",
    "x_train_noisy_CNN = add_channel(x_train_noisy)\n",
    "x_test_noisy_CNN = add_channel(x_test_noisy)"
   ]
  },
  {
   "cell_type": "markdown",
   "metadata": {
    "colab_type": "text",
    "id": "PKKPUu2NH9bz"
   },
   "source": [
    "The model code is below. It's not important that you understand it, the key part is how we store the model weights during training. \n",
    "\n",
    "If you want to learn more about autoencoders, there's a tutorial on DataCamp: https://www.datacamp.com/community/tutorials/autoencoder-keras-tutorial \n",
    "\n",
    "But as I said, it's not important - this is just a demo."
   ]
  },
  {
   "cell_type": "code",
   "execution_count": 0,
   "metadata": {
    "colab": {},
    "colab_type": "code",
    "id": "sgJ-7SAYHq4Q"
   },
   "outputs": [],
   "source": [
    "# Simple CNN architecture\n",
    "H = 32\n",
    "\n",
    "# Input layer\n",
    "input_img = Input(shape=(28, 28, 1)) \n",
    "\n",
    "# Encoder \n",
    "x = Conv2D(H, (3, 3), activation='relu', padding='same')(input_img)\n",
    "x = MaxPooling2D((2, 2), padding='same')(x)\n",
    "x = Conv2D(H, (3, 3), activation='relu', padding='same')(x)\n",
    "encoded = MaxPooling2D((2, 2), padding='same')(x)\n",
    "\n",
    "# Decoder\n",
    "x = Conv2D(H, (3, 3), activation='relu', padding='same')(encoded)\n",
    "x = UpSampling2D((2, 2))(x)\n",
    "x = Conv2D(H, (3, 3), activation='relu', padding='same')(x)\n",
    "x = UpSampling2D((2, 2))(x)\n",
    "decoded = Conv2D(1, (3, 3), activation='sigmoid', padding='same')(x)\n",
    "\n",
    "# Autoencoder\n",
    "autoencoder = Model(input_img, decoded)\n",
    "autoencoder.compile(optimizer='adam', loss='binary_crossentropy')"
   ]
  },
  {
   "cell_type": "markdown",
   "metadata": {
    "colab_type": "text",
    "id": "eaLyP2DkILBX"
   },
   "source": [
    "## Using the callbacks to save the model during training\n",
    "\n",
    "This is the key part of the lesson: we introduce the custom callback that was defined earlier into the model fit, as part of the callbacks arguments. \n"
   ]
  },
  {
   "cell_type": "code",
   "execution_count": 41,
   "metadata": {
    "colab": {
     "base_uri": "https://localhost:8080/",
     "height": 564
    },
    "colab_type": "code",
    "executionInfo": {
     "elapsed": 30674,
     "status": "ok",
     "timestamp": 1562398312956,
     "user": {
      "displayName": "G Gibson",
      "photoUrl": "",
      "userId": "17412941746825049195"
     },
     "user_tz": -60
    },
    "id": "NCxYzbmgIQ4o",
    "outputId": "692d6baf-3252-4fbc-f545-19277139f4ea"
   },
   "outputs": [
    {
     "name": "stdout",
     "output_type": "stream",
     "text": [
      "Train on 60000 samples, validate on 10000 samples\n",
      "Epoch 1/10\n",
      "60000/60000 [==============================] - 3s 56us/step - loss: 0.1963 - val_loss: 0.1244\n",
      "Epoch 2/10\n",
      "60000/60000 [==============================] - 3s 48us/step - loss: 0.1190 - val_loss: 0.1132\n",
      "\n",
      "Epoch 00002: val_loss improved from inf to 0.11321, saving model to /content/gdrive/My Drive/model_results/epochs:002-val_loss:0.113.hdf5\n",
      "Epoch 3/10\n",
      "60000/60000 [==============================] - 3s 48us/step - loss: 0.1120 - val_loss: 0.1097\n",
      "Epoch 4/10\n",
      "60000/60000 [==============================] - 3s 48us/step - loss: 0.1087 - val_loss: 0.1065\n",
      "\n",
      "Epoch 00004: val_loss improved from 0.11321 to 0.10654, saving model to /content/gdrive/My Drive/model_results/epochs:004-val_loss:0.107.hdf5\n",
      "Epoch 5/10\n",
      "60000/60000 [==============================] - 3s 48us/step - loss: 0.1065 - val_loss: 0.1052\n",
      "Epoch 6/10\n",
      "60000/60000 [==============================] - 3s 48us/step - loss: 0.1051 - val_loss: 0.1035\n",
      "\n",
      "Epoch 00006: val_loss improved from 0.10654 to 0.10349, saving model to /content/gdrive/My Drive/model_results/epochs:006-val_loss:0.103.hdf5\n",
      "Epoch 7/10\n",
      "60000/60000 [==============================] - 3s 48us/step - loss: 0.1039 - val_loss: 0.1037\n",
      "Epoch 8/10\n",
      "60000/60000 [==============================] - 3s 49us/step - loss: 0.1030 - val_loss: 0.1018\n",
      "\n",
      "Epoch 00008: val_loss improved from 0.10349 to 0.10182, saving model to /content/gdrive/My Drive/model_results/epochs:008-val_loss:0.102.hdf5\n",
      "Epoch 9/10\n",
      "60000/60000 [==============================] - 3s 48us/step - loss: 0.1021 - val_loss: 0.1011\n",
      "Epoch 10/10\n",
      "60000/60000 [==============================] - 3s 49us/step - loss: 0.1014 - val_loss: 0.1004\n",
      "\n",
      "Epoch 00010: val_loss improved from 0.10182 to 0.10038, saving model to /content/gdrive/My Drive/model_results/epochs:010-val_loss:0.100.hdf5\n"
     ]
    }
   ],
   "source": [
    "history = autoencoder.fit(x_train_noisy_CNN, x_train_CNN,\n",
    "                epochs=10,\n",
    "                batch_size=256,\n",
    "                shuffle=True, \n",
    "                validation_data=(x_test_noisy_CNN, x_test_CNN),\n",
    "                callbacks = callbacks_list) # This line ensures we save the model"
   ]
  },
  {
   "cell_type": "markdown",
   "metadata": {
    "colab_type": "text",
    "id": "ucrfOEEJIlEZ"
   },
   "source": [
    "We've only trained it for 10 epochs, but you can see it goes at a pretty rapid rate. This would take a while on CPU.\n",
    "\n",
    "### Load previous models\n",
    "\n",
    "Now if we check the contents of the model_results folder again, it should be full of our saved models. Let's verify that it saved every other epoch. Looks good! \n",
    "\n",
    "The hdf5 format is designed to efficiently store large amounts of data."
   ]
  },
  {
   "cell_type": "code",
   "execution_count": 42,
   "metadata": {
    "colab": {
     "base_uri": "https://localhost:8080/",
     "height": 68
    },
    "colab_type": "code",
    "executionInfo": {
     "elapsed": 30918,
     "status": "ok",
     "timestamp": 1562398314648,
     "user": {
      "displayName": "G Gibson",
      "photoUrl": "",
      "userId": "17412941746825049195"
     },
     "user_tz": -60
    },
    "id": "k34WgC0PIiDP",
    "outputId": "37d8cc6c-2de6-419d-de3d-b0366935207c"
   },
   "outputs": [
    {
     "name": "stdout",
     "output_type": "stream",
     "text": [
      "epochs:002-val_loss:0.113.hdf5\tepochs:008-val_loss:0.102.hdf5\n",
      "epochs:004-val_loss:0.107.hdf5\tepochs:010-val_loss:0.100.hdf5\n",
      "epochs:006-val_loss:0.103.hdf5\n"
     ]
    }
   ],
   "source": [
    "# This should show all of our models\n",
    "!ls '/content/gdrive/My Drive/model_results'"
   ]
  },
  {
   "cell_type": "markdown",
   "metadata": {
    "colab_type": "text",
    "id": "TkbJkJqkJh1z"
   },
   "source": [
    "Fantastic! This means that if we get disconnected, or we decide we want to go back to an earlier model, we can just load them from the drive.\n",
    "\n",
    "If we want to re-load any of those models and resume training, we can just pick the file we want and load it into the model. Here, we've chosen the model from epoch 8"
   ]
  },
  {
   "cell_type": "code",
   "execution_count": 0,
   "metadata": {
    "colab": {},
    "colab_type": "code",
    "id": "niCzOy34JZDP"
   },
   "outputs": [],
   "source": [
    "# Reload the model weights from the 9th epoch\n",
    "autoencoder.load_weights('/content/gdrive/My Drive/model_results/epochs:008-val_loss:0.102.hdf5') "
   ]
  },
  {
   "cell_type": "markdown",
   "metadata": {
    "colab_type": "text",
    "id": "WnQgXEJnKhgF"
   },
   "source": [
    "### Continue training a previous model\n",
    "\n",
    "Let's carry on training that model for a further 5 epochs and see if we get any more improvement. \n",
    "\n",
    "You can see that the loss doesn't start from the same point as when we were training the model from scratch, because we've already got weights from the previous 8 epochs loaded."
   ]
  },
  {
   "cell_type": "code",
   "execution_count": 44,
   "metadata": {
    "colab": {
     "base_uri": "https://localhost:8080/",
     "height": 292
    },
    "colab_type": "code",
    "executionInfo": {
     "elapsed": 14949,
     "status": "ok",
     "timestamp": 1562398429556,
     "user": {
      "displayName": "G Gibson",
      "photoUrl": "",
      "userId": "17412941746825049195"
     },
     "user_tz": -60
    },
    "id": "4meqZ5naJzTJ",
    "outputId": "cb6009e9-1dab-4bff-afec-d04b522b00ba"
   },
   "outputs": [
    {
     "name": "stdout",
     "output_type": "stream",
     "text": [
      "Train on 60000 samples, validate on 10000 samples\n",
      "Epoch 1/5\n",
      "60000/60000 [==============================] - 3s 51us/step - loss: 0.1022 - val_loss: 0.1011\n",
      "Epoch 2/5\n",
      "60000/60000 [==============================] - 3s 48us/step - loss: 0.1014 - val_loss: 0.1007\n",
      "\n",
      "Epoch 00002: val_loss did not improve from 0.10038\n",
      "Epoch 3/5\n",
      "60000/60000 [==============================] - 3s 48us/step - loss: 0.1007 - val_loss: 0.0997\n",
      "Epoch 4/5\n",
      "60000/60000 [==============================] - 3s 48us/step - loss: 0.1001 - val_loss: 0.0993\n",
      "\n",
      "Epoch 00004: val_loss improved from 0.10038 to 0.09929, saving model to /content/gdrive/My Drive/model_results/epochs:004-val_loss:0.099.hdf5\n",
      "Epoch 5/5\n",
      "60000/60000 [==============================] - 3s 48us/step - loss: 0.0996 - val_loss: 0.0989\n"
     ]
    }
   ],
   "source": [
    "# Let's train it for a further 5 epochs\n",
    "history = autoencoder.fit(x_train_noisy_CNN, x_train_CNN,\n",
    "                epochs=5,\n",
    "                batch_size=256,\n",
    "                shuffle=True, \n",
    "                validation_data=(x_test_noisy_CNN, x_test_CNN),\n",
    "                callbacks = callbacks_list) "
   ]
  },
  {
   "cell_type": "markdown",
   "metadata": {
    "colab_type": "text",
    "id": "kYQhyltVK8tc"
   },
   "source": [
    "### Optional: model outputs\n",
    "\n",
    "In case you wondered how the model did, let's look at the outputs below. It aims to de-noise input images and recover a nice, clean digit.  \n",
    "\n",
    "You can see that it does a decent job of removing the noise."
   ]
  },
  {
   "cell_type": "code",
   "execution_count": 45,
   "metadata": {
    "colab": {
     "base_uri": "https://localhost:8080/",
     "height": 312
    },
    "colab_type": "code",
    "executionInfo": {
     "elapsed": 1885,
     "status": "ok",
     "timestamp": 1562398445737,
     "user": {
      "displayName": "G Gibson",
      "photoUrl": "",
      "userId": "17412941746825049195"
     },
     "user_tz": -60
    },
    "id": "fziP6l-fKofU",
    "outputId": "bc8d8e51-55a7-484e-ba0c-456eb6271914"
   },
   "outputs": [
    {
     "data": {
      "image/png": "[encoded data removed]",
      "text/plain": [
       "<Figure size 1440x288 with 20 Axes>"
      ]
     },
     "metadata": {
      "tags": []
     },
     "output_type": "display_data"
    }
   ],
   "source": [
    "### Optional: model outputs\n",
    "\n",
    "# Get decoded images from the test set\n",
    "decoded_images = autoencoder.predict(x_test_noisy_CNN)\n",
    "\n",
    "# how many digits we will display\n",
    "n = 10 \n",
    "plt.figure(figsize=(20, 4))\n",
    "for i in range(n):\n",
    "    # display noisy input\n",
    "    ax = plt.subplot(2, n, i + 1)\n",
    "    plt.imshow(x_test_noisy[i], cmap = 'gray') # Reconstruct the 2D shape\n",
    "    plt.axis('off')\n",
    "    \n",
    "    # display de-noised output\n",
    "    ax = plt.subplot(2, n, i + 1 + n )\n",
    "    plt.imshow(np.squeeze(decoded_images[i]), cmap = 'gray') # Reconstruct the 2D shape\n",
    "    plt.axis('off')\n",
    "plt.suptitle('Top row: noisy input images \\n Bottom row: decoded output images', fontsize = 12)\n",
    "plt.show()\n"
   ]
  },
  {
   "cell_type": "code",
   "execution_count": 3,
   "metadata": {
    "hide_input": true
   },
   "outputs": [
    {
     "data": {
      "text/html": [
       "\n",
       "<hr> \n",
       "<div class = 'footnote' position = 'static'>\n",
       "Please contact gena.gibson@ricardo.com with any suggestions <br>\n",
       "Version last updated on 06 July 2019\n",
       "</div>"
      ],
      "text/plain": [
       "<IPython.core.display.HTML object>"
      ]
     },
     "metadata": {},
     "output_type": "display_data"
    }
   ],
   "source": [
    "display(HTML('''\n",
    "<hr> \n",
    "<div class = 'footnote' position = 'static'>\n",
    "Please contact gena.gibson@ricardo.com with any suggestions <br>\n",
    "Version last updated on 06 July 2019\n",
    "</div>'''))"
   ]
  }
 ],
 "metadata": {
  "accelerator": "GPU",
  "colab": {
   "collapsed_sections": [],
   "name": "07_training_models_in_colab.ipynb",
   "provenance": [],
   "toc_visible": true,
   "version": "0.3.2"
  },
  "hide_input": false,
  "kernelspec": {
   "display_name": "Python 3",
   "language": "python",
   "name": "python3"
  },
  "language_info": {
   "codemirror_mode": {
    "name": "ipython",
    "version": 3
   },
   "file_extension": ".py",
   "mimetype": "text/x-python",
   "name": "python",
   "nbconvert_exporter": "python",
   "pygments_lexer": "ipython3",
   "version": "3.6.8"
  },
  "toc": {
   "base_numbering": 1,
   "nav_menu": {},
   "number_sections": true,
   "sideBar": true,
   "skip_h1_title": true,
   "title_cell": "Table of Contents",
   "title_sidebar": "Contents",
   "toc_cell": false,
   "toc_position": {
    "height": "calc(100% - 180px)",
    "left": "10px",
    "top": "150px",
    "width": "269.774px"
   },
   "toc_section_display": true,
   "toc_window_display": true
  },
  "varInspector": {
   "cols": {
    "lenName": 16,
    "lenType": 16,
    "lenVar": 40
   },
   "kernels_config": {
    "python": {
     "delete_cmd_postfix": "",
     "delete_cmd_prefix": "del ",
     "library": "var_list.py",
     "varRefreshCmd": "print(var_dic_list())"
    },
    "r": {
     "delete_cmd_postfix": ") ",
     "delete_cmd_prefix": "rm(",
     "library": "var_list.r",
     "varRefreshCmd": "cat(var_dic_list()) "
    }
   },
   "types_to_exclude": [
    "module",
    "function",
    "builtin_function_or_method",
    "instance",
    "_Feature"
   ],
   "window_display": false
  }
 },
 "nbformat": 4,
 "nbformat_minor": 1
}
