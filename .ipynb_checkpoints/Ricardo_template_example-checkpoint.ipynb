{
 "cells": [
  {
   "cell_type": "code",
   "execution_count": 17,
   "metadata": {
    "ExecuteTime": {
     "end_time": "2019-06-11T08:51:48.250833Z",
     "start_time": "2019-06-11T08:51:48.135144Z"
    },
    "code_folding": [],
    "extensions": {
     "jupyter_dashboards": {
      "version": 1,
      "views": {
       "grid_default": {},
       "report_default": {}
      }
     }
    },
    "hide_input": true
   },
   "outputs": [
    {
     "data": {
      "text/html": [
       "<style>\n",
       "/* Version last updated: 19 June 2019 */\n",
       "\n",
       "\n",
       "/* Dummies added as it does not seem to render the first one */\n",
       "h1, h2, h3, h4, h5, h6, body, p, div, table, th, td, thead, caption, article, figcaption, footer, footnote {}\n",
       "\n",
       "\n",
       "/* Headings */\n",
       "h1, h2, h3, h4 {\n",
       "    font-family: Arial, \"Helvetica Neue\", Helvetica, sans-serif !important;\n",
       "    padding-top: 3pt;\n",
       "    padding-bottom: 3pt;\n",
       "    text-align: left;\n",
       "    color: #0070C0 !important;\n",
       "}\n",
       "\n",
       "h1 {font-size: 20pt; text-align: center}\n",
       "h2 {font-size: 20pt;}\n",
       "h3 {font-size: 16pt;}\n",
       "h4 {font-size: 12pt;}\n",
       "\n",
       "/* Chapter numbering - remove if using TOC */\n",
       "/* Need to reset all counters at the same time if using the same element */\n",
       "/* body {counter-reset: h2 0 tables 0 figures 0}\n",
       "h2 {counter-reset: h3 0}\n",
       "h3 {counter-reset: h4 0}\n",
       "h4 {counter-reset: h5 0}\n",
       "h5 {counter-reset: h6 0}\n",
       "\n",
       "h2:before {counter-increment: h2; content: counter(h2) \". \"}\n",
       "h3:before {counter-increment: h3; content: counter(h2) \".\" counter(h3) \". \"}\n",
       "h4:before {counter-increment: h4; content: counter(h2) \".\" counter(h3) \".\" counter(h4) \". \"}\n",
       "h5:before {counter-increment: h5; content: counter(h2) \".\" counter(h3) \".\" counter(h4) \".\" counter(h5) \". \"}\n",
       "h6:before {counter-increment: h6; content: counter(h2) \".\" counter(h3) \".\" counter(h4) \".\" counter(h5) \".\" counter(h6) \". \"}\n",
       "*/\n",
       "\n",
       "body {counter-reset: tables 0 figures 0}\n",
       "\n",
       "\n",
       "/* Body text */\n",
       "p, body {\n",
       "    font-family: Arial, \"Helvetica Neue\", Helvetica, sans-serif;\n",
       "    font-size: 11pt;\n",
       "    color: black;\n",
       "}\n",
       "\n",
       "/* Tables */\n",
       "table, th, td {border: 1px solid black;}\n",
       "table { border-collapse: collapse;}\n",
       "thead {background-color: #0070C0; color: white;}\n",
       "\n",
       ".rendered_html table, .rendered_html td, .rendered_html th {\n",
       "    border: 1px solid black !important;\n",
       "}\n",
       "\n",
       "\n",
       "/* Captions */\n",
       "caption, figcaption {\n",
       "    color: black !important;\n",
       "    font-size: 10pt;\n",
       "    font-weight: bold;\n",
       "    text-align: left;\n",
       "}\n",
       "\n",
       "caption:before {counter-increment: tables; content: \"Table \" counter(tables) \". \"}\n",
       "figcaption:before {counter-increment: figures; content: \"Figure \" counter(figures) \". \"}\n",
       "\n",
       "/* Comments */\n",
       "div.todo {\n",
       "    background-color: #fcf2f2;\n",
       "    border-color: #dFb5b4;\n",
       "    border-left: 5px solid #dfb5b4;\n",
       "    padding: 0.5em;\n",
       "    }\n",
       "\n",
       "div.commenter1 {\n",
       "    background-color: lemonchiffon;\n",
       "    border-color: black;\n",
       "    border-left: 5px solid gold;\n",
       "    padding: 0.5em;\n",
       "    }\n",
       "\n",
       "div.commenter2 {\n",
       "    background-color: lightcyan;\n",
       "    border-color: black;\n",
       "    border-left: 5px solid cyan;\n",
       "    padding: 0.5em;\n",
       "    }\n",
       "\n",
       "div.commenter3 {\n",
       "    background-color: lavender;\n",
       "    border-color: black;\n",
       "    border-left: 5px solid blueviolet;\n",
       "    padding: 0.5em;\n",
       "    }\n",
       "\n",
       "/* Footer */\n",
       "div.footnote {\n",
       "    font-size: 10pt;\n",
       "    font-style: italic;\n",
       "    color: DarkGray;\n",
       "    text-align: right;\n",
       "\n",
       "}\n",
       "\n",
       "</style>\n",
       "\n"
      ],
      "text/plain": [
       "<IPython.core.display.HTML object>"
      ]
     },
     "execution_count": 17,
     "metadata": {},
     "output_type": "execute_result"
    }
   ],
   "source": [
    "from IPython.core.display import HTML, Image, display\n",
    "\n",
    "# Run this cell to apply styling\n",
    "custom_style_file = 'styles/ricardo_stylesheet.css'\n",
    "styles = open(custom_style_file, 'r').read()\n",
    "HTML(styles)"
   ]
  },
  {
   "cell_type": "code",
   "execution_count": 2,
   "metadata": {
    "hide_input": true
   },
   "outputs": [],
   "source": [
    "import os\n",
    "import numpy as np\n",
    "import pandas as pd\n",
    "import matplotlib.pyplot as plt\n",
    "import seaborn as sns"
   ]
  },
  {
   "cell_type": "code",
   "execution_count": 3,
   "metadata": {
    "extensions": {
     "jupyter_dashboards": {
      "version": 1,
      "views": {
       "grid_default": {},
       "report_default": {}
      }
     }
    },
    "hide_input": false
   },
   "outputs": [
    {
     "data": {
      "image/png": "[encoded data removed]",
      "text/plain": [
       "<IPython.core.display.Image object>"
      ]
     },
     "execution_count": 3,
     "metadata": {
      "image/png": {
       "width": 80
      }
     },
     "output_type": "execute_result"
    }
   ],
   "source": [
    "path = os.getcwd()\n",
    "Image(filename = path + \"/styles/ricardo_logo.png\", width = 80, embed = True)"
   ]
  },
  {
   "cell_type": "markdown",
   "metadata": {
    "extensions": {
     "jupyter_dashboards": {
      "version": 1,
      "views": {
       "grid_default": {},
       "report_default": {}
      }
     }
    }
   },
   "source": [
    "<hr>\n",
    "\n",
    "# Ricardo template for Jupyter Notebooks\n",
    "\n",
    "## Intro \n",
    "\n",
    "This template provides instructions to create reports with a consistent look and feel. \n",
    "\n",
    "### Enable the style sheet\n",
    "\n",
    "Custom styling for headers, automatic numbering of tables etc is added using a stylesheet.\n",
    "\n",
    "Copy the \"styles\" folder from this GitHub repository to your project folder:\n",
    "    \n",
    "    https://github.com/genagibson/ricardo_template_style/\n",
    "        styles/\n",
    "            ricardo_stylesheet.css\n",
    "\n",
    "The styles are saved in a css file. You can activate it using the following commands:\n",
    "\n",
    "``` python\n",
    "from IPython.core.display import HTML, Image, display\n",
    "custom_style_file = '/styles/ricardo_stylesheet.css' # or the path to the style sheet\n",
    "styles = open(custom_style_file, 'r').read()\n",
    "HTML(styles)\n",
    "```\n",
    "\n",
    "It provides the formatting for headings, numbered figure captions and tables. \n",
    "\n",
    "\n",
    "### Add the logo\n",
    "\n",
    "The logo image file is saved in the same \"styles\" folder as the css file. If you copied the styles folder across already, you can add it to the top of your report using the following command at the top of the page:\n",
    "\n",
    "``` python\n",
    "Image(filename = \"/styles/ricardo_logo.png\", width = 80, embed = True)\n",
    "```\n",
    "(the import statement used for the styles will also import the necessary Image module. Otherwise you can add: `from IPython.core.display import HTML, Image, display`)"
   ]
  },
  {
   "cell_type": "markdown",
   "metadata": {},
   "source": [
    "\n",
    "### Set up extensions\n",
    "\n",
    "Nbextensions offers a lot of useful tools. You can enable this on your machine but running the following in terminal: \n",
    "\n",
    "    pip install jupyter_contrib_nbextensions\n",
    "    pip install jupyter_nbextensions_configurator\n",
    "    jupyter contrib nbextension install --user\n",
    "    \n",
    "Restart the notebook and you should have a new nbextensions option in the edit menu bar"
   ]
  },
  {
   "cell_type": "code",
   "execution_count": 17,
   "metadata": {
    "hide_input": false
   },
   "outputs": [
    {
     "data": {
      "text/html": [
       "<figcaption> Location of nbextensions configurator </figcaption>"
      ],
      "text/plain": [
       "<IPython.core.display.HTML object>"
      ]
     },
     "metadata": {},
     "output_type": "display_data"
    },
    {
     "data": {
      "image/png": "[encoded data removed]",
      "text/plain": [
       "<IPython.core.display.Image object>"
      ]
     },
     "execution_count": 17,
     "metadata": {
      "image/png": {
       "width": 250
      }
     },
     "output_type": "execute_result"
    }
   ],
   "source": [
    "display(HTML('<figcaption> Location of nbextensions configurator </figcaption>'))\n",
    "Image('files/pictures/nbextensions.PNG', width = 250)"
   ]
  },
  {
   "cell_type": "markdown",
   "metadata": {},
   "source": [
    "Recommended extensions to enable are:\n",
    "    \n",
    "* Codefolding\n",
    "* RISE (for presentations)\n",
    "* spellchecker (not as good as Word!)\n",
    "* Table of Contents (2)\n",
    "* Hide input\n",
    "* Hide input all\n",
    "* Export embedded html"
   ]
  },
  {
   "cell_type": "markdown",
   "metadata": {
    "extensions": {
     "jupyter_dashboards": {
      "version": 1,
      "views": {
       "grid_default": {},
       "report_default": {}
      }
     }
    }
   },
   "source": [
    "## Numbering headings\n",
    "\n",
    "The headings can be automatically numbered by following these steps:\n",
    "* Enable Table of Contents (2)\n",
    "* Refresh the notebook\n",
    "* To add a TOC side-bar, click the new button shown, which should have appeared in your notebook ribbon\n"
   ]
  },
  {
   "cell_type": "code",
   "execution_count": 19,
   "metadata": {
    "hide_input": false
   },
   "outputs": [
    {
     "data": {
      "text/html": [
       "<figcaption> Turn on the TOC sidebar </figcaption>"
      ],
      "text/plain": [
       "<IPython.core.display.HTML object>"
      ]
     },
     "metadata": {},
     "output_type": "display_data"
    },
    {
     "data": {
      "image/png": "[encoded data removed]",
      "text/plain": [
       "<IPython.core.display.Image object>"
      ]
     },
     "execution_count": 19,
     "metadata": {
      "image/png": {
       "width": 800
      }
     },
     "output_type": "execute_result"
    }
   ],
   "source": [
    "display(HTML('<figcaption> Turn on the TOC sidebar </figcaption>'))\n",
    "Image('files/pictures/Enable_TOC.PNG', width = 800)"
   ]
  },
  {
   "cell_type": "markdown",
   "metadata": {},
   "source": [
    "For additional formatting, you can edit the options. \n",
    "\n",
    "* Check 'Skip h1 headings from numbering, so that they can serve as notebook title'\n",
    "* For Ricardo colours, change the options to:\n",
    "    * Hover color in toc: HEX #C0C0C0 (Red 192, Green 192, Blue 192)\n",
    "    * Color of highlight mark on scrolling: HEX #0070C0 (Red 0, Green 112, Blue 192) \n",
    "    * Color of sections with selected elements: white\n",
    "    * Color of sections with running cells: white\n",
    "\n",
    "### Example heading - section\n",
    "#### Example heading - subsection"
   ]
  },
  {
   "cell_type": "markdown",
   "metadata": {
    "extensions": {
     "jupyter_dashboards": {
      "version": 1,
      "views": {
       "grid_default": {},
       "report_default": {}
      }
     }
    }
   },
   "source": [
    "## Tables and figures\n",
    "\n",
    "### Tables\n",
    "\n",
    "Use `style.set_caption` option within pandas to add numbered captions for tables. The formatting comes from the ricardo_stylesheet.css, which you need to enable in order to see the Ricardo colours.\n",
    "\n",
    "As an example, you can run the following code to get the table output below:\n",
    "\n",
    "``` python\n",
    "import seaborn as sns\n",
    "import pandas as pd\n",
    "iris = sns.load_dataset('iris')\n",
    "iris.head().style.set_caption('Example table')\n",
    "```"
   ]
  },
  {
   "cell_type": "code",
   "execution_count": 37,
   "metadata": {},
   "outputs": [
    {
     "data": {
      "text/html": [
       "<style  type=\"text/css\" >\n",
       "</style>  \n",
       "<table id=\"T_257f5d26_8e8c_11e9_a448_1c4d70108c53\" ><caption>Example table</caption> \n",
       "<thead>    <tr> \n",
       "        <th class=\"blank level0\" ></th> \n",
       "        <th class=\"col_heading level0 col0\" >sepal_length</th> \n",
       "        <th class=\"col_heading level0 col1\" >sepal_width</th> \n",
       "        <th class=\"col_heading level0 col2\" >petal_length</th> \n",
       "        <th class=\"col_heading level0 col3\" >petal_width</th> \n",
       "        <th class=\"col_heading level0 col4\" >species</th> \n",
       "    </tr></thead> \n",
       "<tbody>    <tr> \n",
       "        <th id=\"T_257f5d26_8e8c_11e9_a448_1c4d70108c53level0_row0\" class=\"row_heading level0 row0\" >0</th> \n",
       "        <td id=\"T_257f5d26_8e8c_11e9_a448_1c4d70108c53row0_col0\" class=\"data row0 col0\" >5.1</td> \n",
       "        <td id=\"T_257f5d26_8e8c_11e9_a448_1c4d70108c53row0_col1\" class=\"data row0 col1\" >3.5</td> \n",
       "        <td id=\"T_257f5d26_8e8c_11e9_a448_1c4d70108c53row0_col2\" class=\"data row0 col2\" >1.4</td> \n",
       "        <td id=\"T_257f5d26_8e8c_11e9_a448_1c4d70108c53row0_col3\" class=\"data row0 col3\" >0.2</td> \n",
       "        <td id=\"T_257f5d26_8e8c_11e9_a448_1c4d70108c53row0_col4\" class=\"data row0 col4\" >setosa</td> \n",
       "    </tr>    <tr> \n",
       "        <th id=\"T_257f5d26_8e8c_11e9_a448_1c4d70108c53level0_row1\" class=\"row_heading level0 row1\" >1</th> \n",
       "        <td id=\"T_257f5d26_8e8c_11e9_a448_1c4d70108c53row1_col0\" class=\"data row1 col0\" >4.9</td> \n",
       "        <td id=\"T_257f5d26_8e8c_11e9_a448_1c4d70108c53row1_col1\" class=\"data row1 col1\" >3</td> \n",
       "        <td id=\"T_257f5d26_8e8c_11e9_a448_1c4d70108c53row1_col2\" class=\"data row1 col2\" >1.4</td> \n",
       "        <td id=\"T_257f5d26_8e8c_11e9_a448_1c4d70108c53row1_col3\" class=\"data row1 col3\" >0.2</td> \n",
       "        <td id=\"T_257f5d26_8e8c_11e9_a448_1c4d70108c53row1_col4\" class=\"data row1 col4\" >setosa</td> \n",
       "    </tr>    <tr> \n",
       "        <th id=\"T_257f5d26_8e8c_11e9_a448_1c4d70108c53level0_row2\" class=\"row_heading level0 row2\" >2</th> \n",
       "        <td id=\"T_257f5d26_8e8c_11e9_a448_1c4d70108c53row2_col0\" class=\"data row2 col0\" >4.7</td> \n",
       "        <td id=\"T_257f5d26_8e8c_11e9_a448_1c4d70108c53row2_col1\" class=\"data row2 col1\" >3.2</td> \n",
       "        <td id=\"T_257f5d26_8e8c_11e9_a448_1c4d70108c53row2_col2\" class=\"data row2 col2\" >1.3</td> \n",
       "        <td id=\"T_257f5d26_8e8c_11e9_a448_1c4d70108c53row2_col3\" class=\"data row2 col3\" >0.2</td> \n",
       "        <td id=\"T_257f5d26_8e8c_11e9_a448_1c4d70108c53row2_col4\" class=\"data row2 col4\" >setosa</td> \n",
       "    </tr>    <tr> \n",
       "        <th id=\"T_257f5d26_8e8c_11e9_a448_1c4d70108c53level0_row3\" class=\"row_heading level0 row3\" >3</th> \n",
       "        <td id=\"T_257f5d26_8e8c_11e9_a448_1c4d70108c53row3_col0\" class=\"data row3 col0\" >4.6</td> \n",
       "        <td id=\"T_257f5d26_8e8c_11e9_a448_1c4d70108c53row3_col1\" class=\"data row3 col1\" >3.1</td> \n",
       "        <td id=\"T_257f5d26_8e8c_11e9_a448_1c4d70108c53row3_col2\" class=\"data row3 col2\" >1.5</td> \n",
       "        <td id=\"T_257f5d26_8e8c_11e9_a448_1c4d70108c53row3_col3\" class=\"data row3 col3\" >0.2</td> \n",
       "        <td id=\"T_257f5d26_8e8c_11e9_a448_1c4d70108c53row3_col4\" class=\"data row3 col4\" >setosa</td> \n",
       "    </tr>    <tr> \n",
       "        <th id=\"T_257f5d26_8e8c_11e9_a448_1c4d70108c53level0_row4\" class=\"row_heading level0 row4\" >4</th> \n",
       "        <td id=\"T_257f5d26_8e8c_11e9_a448_1c4d70108c53row4_col0\" class=\"data row4 col0\" >5</td> \n",
       "        <td id=\"T_257f5d26_8e8c_11e9_a448_1c4d70108c53row4_col1\" class=\"data row4 col1\" >3.6</td> \n",
       "        <td id=\"T_257f5d26_8e8c_11e9_a448_1c4d70108c53row4_col2\" class=\"data row4 col2\" >1.4</td> \n",
       "        <td id=\"T_257f5d26_8e8c_11e9_a448_1c4d70108c53row4_col3\" class=\"data row4 col3\" >0.2</td> \n",
       "        <td id=\"T_257f5d26_8e8c_11e9_a448_1c4d70108c53row4_col4\" class=\"data row4 col4\" >setosa</td> \n",
       "    </tr></tbody> \n",
       "</table> "
      ],
      "text/plain": [
       "<pandas.io.formats.style.Styler at 0x1d047e42f98>"
      ]
     },
     "execution_count": 37,
     "metadata": {},
     "output_type": "execute_result"
    }
   ],
   "source": [
    "iris = sns.load_dataset('iris')\n",
    "iris.head().style.set_caption('Example table')"
   ]
  },
  {
   "cell_type": "markdown",
   "metadata": {},
   "source": [
    "The numbering should increment automatically (this also comes from the css file)."
   ]
  },
  {
   "cell_type": "code",
   "execution_count": 39,
   "metadata": {
    "extensions": {
     "jupyter_dashboards": {
      "version": 1,
      "views": {
       "grid_default": {},
       "report_default": {}
      }
     }
    }
   },
   "outputs": [
    {
     "data": {
      "text/html": [
       "<style  type=\"text/css\" >\n",
       "</style>  \n",
       "<table id=\"T_30ef491c_8e8c_11e9_a102_1c4d70108c53\" ><caption>Example table</caption> \n",
       "<thead>    <tr> \n",
       "        <th class=\"blank level0\" ></th> \n",
       "        <th class=\"col_heading level0 col0\" >sepal_length</th> \n",
       "        <th class=\"col_heading level0 col1\" >sepal_width</th> \n",
       "        <th class=\"col_heading level0 col2\" >petal_length</th> \n",
       "        <th class=\"col_heading level0 col3\" >petal_width</th> \n",
       "        <th class=\"col_heading level0 col4\" >species</th> \n",
       "    </tr></thead> \n",
       "<tbody>    <tr> \n",
       "        <th id=\"T_30ef491c_8e8c_11e9_a102_1c4d70108c53level0_row0\" class=\"row_heading level0 row0\" >145</th> \n",
       "        <td id=\"T_30ef491c_8e8c_11e9_a102_1c4d70108c53row0_col0\" class=\"data row0 col0\" >6.7</td> \n",
       "        <td id=\"T_30ef491c_8e8c_11e9_a102_1c4d70108c53row0_col1\" class=\"data row0 col1\" >3</td> \n",
       "        <td id=\"T_30ef491c_8e8c_11e9_a102_1c4d70108c53row0_col2\" class=\"data row0 col2\" >5.2</td> \n",
       "        <td id=\"T_30ef491c_8e8c_11e9_a102_1c4d70108c53row0_col3\" class=\"data row0 col3\" >2.3</td> \n",
       "        <td id=\"T_30ef491c_8e8c_11e9_a102_1c4d70108c53row0_col4\" class=\"data row0 col4\" >virginica</td> \n",
       "    </tr>    <tr> \n",
       "        <th id=\"T_30ef491c_8e8c_11e9_a102_1c4d70108c53level0_row1\" class=\"row_heading level0 row1\" >146</th> \n",
       "        <td id=\"T_30ef491c_8e8c_11e9_a102_1c4d70108c53row1_col0\" class=\"data row1 col0\" >6.3</td> \n",
       "        <td id=\"T_30ef491c_8e8c_11e9_a102_1c4d70108c53row1_col1\" class=\"data row1 col1\" >2.5</td> \n",
       "        <td id=\"T_30ef491c_8e8c_11e9_a102_1c4d70108c53row1_col2\" class=\"data row1 col2\" >5</td> \n",
       "        <td id=\"T_30ef491c_8e8c_11e9_a102_1c4d70108c53row1_col3\" class=\"data row1 col3\" >1.9</td> \n",
       "        <td id=\"T_30ef491c_8e8c_11e9_a102_1c4d70108c53row1_col4\" class=\"data row1 col4\" >virginica</td> \n",
       "    </tr>    <tr> \n",
       "        <th id=\"T_30ef491c_8e8c_11e9_a102_1c4d70108c53level0_row2\" class=\"row_heading level0 row2\" >147</th> \n",
       "        <td id=\"T_30ef491c_8e8c_11e9_a102_1c4d70108c53row2_col0\" class=\"data row2 col0\" >6.5</td> \n",
       "        <td id=\"T_30ef491c_8e8c_11e9_a102_1c4d70108c53row2_col1\" class=\"data row2 col1\" >3</td> \n",
       "        <td id=\"T_30ef491c_8e8c_11e9_a102_1c4d70108c53row2_col2\" class=\"data row2 col2\" >5.2</td> \n",
       "        <td id=\"T_30ef491c_8e8c_11e9_a102_1c4d70108c53row2_col3\" class=\"data row2 col3\" >2</td> \n",
       "        <td id=\"T_30ef491c_8e8c_11e9_a102_1c4d70108c53row2_col4\" class=\"data row2 col4\" >virginica</td> \n",
       "    </tr>    <tr> \n",
       "        <th id=\"T_30ef491c_8e8c_11e9_a102_1c4d70108c53level0_row3\" class=\"row_heading level0 row3\" >148</th> \n",
       "        <td id=\"T_30ef491c_8e8c_11e9_a102_1c4d70108c53row3_col0\" class=\"data row3 col0\" >6.2</td> \n",
       "        <td id=\"T_30ef491c_8e8c_11e9_a102_1c4d70108c53row3_col1\" class=\"data row3 col1\" >3.4</td> \n",
       "        <td id=\"T_30ef491c_8e8c_11e9_a102_1c4d70108c53row3_col2\" class=\"data row3 col2\" >5.4</td> \n",
       "        <td id=\"T_30ef491c_8e8c_11e9_a102_1c4d70108c53row3_col3\" class=\"data row3 col3\" >2.3</td> \n",
       "        <td id=\"T_30ef491c_8e8c_11e9_a102_1c4d70108c53row3_col4\" class=\"data row3 col4\" >virginica</td> \n",
       "    </tr>    <tr> \n",
       "        <th id=\"T_30ef491c_8e8c_11e9_a102_1c4d70108c53level0_row4\" class=\"row_heading level0 row4\" >149</th> \n",
       "        <td id=\"T_30ef491c_8e8c_11e9_a102_1c4d70108c53row4_col0\" class=\"data row4 col0\" >5.9</td> \n",
       "        <td id=\"T_30ef491c_8e8c_11e9_a102_1c4d70108c53row4_col1\" class=\"data row4 col1\" >3</td> \n",
       "        <td id=\"T_30ef491c_8e8c_11e9_a102_1c4d70108c53row4_col2\" class=\"data row4 col2\" >5.1</td> \n",
       "        <td id=\"T_30ef491c_8e8c_11e9_a102_1c4d70108c53row4_col3\" class=\"data row4 col3\" >1.8</td> \n",
       "        <td id=\"T_30ef491c_8e8c_11e9_a102_1c4d70108c53row4_col4\" class=\"data row4 col4\" >virginica</td> \n",
       "    </tr></tbody> \n",
       "</table> "
      ],
      "text/plain": [
       "<pandas.io.formats.style.Styler at 0x1d047c52da0>"
      ]
     },
     "execution_count": 39,
     "metadata": {},
     "output_type": "execute_result"
    }
   ],
   "source": [
    "# Numbers should increment automatically\n",
    "iris.tail().style.set_caption('Example table')"
   ]
  },
  {
   "cell_type": "markdown",
   "metadata": {
    "extensions": {
     "jupyter_dashboards": {
      "version": 1,
      "views": {
       "grid_default": {},
       "report_default": {}
      }
     }
    }
   },
   "source": [
    "\n",
    "### Figures\n",
    "\n",
    "Since we might use various packages to create figures, the captions are created using HTML tag `<figcaption>` and automatically numbered in the same way as for tables, using the ricardo_stylesheet.css file. \n",
    "\n",
    "To display HTML from within a code cell, we need to wrap the tag in `display(HTML())` as shown below.\n",
    "\n",
    "``` python\n",
    "import pandas as pd\n",
    "import matplotlib.pyplot as plt\n",
    "display(HTML('<figcaption> Example figure - output showing </figcaption>'))\n",
    "plt.scatter(iris['sepal_length'], iris['sepal_width'], alpha = 0.5)\n",
    "```"
   ]
  },
  {
   "cell_type": "code",
   "execution_count": 42,
   "metadata": {
    "extensions": {
     "jupyter_dashboards": {
      "version": 1,
      "views": {
       "grid_default": {},
       "report_default": {}
      }
     }
    },
    "hide_input": true
   },
   "outputs": [
    {
     "data": {
      "text/html": [
       "<figcaption> Example figure - output showing </figcaption>"
      ],
      "text/plain": [
       "<IPython.core.display.HTML object>"
      ]
     },
     "metadata": {},
     "output_type": "display_data"
    },
    {
     "data": {
      "text/plain": [
       "<matplotlib.collections.PathCollection at 0x1d047fde518>"
      ]
     },
     "execution_count": 42,
     "metadata": {},
     "output_type": "execute_result"
    },
    {
     "data": {
      "image/png": "[encoded data removed]",
      "text/plain": [
       "<Figure size 432x288 with 1 Axes>"
      ]
     },
     "metadata": {},
     "output_type": "display_data"
    }
   ],
   "source": [
    "display(HTML('<figcaption> Example figure - output showing </figcaption>'))\n",
    "plt.scatter(iris['sepal_length'], iris['sepal_width'], alpha = 0.5)"
   ]
  },
  {
   "cell_type": "markdown",
   "metadata": {},
   "source": [
    "You may notice outputs like `[<matplotlib.lines.Line2D at 0x113c26898>]`. This is because Jupyter renders the return value of the function as well as the graphical output. You can suppress the value and only show the plot by appending `;` to a command:\n",
    "\n",
    "``` python\n",
    "display(HTML('<figcaption> Example figure - output hidden </figcaption>'))\n",
    "plt.scatter(iris['sepal_length'], iris['sepal_width'], alpha = 0.5);\n",
    "``` "
   ]
  },
  {
   "cell_type": "code",
   "execution_count": 44,
   "metadata": {
    "hide_input": true
   },
   "outputs": [
    {
     "data": {
      "text/html": [
       "<figcaption> Example figure - output hidden </figcaption>"
      ],
      "text/plain": [
       "<IPython.core.display.HTML object>"
      ]
     },
     "metadata": {},
     "output_type": "display_data"
    },
    {
     "data": {
      "image/png": "[encoded data removed]",
      "text/plain": [
       "<Figure size 432x288 with 1 Axes>"
      ]
     },
     "metadata": {},
     "output_type": "display_data"
    }
   ],
   "source": [
    "display(HTML('<figcaption> Example figure - output hidden </figcaption>'))\n",
    "plt.scatter(iris['sepal_length'], iris['sepal_width'], alpha = 0.5);"
   ]
  },
  {
   "cell_type": "markdown",
   "metadata": {},
   "source": [
    "Interactive plots can be easily added using plotly. We will have a separate tutorial on this."
   ]
  },
  {
   "cell_type": "markdown",
   "metadata": {
    "extensions": {
     "jupyter_dashboards": {
      "version": 1,
      "views": {
       "grid_default": {},
       "report_default": {}
      }
     }
    }
   },
   "source": [
    "\n",
    "## Internal comments\n",
    "\n",
    "\n",
    "\n",
    "Several built-in styles are provided to make commenting easier. These can be rendered in Markdown cells or in code.\n",
    "\n",
    "Example code:\n",
    "\n",
    "``` python\n",
    "display(HTML('''<div class = \"todo\"> \n",
    "    Note: Things to do. This will be visible in exported HTML\n",
    "</div>'''))\n",
    "``` "
   ]
  },
  {
   "cell_type": "code",
   "execution_count": 11,
   "metadata": {
    "extensions": {
     "jupyter_dashboards": {
      "version": 1,
      "views": {
       "grid_default": {},
       "report_default": {}
      }
     }
    }
   },
   "outputs": [
    {
     "data": {
      "text/html": [
       "<div class = \"todo\"> \n",
       "    Note: class 'todo'. This will be visible in exported HTML\n",
       "</div>"
      ],
      "text/plain": [
       "<IPython.core.display.HTML object>"
      ]
     },
     "metadata": {},
     "output_type": "display_data"
    }
   ],
   "source": [
    "display(HTML('''<div class = \"todo\"> \n",
    "    Note: class 'todo'. This will be visible in exported HTML\n",
    "</div>'''))\n"
   ]
  },
  {
   "cell_type": "markdown",
   "metadata": {},
   "source": [
    "You have several built-in options from the css file, which give different colours. You can access these by changing the class to different options:\n",
    "* todo (red)\n",
    "* commenter1 (yellow)\n",
    "* commenter2 (blue)\n",
    "* commenter3 (purple)"
   ]
  },
  {
   "cell_type": "code",
   "execution_count": 14,
   "metadata": {},
   "outputs": [
    {
     "data": {
      "text/html": [
       "<div class = 'commenter1'>\n",
       "    Comments class 'commenter1'\n",
       "</div>\n",
       "<div class = 'commenter2'>\n",
       "    Comments class 'commenter2'\n",
       "</div>\n",
       "\n",
       "<div class = 'commenter3'>\n",
       "    Comments class 'commenter3'\n",
       "</div>\n",
       "\n"
      ],
      "text/plain": [
       "<IPython.core.display.HTML object>"
      ]
     },
     "metadata": {},
     "output_type": "display_data"
    }
   ],
   "source": [
    "display(HTML('''<div class = 'commenter1'>\n",
    "    Comments class 'commenter1'\n",
    "</div>\n",
    "<div class = 'commenter2'>\n",
    "    Comments class 'commenter2'\n",
    "</div>\n",
    "\n",
    "<div class = 'commenter3'>\n",
    "    Comments class 'commenter3'\n",
    "</div>\n",
    "\n",
    "'''))\n"
   ]
  },
  {
   "cell_type": "markdown",
   "metadata": {},
   "source": [
    "## Export to HTML\n",
    "\n",
    "Use the command below to export the notebook to HTML while retaining the table of contents (save the notebook first).\n",
    "\n",
    "    jupyter nbconvert Ricardo_template_example.ipynb --template toc2\n",
    "\n",
    "You need to navigate to your project folder in terminal and run the command there.\n",
    "\n",
    "NB: in the current version, the colour scheme for the TOC does not update. This seems to be a bug in the extension and may be fixed in later versions.  This command needs to be run from the terminal if you don't want the outputs to be shown."
   ]
  },
  {
   "cell_type": "markdown",
   "metadata": {},
   "source": [
    "Alternatively, you can save the file as html by choosing file>download as>.html embedded, although this may not bring the table of contents across. Exporting regular html will not include embedded pictures."
   ]
  },
  {
   "cell_type": "markdown",
   "metadata": {},
   "source": [
    "## Hiding code \n",
    "\n",
    "To remove code from the output, make sure you have `hide code all` extension enabled.\n",
    "Refresh the notebook and select the new icon in the ribbon. This is useful for removing code prior to sharing with clients and colleagues. \n",
    "\n",
    "You can also hide individual cells using the ^ button next to it. "
   ]
  },
  {
   "cell_type": "code",
   "execution_count": 21,
   "metadata": {
    "extensions": {
     "jupyter_dashboards": {
      "version": 1,
      "views": {
       "grid_default": {},
       "report_default": {}
      }
     }
    },
    "hide_input": false
   },
   "outputs": [
    {
     "data": {
      "text/html": [
       "<figcaption> Hide all code cells </figcaption>"
      ],
      "text/plain": [
       "<IPython.core.display.HTML object>"
      ]
     },
     "metadata": {},
     "output_type": "display_data"
    },
    {
     "data": {
      "image/png": "[encoded data removed]",
      "text/plain": [
       "<IPython.core.display.Image object>"
      ]
     },
     "execution_count": 21,
     "metadata": {
      "image/png": {
       "width": 800
      }
     },
     "output_type": "execute_result"
    }
   ],
   "source": [
    "display(HTML('<figcaption> Hide all code cells </figcaption>'))\n",
    "Image('files/pictures/hide_input.PNG', width = 800)"
   ]
  },
  {
   "cell_type": "code",
   "execution_count": 16,
   "metadata": {},
   "outputs": [
    {
     "data": {
      "text/html": [
       "\n",
       "<hr> \n",
       "<div class = 'footnote'>\n",
       "Version updated on 19 July 2019\n",
       "</div>"
      ],
      "text/plain": [
       "<IPython.core.display.HTML object>"
      ]
     },
     "metadata": {},
     "output_type": "display_data"
    }
   ],
   "source": [
    "display(HTML('''\n",
    "<hr> \n",
    "<div class = 'footnote'>\n",
    "Version updated on 19 July 2019\n",
    "</div>'''))"
   ]
  },
  {
   "cell_type": "code",
   "execution_count": null,
   "metadata": {},
   "outputs": [],
   "source": []
  }
 ],
 "metadata": {
  "extensions": {
   "jupyter_dashboards": {
    "activeView": "grid_default",
    "version": 1,
    "views": {
     "grid_default": {
      "cellMargin": 10,
      "defaultCellHeight": 20,
      "maxColumns": 12,
      "name": "grid",
      "type": "grid"
     },
     "report_default": {
      "name": "report",
      "type": "report"
     }
    }
   }
  },
  "hide_input": true,
  "kernelspec": {
   "display_name": "Python 3",
   "language": "python",
   "name": "python3"
  },
  "language_info": {
   "codemirror_mode": {
    "name": "ipython",
    "version": 3
   },
   "file_extension": ".py",
   "mimetype": "text/x-python",
   "name": "python",
   "nbconvert_exporter": "python",
   "pygments_lexer": "ipython3",
   "version": "3.7.2"
  },
  "toc": {
   "base_numbering": 1,
   "nav_menu": {},
   "number_sections": true,
   "sideBar": true,
   "skip_h1_title": true,
   "title_cell": "Table of Contents",
   "title_sidebar": "Contents",
   "toc_cell": false,
   "toc_position": {
    "height": "calc(100% - 180px)",
    "left": "10px",
    "top": "150px",
    "width": "300px"
   },
   "toc_section_display": true,
   "toc_window_display": true
  },
  "varInspector": {
   "cols": {
    "lenName": 16,
    "lenType": 16,
    "lenVar": 40
   },
   "kernels_config": {
    "python": {
     "delete_cmd_postfix": "",
     "delete_cmd_prefix": "del ",
     "library": "var_list.py",
     "varRefreshCmd": "print(var_dic_list())"
    },
    "r": {
     "delete_cmd_postfix": ") ",
     "delete_cmd_prefix": "rm(",
     "library": "var_list.r",
     "varRefreshCmd": "cat(var_dic_list()) "
    }
   },
   "types_to_exclude": [
    "module",
    "function",
    "builtin_function_or_method",
    "instance",
    "_Feature"
   ],
   "window_display": false
  }
 },
 "nbformat": 4,
 "nbformat_minor": 2
}
