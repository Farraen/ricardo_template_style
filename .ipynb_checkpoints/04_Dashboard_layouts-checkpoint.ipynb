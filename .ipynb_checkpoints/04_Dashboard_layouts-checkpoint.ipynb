{
 "cells": [
  {
   "cell_type": "code",
   "execution_count": 1,
   "metadata": {},
   "outputs": [
    {
     "data": {
      "text/html": [
       "<style>\n",
       "/* Version last updated: 19 June 2019 */\n",
       "\n",
       "\n",
       "/* Dummies added as it does not seem to render the first one */\n",
       "h1, h2, h3, h4, h5, h6, body, p, div, table, th, td, thead, caption, article, figcaption, footer, footnote, split_cell {}\n",
       "\n",
       "\n",
       "/* Headings */\n",
       "h1, h2, h3, h4 {\n",
       "    font-family: Arial, \"Helvetica Neue\", Helvetica, sans-serif !important;\n",
       "    padding-top: 3pt;\n",
       "    padding-bottom: 3pt;\n",
       "    text-align: left;\n",
       "    color: #0070C0 !important;\n",
       "}\n",
       "\n",
       "h1 {font-size: 20pt; text-align: center}\n",
       "h2 {font-size: 20pt;}\n",
       "h3 {font-size: 16pt;}\n",
       "h4 {font-size: 12pt;}\n",
       "\n",
       "/* Chapter numbering - remove if using TOC */\n",
       "/* Need to reset all counters at the same time if using the same element */\n",
       "/* body {counter-reset: h2 0 tables 0 figures 0}\n",
       "h2 {counter-reset: h3 0}\n",
       "h3 {counter-reset: h4 0}\n",
       "h4 {counter-reset: h5 0}\n",
       "h5 {counter-reset: h6 0}\n",
       "\n",
       "h2:before {counter-increment: h2; content: counter(h2) \". \"}\n",
       "h3:before {counter-increment: h3; content: counter(h2) \".\" counter(h3) \". \"}\n",
       "h4:before {counter-increment: h4; content: counter(h2) \".\" counter(h3) \".\" counter(h4) \". \"}\n",
       "h5:before {counter-increment: h5; content: counter(h2) \".\" counter(h3) \".\" counter(h4) \".\" counter(h5) \". \"}\n",
       "h6:before {counter-increment: h6; content: counter(h2) \".\" counter(h3) \".\" counter(h4) \".\" counter(h5) \".\" counter(h6) \". \"}\n",
       "*/\n",
       "\n",
       "body {counter-reset: tables 0 figures 0}\n",
       "\n",
       "\n",
       "/* Body text */\n",
       "p, body {\n",
       "    font-family: Arial, \"Helvetica Neue\", Helvetica, sans-serif;\n",
       "    font-size: 11pt;\n",
       "    color: black;\n",
       "}\n",
       "\n",
       "/* Tables */\n",
       "table, th, td {border: 1px solid black;}\n",
       "table { border-collapse: collapse;}\n",
       "thead {background-color: #0070C0; color: white;}\n",
       "\n",
       ".rendered_html table, .rendered_html td, .rendered_html th {\n",
       "    border: 1px solid black !important;\n",
       "}\n",
       "\n",
       "\n",
       "/* Captions */\n",
       "caption, figcaption {\n",
       "    color: black !important;\n",
       "    font-size: 10pt;\n",
       "    font-weight: bold;\n",
       "    text-align: left;\n",
       "}\n",
       "\n",
       "caption:before {counter-increment: tables; content: \"Table \" counter(tables) \". \"}\n",
       "figcaption:before {counter-increment: figures; content: \"Figure \" counter(figures) \". \"}\n",
       "\n",
       "/* Comments */\n",
       "div.todo {\n",
       "    background-color: #fcf2f2;\n",
       "    border-color: #dFb5b4;\n",
       "    border-left: 5px solid #dfb5b4;\n",
       "    padding: 0.5em;\n",
       "    }\n",
       "\n",
       "div.commenter1 {\n",
       "    background-color: lemonchiffon;\n",
       "    border-color: black;\n",
       "    border-left: 5px solid gold;\n",
       "    padding: 0.5em;\n",
       "    }\n",
       "\n",
       "div.commenter2 {\n",
       "    background-color: lightcyan;\n",
       "    border-color: black;\n",
       "    border-left: 5px solid cyan;\n",
       "    padding: 0.5em;\n",
       "    }\n",
       "\n",
       "div.commenter3 {\n",
       "    background-color: lavender;\n",
       "    border-color: black;\n",
       "    border-left: 5px solid blueviolet;\n",
       "    padding: 0.5em;\n",
       "    }\n",
       "\n",
       "/* Footer */\n",
       "div.footnote {\n",
       "    font-size: 10pt;\n",
       "    font-style: italic;\n",
       "    color: DarkGray;\n",
       "    text-align: right;\n",
       "\n",
       "}\n",
       "\n",
       "/* split_cell */\n",
       "div.split_cell{\n",
       "    float: left !important;\n",
       "    width: 50%  !important;}\n",
       "</style>\n",
       "\n"
      ],
      "text/plain": [
       "<IPython.core.display.HTML object>"
      ]
     },
     "execution_count": 1,
     "metadata": {},
     "output_type": "execute_result"
    }
   ],
   "source": [
    "from IPython.core.display import HTML, Image, display\n",
    "\n",
    "# Run this cell to apply styling\n",
    "custom_style_file = 'styles/ricardo_stylesheet.css'\n",
    "styles = open(custom_style_file, 'r').read()\n",
    "HTML(styles)"
   ]
  },
  {
   "cell_type": "code",
   "execution_count": 2,
   "metadata": {},
   "outputs": [
    {
     "data": {
      "image/png": "[encoded data removed]",
      "text/plain": [
       "<IPython.core.display.Image object>"
      ]
     },
     "execution_count": 2,
     "metadata": {
      "image/png": {
       "width": 80
      }
     },
     "output_type": "execute_result"
    }
   ],
   "source": [
    "Image(filename = 'styles/ricardo_logo.png', width = 80, embed = True)"
   ]
  },
  {
   "cell_type": "markdown",
   "metadata": {},
   "source": [
    "<hr>\n",
    "\n",
    "# Notebooks with \"dashboard\" / split cell layouts"
   ]
  },
  {
   "cell_type": "markdown",
   "metadata": {},
   "source": [
    "## Intro\n",
    "\n",
    "It's remarkably difficult to get a true dashboard layout without creating a full web app - something which significantly increases the cost and complexity of any project. As a workaround, I have made some custom template files that allow for cell splitting within the notebook. This enables graphs and tables to be displayed side by side. \n",
    "\n",
    "It is not as flexible as a full dashboard capability, but it should be sufficient for many projects.\n",
    "\n",
    "\n",
    "## Enable splitting cells\n",
    "\n",
    "We can use the Split Cell Notebook extension to enable splitting cells 50:50 in the notebook. \n",
    "\n",
    "* First, ensure that you have nbextensions enabled. If you don't, follow the instructions in the guidelines to set up your template\n",
    "* Enable `Split Cells Notebook` Extension\n",
    "* A new icon will appear, as shown in the picture below. Click it to split any code cell in the notebook and have them aligned side by side. "
   ]
  },
  {
   "cell_type": "code",
   "execution_count": 6,
   "metadata": {},
   "outputs": [
    {
     "data": {
      "text/html": [
       "<figcaption> Location of split cells toggle </figcaption>"
      ],
      "text/plain": [
       "<IPython.core.display.HTML object>"
      ]
     },
     "metadata": {},
     "output_type": "display_data"
    },
    {
     "data": {
      "image/png": "[encoded data removed]",
      "text/plain": [
       "<IPython.core.display.Image object>"
      ]
     },
     "execution_count": 6,
     "metadata": {
      "image/png": {
       "width": 800
      }
     },
     "output_type": "execute_result"
    }
   ],
   "source": [
    "display(HTML('<figcaption> Location of split cells toggle </figcaption>'))\n",
    "Image('files/pictures/split_cells.PNG', width = 800)"
   ]
  },
  {
   "cell_type": "markdown",
   "metadata": {},
   "source": [
    "And now it's very easy to layout cells side by side simply by toggling that button - just like so!"
   ]
  },
  {
   "cell_type": "code",
   "execution_count": 10,
   "metadata": {
    "cell_style": "split"
   },
   "outputs": [
    {
     "data": {
      "text/html": [
       "<style  type=\"text/css\" >\n",
       "</style>  \n",
       "<table id=\"T_f1cc055e_9aa8_11e9_94ff_acde48001122\" ><caption>Some table</caption> \n",
       "<thead>    <tr> \n",
       "        <th class=\"blank level0\" ></th> \n",
       "        <th class=\"col_heading level0 col0\" >sepal_length</th> \n",
       "        <th class=\"col_heading level0 col1\" >sepal_width</th> \n",
       "    </tr></thead> \n",
       "<tbody>    <tr> \n",
       "        <th id=\"T_f1cc055e_9aa8_11e9_94ff_acde48001122level0_row0\" class=\"row_heading level0 row0\" >0</th> \n",
       "        <td id=\"T_f1cc055e_9aa8_11e9_94ff_acde48001122row0_col0\" class=\"data row0 col0\" >5.1</td> \n",
       "        <td id=\"T_f1cc055e_9aa8_11e9_94ff_acde48001122row0_col1\" class=\"data row0 col1\" >3.5</td> \n",
       "    </tr>    <tr> \n",
       "        <th id=\"T_f1cc055e_9aa8_11e9_94ff_acde48001122level0_row1\" class=\"row_heading level0 row1\" >1</th> \n",
       "        <td id=\"T_f1cc055e_9aa8_11e9_94ff_acde48001122row1_col0\" class=\"data row1 col0\" >4.9</td> \n",
       "        <td id=\"T_f1cc055e_9aa8_11e9_94ff_acde48001122row1_col1\" class=\"data row1 col1\" >3</td> \n",
       "    </tr>    <tr> \n",
       "        <th id=\"T_f1cc055e_9aa8_11e9_94ff_acde48001122level0_row2\" class=\"row_heading level0 row2\" >2</th> \n",
       "        <td id=\"T_f1cc055e_9aa8_11e9_94ff_acde48001122row2_col0\" class=\"data row2 col0\" >4.7</td> \n",
       "        <td id=\"T_f1cc055e_9aa8_11e9_94ff_acde48001122row2_col1\" class=\"data row2 col1\" >3.2</td> \n",
       "    </tr>    <tr> \n",
       "        <th id=\"T_f1cc055e_9aa8_11e9_94ff_acde48001122level0_row3\" class=\"row_heading level0 row3\" >3</th> \n",
       "        <td id=\"T_f1cc055e_9aa8_11e9_94ff_acde48001122row3_col0\" class=\"data row3 col0\" >4.6</td> \n",
       "        <td id=\"T_f1cc055e_9aa8_11e9_94ff_acde48001122row3_col1\" class=\"data row3 col1\" >3.1</td> \n",
       "    </tr>    <tr> \n",
       "        <th id=\"T_f1cc055e_9aa8_11e9_94ff_acde48001122level0_row4\" class=\"row_heading level0 row4\" >4</th> \n",
       "        <td id=\"T_f1cc055e_9aa8_11e9_94ff_acde48001122row4_col0\" class=\"data row4 col0\" >5</td> \n",
       "        <td id=\"T_f1cc055e_9aa8_11e9_94ff_acde48001122row4_col1\" class=\"data row4 col1\" >3.6</td> \n",
       "    </tr></tbody> \n",
       "</table> "
      ],
      "text/plain": [
       "<pandas.io.formats.style.Styler at 0x114058cf8>"
      ]
     },
     "execution_count": 10,
     "metadata": {},
     "output_type": "execute_result"
    }
   ],
   "source": [
    "# Code on the left\n",
    "import seaborn as sns\n",
    "df = sns.load_dataset('iris')\n",
    "df.iloc[:, 0:2].head().style.set_caption('Some table')"
   ]
  },
  {
   "cell_type": "code",
   "execution_count": 11,
   "metadata": {
    "cell_style": "split"
   },
   "outputs": [
    {
     "data": {
      "text/html": [
       "<figcaption> Some plot </figcaption>"
      ],
      "text/plain": [
       "<IPython.core.display.HTML object>"
      ]
     },
     "metadata": {},
     "output_type": "display_data"
    },
    {
     "data": {
      "image/png": "[encoded data removed]",
      "text/plain": [
       "<Figure size 432x288 with 1 Axes>"
      ]
     },
     "metadata": {
      "needs_background": "light"
     },
     "output_type": "display_data"
    }
   ],
   "source": [
    "# Code on the right\n",
    "import matplotlib.pyplot as plt\n",
    "display(HTML('<figcaption> Some plot </figcaption>'))\n",
    "plt.scatter(df['sepal_length'], df['sepal_width']);"
   ]
  },
  {
   "cell_type": "code",
   "execution_count": 7,
   "metadata": {},
   "outputs": [
    {
     "data": {
      "text/html": [
       "<div class = \"commenter1\"> \n",
       "    <b>Note:</b> The extension only shows code cells as being split. \n",
       "    It is also possible to split Markdown cells, but it <u>won't show up in the Notebook view (it will only show when you export to HTML)</u>.\n",
       "    If this is something you really want, edit the cell Metadata and set: \"cell_style\": \"split\"\n",
       "</div>"
      ],
      "text/plain": [
       "<IPython.core.display.HTML object>"
      ]
     },
     "metadata": {},
     "output_type": "display_data"
    }
   ],
   "source": [
    "display(HTML('''<div class = \"commenter1\"> \n",
    "    <b>Note:</b> The extension only shows code cells as being split. \n",
    "    It is also possible to split Markdown cells, but it <u>won't show up in the Notebook view (it will only show when you export to HTML)</u>.\n",
    "    If this is something you really want, edit the cell Metadata and set: \"cell_style\": \"split\"\n",
    "</div>'''))"
   ]
  },
  {
   "cell_type": "markdown",
   "metadata": {
    "cell_style": "split"
   },
   "source": [
    "See, we can have markdown..."
   ]
  },
  {
   "cell_type": "markdown",
   "metadata": {
    "cell_style": "split"
   },
   "source": [
    "... In split cell format"
   ]
  },
  {
   "cell_type": "markdown",
   "metadata": {
    "extensions": {
     "jupyter_dashboards": {
      "version": 1,
      "views": {
       "grid_default": {},
       "report_default": {}
      }
     }
    }
   },
   "source": [
    "\n",
    "## Copy custom template files\n",
    "\n",
    "Unfortunately, that's not the end of the story.  The standard extension only works in the Notebook view. If you try to export it, you will find that the cells just return to the usual report layout.  The way to fix this is by applying a custom template file. \n",
    "\n",
    "First, we need to find the folder in which your jupyter extensions are saved.  Run the following command:"
   ]
  },
  {
   "cell_type": "code",
   "execution_count": 2,
   "metadata": {
    "extensions": {
     "jupyter_dashboards": {
      "version": 1,
      "views": {
       "grid_default": {},
       "report_default": {}
      }
     }
    }
   },
   "outputs": [
    {
     "name": "stdout",
     "output_type": "stream",
     "text": [
      "Name: jupyter-contrib-nbextensions\r\n",
      "Version: 0.5.1\r\n",
      "Summary: A collection of Jupyter nbextensions.\r\n",
      "Home-page: https://github.com/ipython-contrib/jupyter_contrib_nbextensions.git\r\n",
      "Author: ipython-contrib and jupyter-contrib developers\r\n",
      "Author-email: jupytercontrib@gmail.com\r\n",
      "License: BSD\r\n",
      "Location: /anaconda3/lib/python3.7/site-packages\r\n",
      "Requires: tornado, jupyter-contrib-core, jupyter-highlight-selected-word, jupyter-core, notebook, ipython-genutils, lxml, jupyter-nbextensions-configurator, pyyaml, jupyter-latex-envs, traitlets, nbconvert\r\n",
      "Required-by: \r\n"
     ]
    }
   ],
   "source": [
    "!pip show jupyter_contrib_nbextensions"
   ]
  },
  {
   "cell_type": "markdown",
   "metadata": {
    "extensions": {
     "jupyter_dashboards": {
      "version": 1,
      "views": {
       "grid_default": {},
       "report_default": {}
      }
     }
    }
   },
   "source": [
    "Look at the path under \"location\", and add '/jupyter_contrib_nbextensions/templates/' to it. \n",
    "\n",
    "For example, mine is at:\n",
    "\n",
    "    /anaconda3/lib/python3.7/site-packages/jupyter_contrib_nbextensions/templates/\n",
    "\n",
    "This is where the templates conversion folder is kept."
   ]
  },
  {
   "cell_type": "markdown",
   "metadata": {
    "extensions": {
     "jupyter_dashboards": {
      "version": 1,
      "views": {
       "grid_default": {},
       "report_default": {}
      }
     }
    }
   },
   "source": [
    "Copy the following files from this location in the repo:\n",
    "    \n",
    "    custom_templates/\n",
    "        ricardo_dash.tpl\n",
    "        ricardo_dash_with_TOC.tpl    \n"
   ]
  },
  {
   "cell_type": "markdown",
   "metadata": {},
   "source": [
    "## Exporting\n",
    "\n",
    "Make sure you have the Ricardo stylesheet enabled - use the guide if you aren't sure. \n",
    "\n",
    "Now you can use the following commands to export your document to html:\n",
    "\n",
    "* For a version <u>without</u> table of contents:\n",
    "    `jupyter nbconvert name.ipynb --template ricardo_dash `\n",
    "    \n",
    "    \n",
    "* For a version with table of contents\n",
    " `jupyter nbconvert name.ipynb --template ricardo_dash_with_TOC`\n"
   ]
  },
  {
   "cell_type": "code",
   "execution_count": 16,
   "metadata": {},
   "outputs": [
    {
     "data": {
      "text/html": [
       "<div class = \"todo\"> \n",
       "    <b>Important!:</b> You <u><b>must</u></b> have the Ricardo stylesheet enabled in your notebook for the export to work.\n",
       "    The stylesheet contains custom functions that enable rendering of the split cell layout to HTML. \n",
       "</div>"
      ],
      "text/plain": [
       "<IPython.core.display.HTML object>"
      ]
     },
     "metadata": {},
     "output_type": "display_data"
    }
   ],
   "source": [
    "display(HTML('''<div class = \"todo\"> \n",
    "    <b>Important!:</b> You <u><b>must</u></b> have the Ricardo stylesheet enabled in your notebook for the export to work.\n",
    "    The stylesheet contains custom functions that enable rendering of the split cell layout to HTML. \n",
    "</div>'''))"
   ]
  },
  {
   "cell_type": "code",
   "execution_count": 8,
   "metadata": {},
   "outputs": [
    {
     "data": {
      "text/html": [
       "<div class = \"todo\"> \n",
       "    <b>EXTRA IMPORTANT!:</b> Please download the ricardo_stylesheet.css again if you have been using an earlier version. \n",
       "    The new version contains additional code that allows for the exporting\n",
       "</div>"
      ],
      "text/plain": [
       "<IPython.core.display.HTML object>"
      ]
     },
     "metadata": {},
     "output_type": "display_data"
    }
   ],
   "source": [
    "display(HTML('''<div class = \"todo\"> \n",
    "    <b>EXTRA IMPORTANT!:</b> Please download the ricardo_stylesheet.css again if you have been using an earlier version. \n",
    "    The new version contains additional code that allows for the exporting\n",
    "</div>'''))"
   ]
  },
  {
   "cell_type": "code",
   "execution_count": 9,
   "metadata": {},
   "outputs": [
    {
     "data": {
      "text/html": [
       "\n",
       "<hr> \n",
       "<div class = 'footnote' position = 'static'>\n",
       "Please contact gena.gibson@ricardo.com with any suggestions <br>\n",
       "Version last updated on 29 July 2019\n",
       "</div>"
      ],
      "text/plain": [
       "<IPython.core.display.HTML object>"
      ]
     },
     "metadata": {},
     "output_type": "display_data"
    }
   ],
   "source": [
    "display(HTML('''\n",
    "<hr> \n",
    "<div class = 'footnote' position = 'static'>\n",
    "Please contact gena.gibson@ricardo.com with any suggestions <br>\n",
    "Version last updated on 29 July 2019\n",
    "</div>'''))"
   ]
  }
 ],
 "metadata": {
  "celltoolbar": "Edit Metadata",
  "extensions": {
   "jupyter_dashboards": {
    "activeView": "grid_default",
    "version": 1,
    "views": {
     "grid_default": {
      "cellMargin": 10,
      "defaultCellHeight": 20,
      "maxColumns": 12,
      "name": "grid",
      "type": "grid"
     },
     "report_default": {
      "name": "report",
      "type": "report"
     }
    }
   }
  },
  "hide_input": true,
  "kernelspec": {
   "display_name": "Python 3",
   "language": "python",
   "name": "python3"
  },
  "language_info": {
   "codemirror_mode": {
    "name": "ipython",
    "version": 3
   },
   "file_extension": ".py",
   "mimetype": "text/x-python",
   "name": "python",
   "nbconvert_exporter": "python",
   "pygments_lexer": "ipython3",
   "version": "3.7.2"
  },
  "toc": {
   "base_numbering": 1,
   "nav_menu": {},
   "number_sections": true,
   "sideBar": true,
   "skip_h1_title": true,
   "title_cell": "Table of Contents",
   "title_sidebar": "Contents",
   "toc_cell": false,
   "toc_position": {
    "height": "calc(100% - 180px)",
    "left": "10px",
    "top": "150px",
    "width": "285.764px"
   },
   "toc_section_display": true,
   "toc_window_display": true
  },
  "varInspector": {
   "cols": {
    "lenName": 16,
    "lenType": 16,
    "lenVar": 40
   },
   "kernels_config": {
    "python": {
     "delete_cmd_postfix": "",
     "delete_cmd_prefix": "del ",
     "library": "var_list.py",
     "varRefreshCmd": "print(var_dic_list())"
    },
    "r": {
     "delete_cmd_postfix": ") ",
     "delete_cmd_prefix": "rm(",
     "library": "var_list.r",
     "varRefreshCmd": "cat(var_dic_list()) "
    }
   },
   "types_to_exclude": [
    "module",
    "function",
    "builtin_function_or_method",
    "instance",
    "_Feature"
   ],
   "window_display": false
  }
 },
 "nbformat": 4,
 "nbformat_minor": 2
}
