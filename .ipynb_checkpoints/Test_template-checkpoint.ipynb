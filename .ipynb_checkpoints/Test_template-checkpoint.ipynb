{
 "cells": [
  {
   "cell_type": "code",
   "execution_count": 8,
   "metadata": {
    "extensions": {
     "jupyter_dashboards": {
      "version": 1,
      "views": {
       "grid_default": {},
       "report_default": {}
      }
     }
    }
   },
   "outputs": [],
   "source": [
    "from IPython.core.display import HTML, Image, display"
   ]
  },
  {
   "cell_type": "code",
   "execution_count": 40,
   "metadata": {
    "extensions": {
     "jupyter_dashboards": {
      "version": 1,
      "views": {
       "grid_default": {},
       "report_default": {}
      }
     }
    }
   },
   "outputs": [
    {
     "data": {
      "text/html": [
       "<style>\n",
       "\n",
       "\n",
       "/* Headings */\n",
       "\n",
       "/* Dummy added as it does not seem to render the first one */\n",
       "\n",
       "h1, h2, h3, h4, h5, h6, body, p, div, table, th, td, thead, caption, article, figcaption {}\n",
       "\n",
       "h1, h2, h3, h4 {\n",
       "    font-family: Arial, \"Helvetica Neue\", Helvetica, sans-serif;\n",
       "    padding-top: 3pt;\n",
       "    padding-bottom: 3pt;\n",
       "    text-align: left;\n",
       "    color: #0070C0 !important;\n",
       "}\n",
       "\n",
       "h1 {font-size: 20pt; text-align: center}\n",
       "h2 {font-size: 20pt;}\n",
       "h3 {font-size: 16pt;}\n",
       "h4 {font-size: 12pt;}\n",
       "\n",
       "/* Chapter numbering */\n",
       "/* Need to reset all counters at the same time if using the same element */\n",
       "body {counter-reset: h2 0 tables 0 figures 0}\n",
       "h2 {counter-reset: h3 0 }\n",
       "h3 {counter-reset: h4 0 }\n",
       "h4 {counter-reset: h5}\n",
       "h5 {counter-reset: h6}\n",
       "\n",
       "h2:before {counter-increment: h2; content: counter(h2) \". \"}\n",
       "h3:before {counter-increment: h3; content: counter(h2) \".\" counter(h3) \". \"}\n",
       "h4:before {counter-increment: h4; content: counter(h2) \".\" counter(h3) \".\" counter(h4) \". \"}\n",
       "h5:before {counter-increment: h5; content: counter(h2) \".\" counter(h3) \".\" counter(h4) \".\" counter(h5) \". \"}\n",
       "h6:before {counter-increment: h6; content: counter(h2) \".\" counter(h3) \".\" counter(h4) \".\" counter(h5) \".\" counter(h6) \". \"}\n",
       "\n",
       "h2.nocount:before, h3.nocount:before, h4.nocount:before, h5.nocount:before, h6.nocount:before { content: \"\"; counter-increment: none }\n",
       "\n",
       "/* Body text */\n",
       "p, body {\n",
       "    font-family: Arial, \"Helvetica Neue\", Helvetica, sans-serif;\n",
       "    font-size: 11pt;\n",
       "    color: black;\n",
       "}\n",
       "\n",
       "/* Tables */\n",
       "table, th, td {border: 1px solid black;}\n",
       "table { border-collapse: collapse;}\n",
       "thead {background-color: #0070C0; color: white;}\n",
       "\n",
       ".rendered_html table, .rendered_html td, .rendered_html th {\n",
       "    border: 1px solid black !important;\n",
       "}\n",
       "\n",
       "\n",
       "/* Captions */\n",
       "caption, figcaption {\n",
       "    color: black !important;\n",
       "    font-size: 10pt;\n",
       "    font-weight: bold;\n",
       "    text-align: left;\n",
       "}\n",
       "\n",
       "caption:before {counter-increment: tables; content: \"Table \" counter(tables) \". \"}\n",
       "figcaption:before {counter-increment: figures; content: \"Figure \" counter(figures) \". \"}\n",
       "\n",
       "/* Comments */\n",
       "div.todo {\n",
       "    background-color: #fcf2f2;\n",
       "    border-color: #dFb5b4;\n",
       "    border-left: 5px solid #dfb5b4;\n",
       "    padding: 0.5em;\n",
       "    }\n",
       "\n",
       "div.commenter1 {\n",
       "    background-color: lemonchiffon;\n",
       "    border-color: black;\n",
       "    border-left: 5px solid gold;\n",
       "    padding: 0.5em;\n",
       "    }\n",
       "\n",
       "div.commenter2 {\n",
       "    background-color: lightcyan;\n",
       "    border-color: black;\n",
       "    border-left: 5px solid cyan;\n",
       "    padding: 0.5em;\n",
       "    }\n",
       "\n",
       "div.commenter3 {\n",
       "    background-color: lavender;\n",
       "    border-color: black;\n",
       "    border-left: 5px solid blueviolet;\n",
       "    padding: 0.5em;\n",
       "    }\n",
       "\n",
       "\n",
       "\n",
       "\n",
       "</style>"
      ],
      "text/plain": [
       "<IPython.core.display.HTML object>"
      ]
     },
     "execution_count": 40,
     "metadata": {},
     "output_type": "execute_result"
    }
   ],
   "source": [
    "# Styling\n",
    "custom_style_file = 'styles/styles.css'\n",
    "styles = open(custom_style_file, 'r').read()\n",
    "HTML(styles)"
   ]
  },
  {
   "cell_type": "code",
   "execution_count": 3,
   "metadata": {
    "extensions": {
     "jupyter_dashboards": {
      "version": 1,
      "views": {
       "grid_default": {},
       "report_default": {}
      }
     }
    }
   },
   "outputs": [
    {
     "data": {
      "text/html": [
       "<script>\n",
       "  function code_toggle() {\n",
       "    if (code_shown){\n",
       "      $('div.input').hide('500');\n",
       "      $('#toggleButton').val('Show Code')\n",
       "    } else {\n",
       "      $('div.input').show('500');\n",
       "      $('#toggleButton').val('Hide Code')\n",
       "    }\n",
       "    code_shown = !code_shown\n",
       "  }\n",
       "\n",
       "  $( document ).ready(function(){\n",
       "    code_shown=false;\n",
       "    $('div.input').hide()\n",
       "  });\n",
       "</script>\n",
       "<form action=\"javascript:code_toggle()\"><input type=\"submit\" id=\"toggleButton\" value=\"Show Code\"></form>"
      ],
      "text/plain": [
       "<IPython.core.display.HTML object>"
      ]
     },
     "execution_count": 3,
     "metadata": {},
     "output_type": "execute_result"
    }
   ],
   "source": [
    "# Hide code cells\n",
    "HTML('''<script>\n",
    "  function code_toggle() {\n",
    "    if (code_shown){\n",
    "      $('div.input').hide('500');\n",
    "      $('#toggleButton').val('Show Code')\n",
    "    } else {\n",
    "      $('div.input').show('500');\n",
    "      $('#toggleButton').val('Hide Code')\n",
    "    }\n",
    "    code_shown = !code_shown\n",
    "  }\n",
    "\n",
    "  $( document ).ready(function(){\n",
    "    code_shown=false;\n",
    "    $('div.input').hide()\n",
    "  });\n",
    "</script>\n",
    "<form action=\"javascript:code_toggle()\"><input type=\"submit\" id=\"toggleButton\" value=\"Show Code\"></form>''')"
   ]
  },
  {
   "cell_type": "code",
   "execution_count": 4,
   "metadata": {
    "extensions": {
     "jupyter_dashboards": {
      "version": 1,
      "views": {
       "grid_default": {},
       "report_default": {}
      }
     }
    }
   },
   "outputs": [],
   "source": [
    "# Optional: remove In[] / Out []\n",
    "# HTML('''<style>.prompt{display: None;}</style> ''')"
   ]
  },
  {
   "cell_type": "code",
   "execution_count": 1,
   "metadata": {
    "extensions": {
     "jupyter_dashboards": {
      "version": 1,
      "views": {
       "grid_default": {},
       "report_default": {}
      }
     }
    }
   },
   "outputs": [],
   "source": [
    "import os\n",
    "import pandas as pd\n",
    "import numpy as np\n",
    "import matplotlib.pyplot as plt\n",
    "%matplotlib inline\n",
    "\n",
    "import matplotlib as mpl\n"
   ]
  },
  {
   "cell_type": "code",
   "execution_count": 12,
   "metadata": {
    "extensions": {
     "jupyter_dashboards": {
      "version": 1,
      "views": {
       "grid_default": {},
       "report_default": {}
      }
     }
    }
   },
   "outputs": [
    {
     "data": {
      "image/png": "[encoded data removed]",
      "text/plain": [
       "<IPython.core.display.Image object>"
      ]
     },
     "execution_count": 12,
     "metadata": {
      "image/png": {
       "width": 80
      }
     },
     "output_type": "execute_result"
    }
   ],
   "source": [
    "path = os.getcwd()\n",
    "Image(filename = path + \"/styles/ricardo_logo.png\", width = 80, embed = True)"
   ]
  },
  {
   "cell_type": "markdown",
   "metadata": {
    "extensions": {
     "jupyter_dashboards": {
      "version": 1,
      "views": {
       "grid_default": {},
       "report_default": {}
      }
     }
    }
   },
   "source": [
    "<hr>\n",
    "\n",
    "# Ricardo template for Jupyter Notebooks\n",
    "\n",
    "## Intro\n",
    "\n",
    "This template provides functionality to create reports with a consistent look and feel. \n",
    "\n",
    "### Useful extensions\n",
    "\n",
    "Nbextensions offers a lot of useful tools. You can enable this on your machine by following the instructions here: https://jupyter-contrib-nbextensions.readthedocs.io/en/latest/install.html\n",
    "\n",
    "Run the following:\n",
    "\n",
    "    pip install jupyter_contrib_nbextensions\n",
    "    jupyter contrib nbextension install --user\n",
    "    \n",
    "Restart the notebook and navigate to the Nbextensions tab. Useful extensions to enable are:\n",
    "\n",
    "* Codefolding\n",
    "* RISE (for presentations)\n",
    "* spellchecker\n",
    "* table_beautifier\n",
    "* Autopep8\n",
    "\n",
    "### Dashboard extension\n",
    "\n",
    "The dashboards layout extension is an add-on for Jupyter Notebook. It lets you arrange your notebook outputs (text, plots, widgets, …) in grid- or report-like layouts: https://jupyter-dashboards-layout.readthedocs.io/en/latest/\n",
    "\n"
   ]
  },
  {
   "cell_type": "markdown",
   "metadata": {
    "extensions": {
     "jupyter_dashboards": {
      "version": 1,
      "views": {
       "grid_default": {},
       "report_default": {}
      }
     }
    }
   },
   "source": [
    "## Headings\n",
    "The headings should be automatically numbered\n",
    "\n",
    "### Example heading - section\n",
    "### Example heading - section\n",
    "#### Example heading - subsection\n",
    "#### Example heading - subsection\n"
   ]
  },
  {
   "cell_type": "markdown",
   "metadata": {
    "extensions": {
     "jupyter_dashboards": {
      "version": 1,
      "views": {
       "grid_default": {},
       "report_default": {}
      }
     }
    }
   },
   "source": [
    "## Tables and figures\n",
    "\n",
    "### Tables\n",
    "\n",
    "Use `style.set_caption` to add numbered captions for tables"
   ]
  },
  {
   "cell_type": "code",
   "execution_count": 26,
   "metadata": {
    "extensions": {
     "jupyter_dashboards": {
      "version": 1,
      "views": {
       "grid_default": {},
       "report_default": {}
      }
     }
    }
   },
   "outputs": [
    {
     "data": {
      "text/html": [
       "<style  type=\"text/css\" >\n",
       "</style>  \n",
       "<table id=\"T_12acda70_8b4d_11e9_8c86_acde48001122\" ><caption>Example table</caption> \n",
       "<thead>    <tr> \n",
       "        <th class=\"blank level0\" ></th> \n",
       "        <th class=\"col_heading level0 col0\" >Col 1</th> \n",
       "        <th class=\"col_heading level0 col1\" >Col 2</th> \n",
       "        <th class=\"col_heading level0 col2\" >Col 3</th> \n",
       "    </tr></thead> \n",
       "<tbody>    <tr> \n",
       "        <th id=\"T_12acda70_8b4d_11e9_8c86_acde48001122level0_row0\" class=\"row_heading level0 row0\" >Row 1</th> \n",
       "        <td id=\"T_12acda70_8b4d_11e9_8c86_acde48001122row0_col0\" class=\"data row0 col0\" >1</td> \n",
       "        <td id=\"T_12acda70_8b4d_11e9_8c86_acde48001122row0_col1\" class=\"data row0 col1\" >2</td> \n",
       "        <td id=\"T_12acda70_8b4d_11e9_8c86_acde48001122row0_col2\" class=\"data row0 col2\" >3</td> \n",
       "    </tr>    <tr> \n",
       "        <th id=\"T_12acda70_8b4d_11e9_8c86_acde48001122level0_row1\" class=\"row_heading level0 row1\" >Row 2</th> \n",
       "        <td id=\"T_12acda70_8b4d_11e9_8c86_acde48001122row1_col0\" class=\"data row1 col0\" >4</td> \n",
       "        <td id=\"T_12acda70_8b4d_11e9_8c86_acde48001122row1_col1\" class=\"data row1 col1\" >5</td> \n",
       "        <td id=\"T_12acda70_8b4d_11e9_8c86_acde48001122row1_col2\" class=\"data row1 col2\" >6</td> \n",
       "    </tr></tbody> \n",
       "</table> "
      ],
      "text/plain": [
       "<pandas.io.formats.style.Styler at 0x11fbb5320>"
      ]
     },
     "metadata": {},
     "output_type": "display_data"
    }
   ],
   "source": [
    "data = np.array([[1, 2, 3], [4, 5, 6]])\n",
    "table = pd.DataFrame(data = data,\n",
    "                    index = ('Row 1', 'Row 2'),\n",
    "                    columns = ['Col 1', 'Col 2', 'Col 3'])\n",
    "\n",
    "table.style.set_caption('Example table')\n"
   ]
  },
  {
   "cell_type": "code",
   "execution_count": 17,
   "metadata": {
    "extensions": {
     "jupyter_dashboards": {
      "version": 1,
      "views": {
       "grid_default": {},
       "report_default": {}
      }
     }
    }
   },
   "outputs": [
    {
     "data": {
      "text/html": [
       "<style  type=\"text/css\" >\n",
       "</style>  \n",
       "<table id=\"T_99b89aba_8b4b_11e9_8c86_acde48001122\" ><caption>Example table</caption> \n",
       "<thead>    <tr> \n",
       "        <th class=\"blank level0\" ></th> \n",
       "        <th class=\"col_heading level0 col0\" >Col 1</th> \n",
       "        <th class=\"col_heading level0 col1\" >Col 2</th> \n",
       "        <th class=\"col_heading level0 col2\" >Col 3</th> \n",
       "    </tr></thead> \n",
       "<tbody>    <tr> \n",
       "        <th id=\"T_99b89aba_8b4b_11e9_8c86_acde48001122level0_row0\" class=\"row_heading level0 row0\" >Row 1</th> \n",
       "        <td id=\"T_99b89aba_8b4b_11e9_8c86_acde48001122row0_col0\" class=\"data row0 col0\" >1</td> \n",
       "        <td id=\"T_99b89aba_8b4b_11e9_8c86_acde48001122row0_col1\" class=\"data row0 col1\" >2</td> \n",
       "        <td id=\"T_99b89aba_8b4b_11e9_8c86_acde48001122row0_col2\" class=\"data row0 col2\" >3</td> \n",
       "    </tr>    <tr> \n",
       "        <th id=\"T_99b89aba_8b4b_11e9_8c86_acde48001122level0_row1\" class=\"row_heading level0 row1\" >Row 2</th> \n",
       "        <td id=\"T_99b89aba_8b4b_11e9_8c86_acde48001122row1_col0\" class=\"data row1 col0\" >4</td> \n",
       "        <td id=\"T_99b89aba_8b4b_11e9_8c86_acde48001122row1_col1\" class=\"data row1 col1\" >5</td> \n",
       "        <td id=\"T_99b89aba_8b4b_11e9_8c86_acde48001122row1_col2\" class=\"data row1 col2\" >6</td> \n",
       "    </tr></tbody> \n",
       "</table> "
      ],
      "text/plain": [
       "<pandas.io.formats.style.Styler at 0x11fbd0f28>"
      ]
     },
     "execution_count": 17,
     "metadata": {},
     "output_type": "execute_result"
    }
   ],
   "source": [
    "# Numbers should update automatically\n",
    "table.style.set_caption('Example table')"
   ]
  },
  {
   "cell_type": "markdown",
   "metadata": {
    "extensions": {
     "jupyter_dashboards": {
      "version": 1,
      "views": {
       "grid_default": {},
       "report_default": {}
      }
     }
    }
   },
   "source": [
    "## Figures\n",
    "\n",
    "Since we might use various programms to create figures, the captions are created using HTML tag `<figcaption>` and automatically numbered in the same way as for tables. \n",
    "\n",
    "To display HTML from within a code cell, we need to wrap the tag in `display(HTML())` as shown below."
   ]
  },
  {
   "cell_type": "code",
   "execution_count": 9,
   "metadata": {
    "extensions": {
     "jupyter_dashboards": {
      "version": 1,
      "views": {
       "grid_default": {},
       "report_default": {}
      }
     }
    }
   },
   "outputs": [
    {
     "data": {
      "text/html": [
       "<figcaption> Example figure </figcaption>"
      ],
      "text/plain": [
       "<IPython.core.display.HTML object>"
      ]
     },
     "metadata": {},
     "output_type": "display_data"
    },
    {
     "data": {
      "image/png": "[encoded data removed]",
      "text/plain": [
       "<Figure size 432x288 with 1 Axes>"
      ]
     },
     "metadata": {
      "needs_background": "light"
     },
     "output_type": "display_data"
    }
   ],
   "source": [
    "display(HTML('<figcaption> Example figure </figcaption>'))\n",
    "fig = plt.plot(table['Col 1'], table['Col 2']);\n"
   ]
  },
  {
   "cell_type": "markdown",
   "metadata": {
    "extensions": {
     "jupyter_dashboards": {
      "version": 1,
      "views": {
       "grid_default": {},
       "report_default": {}
      }
     }
    }
   },
   "source": [
    "\n",
    "## Internal comments\n",
    "\n",
    "Several built-in styles are provided to make commenting easier. These can be rendered in Markdown cells or in code."
   ]
  },
  {
   "cell_type": "code",
   "execution_count": 10,
   "metadata": {
    "extensions": {
     "jupyter_dashboards": {
      "version": 1,
      "views": {
       "grid_default": {},
       "report_default": {}
      }
     }
    }
   },
   "outputs": [
    {
     "data": {
      "text/html": [
       "<div class = \"todo\"> \n",
       "    Note: Things to do \n",
       "</div>"
      ],
      "text/plain": [
       "<IPython.core.display.HTML object>"
      ]
     },
     "metadata": {},
     "output_type": "display_data"
    }
   ],
   "source": [
    "display(HTML('''<div class = \"todo\"> \n",
    "    Note: Things to do. This will be visible in exported HTML\n",
    "</div>'''))"
   ]
  },
  {
   "cell_type": "markdown",
   "metadata": {
    "extensions": {
     "jupyter_dashboards": {
      "version": 1,
      "views": {
       "grid_default": {},
       "report_default": {}
      }
     }
    }
   },
   "source": [
    "<div class = 'commenter1'>\n",
    "    Markdown: Comments from first author. Markdown will not be rendered in HTML\n",
    "</div>"
   ]
  },
  {
   "cell_type": "markdown",
   "metadata": {
    "extensions": {
     "jupyter_dashboards": {
      "version": 1,
      "views": {
       "grid_default": {},
       "report_default": {}
      }
     }
    }
   },
   "source": [
    "<div class = 'commenter2'>\n",
    "    Comments from second author\n",
    "</div>\n",
    "\n",
    "<div class = 'commenter3'>\n",
    "    Comments from third author\n",
    "</div>"
   ]
  },
  {
   "cell_type": "code",
   "execution_count": null,
   "metadata": {
    "extensions": {
     "jupyter_dashboards": {
      "version": 1,
      "views": {
       "grid_default": {},
       "report_default": {}
      }
     }
    }
   },
   "outputs": [],
   "source": []
  },
  {
   "cell_type": "code",
   "execution_count": null,
   "metadata": {
    "extensions": {
     "jupyter_dashboards": {
      "version": 1,
      "views": {
       "grid_default": {},
       "report_default": {}
      }
     }
    }
   },
   "outputs": [],
   "source": []
  }
 ],
 "metadata": {
  "extensions": {
   "jupyter_dashboards": {
    "activeView": "grid_default",
    "version": 1,
    "views": {
     "grid_default": {
      "cellMargin": 10,
      "defaultCellHeight": 20,
      "maxColumns": 12,
      "name": "grid",
      "type": "grid"
     },
     "report_default": {
      "name": "report",
      "type": "report"
     }
    }
   }
  },
  "kernelspec": {
   "display_name": "Python 3",
   "language": "python",
   "name": "python3"
  },
  "language_info": {
   "codemirror_mode": {
    "name": "ipython",
    "version": 3
   },
   "file_extension": ".py",
   "mimetype": "text/x-python",
   "name": "python",
   "nbconvert_exporter": "python",
   "pygments_lexer": "ipython3",
   "version": "3.7.2"
  },
  "varInspector": {
   "cols": {
    "lenName": 16,
    "lenType": 16,
    "lenVar": 40
   },
   "kernels_config": {
    "python": {
     "delete_cmd_postfix": "",
     "delete_cmd_prefix": "del ",
     "library": "var_list.py",
     "varRefreshCmd": "print(var_dic_list())"
    },
    "r": {
     "delete_cmd_postfix": ") ",
     "delete_cmd_prefix": "rm(",
     "library": "var_list.r",
     "varRefreshCmd": "cat(var_dic_list()) "
    }
   },
   "types_to_exclude": [
    "module",
    "function",
    "builtin_function_or_method",
    "instance",
    "_Feature"
   ],
   "window_display": false
  }
 },
 "nbformat": 4,
 "nbformat_minor": 2
}
