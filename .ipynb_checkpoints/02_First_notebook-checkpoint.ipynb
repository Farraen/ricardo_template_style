{
 "cells": [
  {
   "cell_type": "code",
   "execution_count": 73,
   "metadata": {
    "hide_input": true
   },
   "outputs": [
    {
     "data": {
      "text/html": [
       "<style>\n",
       "/* Version last updated: 19 June 2019 */\n",
       "\n",
       "\n",
       "/* Dummies added as it does not seem to render the first one */\n",
       "h1, h2, h3, h4, h5, h6, body, p, div, table, th, td, thead, caption, article, figcaption, footer, footnote {}\n",
       "\n",
       "\n",
       "/* Headings */\n",
       "h1, h2, h3, h4 {\n",
       "    font-family: Arial, \"Helvetica Neue\", Helvetica, sans-serif !important;\n",
       "    padding-top: 3pt;\n",
       "    padding-bottom: 3pt;\n",
       "    text-align: left;\n",
       "    color: #0070C0 !important;\n",
       "}\n",
       "\n",
       "h1 {font-size: 20pt; text-align: center}\n",
       "h2 {font-size: 20pt;}\n",
       "h3 {font-size: 16pt;}\n",
       "h4 {font-size: 12pt;}\n",
       "\n",
       "/* Chapter numbering - remove if using TOC */\n",
       "/* Need to reset all counters at the same time if using the same element */\n",
       "/* body {counter-reset: h2 0 tables 0 figures 0}\n",
       "h2 {counter-reset: h3 0}\n",
       "h3 {counter-reset: h4 0}\n",
       "h4 {counter-reset: h5 0}\n",
       "h5 {counter-reset: h6 0}\n",
       "\n",
       "h2:before {counter-increment: h2; content: counter(h2) \". \"}\n",
       "h3:before {counter-increment: h3; content: counter(h2) \".\" counter(h3) \". \"}\n",
       "h4:before {counter-increment: h4; content: counter(h2) \".\" counter(h3) \".\" counter(h4) \". \"}\n",
       "h5:before {counter-increment: h5; content: counter(h2) \".\" counter(h3) \".\" counter(h4) \".\" counter(h5) \". \"}\n",
       "h6:before {counter-increment: h6; content: counter(h2) \".\" counter(h3) \".\" counter(h4) \".\" counter(h5) \".\" counter(h6) \". \"}\n",
       "*/\n",
       "\n",
       "body {counter-reset: tables 0 figures 0}\n",
       "\n",
       "\n",
       "/* Body text */\n",
       "p, body {\n",
       "    font-family: Arial, \"Helvetica Neue\", Helvetica, sans-serif;\n",
       "    font-size: 11pt;\n",
       "    color: black;\n",
       "}\n",
       "\n",
       "/* Tables */\n",
       "table, th, td {border: 1px solid black;}\n",
       "table { border-collapse: collapse;}\n",
       "thead {background-color: #0070C0; color: white;}\n",
       "\n",
       ".rendered_html table, .rendered_html td, .rendered_html th {\n",
       "    border: 1px solid black !important;\n",
       "}\n",
       "\n",
       "\n",
       "/* Captions */\n",
       "caption, figcaption {\n",
       "    color: black !important;\n",
       "    font-size: 10pt;\n",
       "    font-weight: bold;\n",
       "    text-align: left;\n",
       "}\n",
       "\n",
       "caption:before {counter-increment: tables; content: \"Table \" counter(tables) \". \"}\n",
       "figcaption:before {counter-increment: figures; content: \"Figure \" counter(figures) \". \"}\n",
       "\n",
       "/* Comments */\n",
       "div.todo {\n",
       "    background-color: #fcf2f2;\n",
       "    border-color: #dFb5b4;\n",
       "    border-left: 5px solid #dfb5b4;\n",
       "    padding: 0.5em;\n",
       "    }\n",
       "\n",
       "div.commenter1 {\n",
       "    background-color: lemonchiffon;\n",
       "    border-color: black;\n",
       "    border-left: 5px solid gold;\n",
       "    padding: 0.5em;\n",
       "    }\n",
       "\n",
       "div.commenter2 {\n",
       "    background-color: lightcyan;\n",
       "    border-color: black;\n",
       "    border-left: 5px solid cyan;\n",
       "    padding: 0.5em;\n",
       "    }\n",
       "\n",
       "div.commenter3 {\n",
       "    background-color: lavender;\n",
       "    border-color: black;\n",
       "    border-left: 5px solid blueviolet;\n",
       "    padding: 0.5em;\n",
       "    }\n",
       "\n",
       "/* Footer */\n",
       "div.footnote {\n",
       "    font-size: 10pt;\n",
       "    font-style: italic;\n",
       "    color: DarkGray;\n",
       "    text-align: right;\n",
       "\n",
       "}\n",
       "\n",
       "</style>\n",
       "\n"
      ],
      "text/plain": [
       "<IPython.core.display.HTML object>"
      ]
     },
     "execution_count": 73,
     "metadata": {},
     "output_type": "execute_result"
    }
   ],
   "source": [
    "from IPython.core.display import HTML, Image, display\n",
    "\n",
    "# Run this cell to apply styling\n",
    "custom_style_file = 'styles/ricardo_stylesheet.css'\n",
    "styles = open(custom_style_file, 'r').read()\n",
    "HTML(styles)"
   ]
  },
  {
   "cell_type": "code",
   "execution_count": 74,
   "metadata": {
    "hide_input": false
   },
   "outputs": [
    {
     "data": {
      "image/png": "[encoded data removed]",
      "text/plain": [
       "<IPython.core.display.Image object>"
      ]
     },
     "execution_count": 74,
     "metadata": {
      "image/png": {
       "width": 80
      }
     },
     "output_type": "execute_result"
    }
   ],
   "source": [
    "Image(filename = 'styles/ricardo_logo.png', width = 80, embed = True)"
   ]
  },
  {
   "cell_type": "markdown",
   "metadata": {},
   "source": [
    "\n",
    "<hr>\n",
    "\n",
    "# Introduction to Python and its Numerical Stack\n"
   ]
  },
  {
   "cell_type": "markdown",
   "metadata": {},
   "source": [
    "## Intro\n",
    "\n",
    "We will refer to the Python 3 [documentation](https://docs.python.org/3/).\n",
    "\n",
    "<i> This notebook is adapted from Harvard CS109a material </i>"
   ]
  },
  {
   "cell_type": "code",
   "execution_count": 94,
   "metadata": {
    "hide_input": true
   },
   "outputs": [
    {
     "data": {
      "text/html": [
       "<div class = \"todo\"> \n",
       "    <b>Before you start, check that you have followed the other guidance:</b> <br>\n",
       "    Go to the GitHub repository: <a href https://github.com/genagibson/ricardo_template_style> https://github.com/genagibson/ricardo_template_style </a> <br>\n",
       "    Right click on '01_ricardo_template_style.html', select `save link as` and view in your browser, since GitHub will not render the html <br>\n",
       "    (check it is the html file, rather than the ipynb file)\n",
       "</div>"
      ],
      "text/plain": [
       "<IPython.core.display.HTML object>"
      ]
     },
     "metadata": {},
     "output_type": "display_data"
    }
   ],
   "source": [
    "display(HTML('''<div class = \"todo\"> \n",
    "    <b>Before you start, check that you have followed the other guidance:</b> <br>\n",
    "    Go to the GitHub repository: <a href https://github.com/genagibson/ricardo_template_style> https://github.com/genagibson/ricardo_template_style </a> <br>\n",
    "    Right click on '01_ricardo_template_style.html', select `save link as` and view in your browser, since GitHub will not render the html <br>\n",
    "    (check it is the html file, rather than the ipynb file)\n",
    "</div>'''))"
   ]
  },
  {
   "cell_type": "markdown",
   "metadata": {},
   "source": [
    "## Table of Contents \n",
    "<ol start=\"0\">\n",
    "<li> Learning Goals </li>\n",
    "<li> Getting Started</li>\n",
    "<li> Lists </li>\n",
    "<li> Simple Functions </li>\n",
    "<li> Numpy</li>\n",
    "<li> Scipy.stats and plotting distributions</li>\n",
    "<li> Conclusions </li>\n",
    " \n",
    "</ol>\n"
   ]
  },
  {
   "cell_type": "markdown",
   "metadata": {},
   "source": [
    "## Part 1: Getting Started"
   ]
  },
  {
   "cell_type": "markdown",
   "metadata": {},
   "source": [
    "### Importing modules\n",
    "All notebooks should begin with code that imports *modules*, collections of built-in, commonly-used Python functions.  Below we import the Numpy module, a fast numerical programming library for scientific computing.  Future labs will require additional modules, which is imported with the same `import MODULE_NAME as MODULE_NICKNAME` syntax."
   ]
  },
  {
   "cell_type": "code",
   "execution_count": 3,
   "metadata": {},
   "outputs": [],
   "source": [
    "import numpy as np #imports a fast numerical programming library"
   ]
  },
  {
   "cell_type": "markdown",
   "metadata": {},
   "source": [
    "At Ricardo, commonly used libraries are:\n"
   ]
  },
  {
   "cell_type": "code",
   "execution_count": 4,
   "metadata": {},
   "outputs": [
    {
     "data": {
      "text/html": [
       "<script type=\"text/javascript\">window.PlotlyConfig = {MathJaxConfig: 'local'};</script><script type=\"text/javascript\">if (window.MathJax) {MathJax.Hub.Config({SVG: {font: \"STIX-Web\"}});}</script><script>requirejs.config({paths: { 'plotly': ['https://cdn.plot.ly/plotly-latest.min']},});if(!window._Plotly) {require(['plotly'],function(plotly) {window._Plotly=plotly;});}</script>"
      ],
      "text/vnd.plotly.v1+html": [
       "<script type=\"text/javascript\">window.PlotlyConfig = {MathJaxConfig: 'local'};</script><script type=\"text/javascript\">if (window.MathJax) {MathJax.Hub.Config({SVG: {font: \"STIX-Web\"}});}</script><script>requirejs.config({paths: { 'plotly': ['https://cdn.plot.ly/plotly-latest.min']},});if(!window._Plotly) {require(['plotly'],function(plotly) {window._Plotly=plotly;});}</script>"
      ]
     },
     "metadata": {},
     "output_type": "display_data"
    },
    {
     "data": {
      "text/html": [
       "<script type=\"text/javascript\">window.PlotlyConfig = {MathJaxConfig: 'local'};</script><script type=\"text/javascript\">if (window.MathJax) {MathJax.Hub.Config({SVG: {font: \"STIX-Web\"}});}</script><script>requirejs.config({paths: { 'plotly': ['https://cdn.plot.ly/plotly-latest.min']},});if(!window._Plotly) {require(['plotly'],function(plotly) {window._Plotly=plotly;});}</script>"
      ],
      "text/vnd.plotly.v1+html": [
       "<script type=\"text/javascript\">window.PlotlyConfig = {MathJaxConfig: 'local'};</script><script type=\"text/javascript\">if (window.MathJax) {MathJax.Hub.Config({SVG: {font: \"STIX-Web\"}});}</script><script>requirejs.config({paths: { 'plotly': ['https://cdn.plot.ly/plotly-latest.min']},});if(!window._Plotly) {require(['plotly'],function(plotly) {window._Plotly=plotly;});}</script>"
      ]
     },
     "metadata": {},
     "output_type": "display_data"
    },
    {
     "data": {
      "text/html": [
       "<script type=\"text/javascript\">window.PlotlyConfig = {MathJaxConfig: 'local'};</script><script type=\"text/javascript\">if (window.MathJax) {MathJax.Hub.Config({SVG: {font: \"STIX-Web\"}});}</script><script>requirejs.config({paths: { 'plotly': ['https://cdn.plot.ly/plotly-latest.min']},});if(!window._Plotly) {require(['plotly'],function(plotly) {window._Plotly=plotly;});}</script>"
      ],
      "text/vnd.plotly.v1+html": [
       "<script type=\"text/javascript\">window.PlotlyConfig = {MathJaxConfig: 'local'};</script><script type=\"text/javascript\">if (window.MathJax) {MathJax.Hub.Config({SVG: {font: \"STIX-Web\"}});}</script><script>requirejs.config({paths: { 'plotly': ['https://cdn.plot.ly/plotly-latest.min']},});if(!window._Plotly) {require(['plotly'],function(plotly) {window._Plotly=plotly;});}</script>"
      ]
     },
     "metadata": {},
     "output_type": "display_data"
    }
   ],
   "source": [
    "# Numerical python\n",
    "import numpy as np\n",
    "import pandas as pd\n",
    "\n",
    "# iPython display\n",
    "from IPython.core.display import HTML, Image, display\n",
    "\n",
    "# Static plotting\n",
    "import matplotlib.pyplot as plt\n",
    "%matplotlib inline \n",
    "plt.style.use('seaborn-white')\n",
    "\n",
    "import seaborn as sns\n",
    "\n",
    "# Interactive plotting\n",
    "import plotly.plotly as py\n",
    "import plotly.graph_objs as go\n",
    "from plotly.offline import iplot, init_notebook_mode\n",
    "init_notebook_mode(connected=True)\n",
    "\n",
    "import cufflinks as cf\n",
    "cf.set_config_file(offline=True, \n",
    "                   world_readable=False, \n",
    "                   theme='white')"
   ]
  },
  {
   "cell_type": "markdown",
   "metadata": {},
   "source": [
    "When trying to import any of these libraries, you will encounter errors if they are not installed in your active environment. You can access the command line from within the notebook using `!`, and install missing libraries using pip. Run the following command in a code cell to install or upgrade libraries:\n",
    "\n",
    "    !pip install <library> --upgrade"
   ]
  },
  {
   "cell_type": "markdown",
   "metadata": {},
   "source": [
    "More advanced libraries:\n",
    "* sklearn for most machine learning models\n",
    "* stats models for OLS\n",
    "* keras/tensorflow for deep learning"
   ]
  },
  {
   "cell_type": "markdown",
   "metadata": {},
   "source": [
    "### Calculations and variables"
   ]
  },
  {
   "cell_type": "code",
   "execution_count": 5,
   "metadata": {},
   "outputs": [
    {
     "data": {
      "text/plain": [
       "(0.5, 0, 0.5, 9.600000000000001)"
      ]
     },
     "execution_count": 5,
     "metadata": {},
     "output_type": "execute_result"
    }
   ],
   "source": [
    "# // is integer division\n",
    "1/2, 1//2, 1.0/2.0, 3*3.2"
   ]
  },
  {
   "cell_type": "markdown",
   "metadata": {},
   "source": [
    "The last line in a cell is returned as the output value, as above.  For cells with multiple lines of results, we can display results using `print`."
   ]
  },
  {
   "cell_type": "code",
   "execution_count": 6,
   "metadata": {},
   "outputs": [
    {
     "name": "stdout",
     "output_type": "stream",
     "text": [
      "4.0\n"
     ]
    },
    {
     "data": {
      "text/plain": [
       "1.6666666666666667"
      ]
     },
     "execution_count": 6,
     "metadata": {},
     "output_type": "execute_result"
    }
   ],
   "source": [
    "print(1 + 3.0)\n",
    "5/3"
   ]
  },
  {
   "cell_type": "markdown",
   "metadata": {},
   "source": [
    "\n",
    "#### Pointers\n",
    "\n",
    "Let's assign a list to the variable a (more about what a list is later):"
   ]
  },
  {
   "cell_type": "code",
   "execution_count": 7,
   "metadata": {},
   "outputs": [],
   "source": [
    "a = [1, 2, 3]"
   ]
  },
  {
   "cell_type": "markdown",
   "metadata": {},
   "source": [
    "Think of a variable as a label for a value, not a box in which you put the value"
   ]
  },
  {
   "cell_type": "code",
   "execution_count": 8,
   "metadata": {},
   "outputs": [
    {
     "data": {
      "text/plain": [
       "[1, 2, 3]"
      ]
     },
     "execution_count": 8,
     "metadata": {},
     "output_type": "execute_result"
    }
   ],
   "source": [
    "# set b = a\n",
    "b = a\n",
    "\n",
    "# Check the value of b\n",
    "b"
   ]
  },
  {
   "cell_type": "markdown",
   "metadata": {},
   "source": [
    "This DOES NOT create a new copy of `a`. It merely puts a new label (`b`) on the memory at `a`, as can be seen by the following code:"
   ]
  },
  {
   "cell_type": "code",
   "execution_count": 9,
   "metadata": {},
   "outputs": [
    {
     "name": "stdout",
     "output_type": "stream",
     "text": [
      "a [1, 2, 3]\n",
      "b [1, 2, 3]\n",
      "a after change [1, 7, 3]\n",
      "b after change [1, 7, 3]\n"
     ]
    }
   ],
   "source": [
    "# These are the values of a and b \n",
    "print(\"a\", a)\n",
    "print(\"b\", b)\n",
    "\n",
    "# Let's change the second element of a to 7 instead of 2\n",
    "a[1] = 7\n",
    "\n",
    "# As expected, the value of a changes...\n",
    "print(\"a after change\", a)\n",
    "\n",
    "# But also the value of b changed! \n",
    "print(\"b after change\", b)"
   ]
  },
  {
   "cell_type": "code",
   "execution_count": 10,
   "metadata": {
    "hide_input": true
   },
   "outputs": [
    {
     "data": {
      "text/html": [
       "<div class = \"commenter1\"> \n",
       "\n",
       "This behaviour catches a lot of new coders off-guard. Please be aware of it! \n",
       "\n",
       "</div>"
      ],
      "text/plain": [
       "<IPython.core.display.HTML object>"
      ]
     },
     "metadata": {},
     "output_type": "display_data"
    }
   ],
   "source": [
    "display(HTML('''<div class = \"commenter1\"> \n",
    "\n",
    "This behaviour catches a lot of new coders off-guard. Please be aware of it! \n",
    "\n",
    "</div>'''))"
   ]
  },
  {
   "cell_type": "markdown",
   "metadata": {},
   "source": [
    "#### Tuples\n",
    "\n",
    "Multiple items on one line in the interface are returned as a *tuple*, an immutable sequence of Python objects."
   ]
  },
  {
   "cell_type": "code",
   "execution_count": 11,
   "metadata": {},
   "outputs": [
    {
     "data": {
      "text/plain": [
       "(2, -1.0, 4.0, 10)"
      ]
     },
     "execution_count": 11,
     "metadata": {},
     "output_type": "execute_result"
    }
   ],
   "source": [
    "# A tuple can have any number of items in the sequence\n",
    "a = 1\n",
    "b = 2.0\n",
    "a + a, a - b, b * b, 10*a"
   ]
  },
  {
   "cell_type": "markdown",
   "metadata": {},
   "source": [
    "We can obtain the type of a variable or use boolean comparisons to test these types. "
   ]
  },
  {
   "cell_type": "code",
   "execution_count": 12,
   "metadata": {},
   "outputs": [
    {
     "data": {
      "text/plain": [
       "(int, float)"
      ]
     },
     "execution_count": 12,
     "metadata": {},
     "output_type": "execute_result"
    }
   ],
   "source": [
    "# Get variable types\n",
    "type(a), type(b)"
   ]
  },
  {
   "cell_type": "markdown",
   "metadata": {},
   "source": [
    "## Part 2: Lists\n",
    "\n",
    "Much of Python is based on the notion of a list.  In Python, a list is a sequence of items separated by commas, all within square brackets.  The items can be integers, floating points, or another type.  Unlike in C arrays, items in a Python list can be different types, so Python lists are more versatile than traditional arrays in C or in other languages. \n",
    "\n",
    "Let's start out by creating a few lists.  "
   ]
  },
  {
   "cell_type": "code",
   "execution_count": 13,
   "metadata": {},
   "outputs": [
    {
     "name": "stdout",
     "output_type": "stream",
     "text": [
      "[]\n",
      "[1, 2, 3, 4, 5, 6, 7, 8, 9, 10]\n",
      "[1, 2.0, 3, 4.0, 5] [1.0, 3.0, 5.0, 4.0, 2.0]\n"
     ]
    }
   ],
   "source": [
    "empty_list = []\n",
    "float_list = [1., 3., 5., 4., 2.]\n",
    "int_list = [1, 2, 3, 4, 5, 6, 7, 8, 9, 10]\n",
    "mixed_list = [1, 2., 3, 4., 5]\n",
    "print(empty_list)\n",
    "print(int_list)\n",
    "print(mixed_list, float_list)"
   ]
  },
  {
   "cell_type": "markdown",
   "metadata": {},
   "source": [
    "Lists in Python are zero-indexed, as in C.  The first entry of the list has index 0, the second has index 1, and so on."
   ]
  },
  {
   "cell_type": "code",
   "execution_count": 14,
   "metadata": {},
   "outputs": [
    {
     "name": "stdout",
     "output_type": "stream",
     "text": [
      "1\n",
      "3.0\n"
     ]
    }
   ],
   "source": [
    "print(int_list[0])\n",
    "print(float_list[1])"
   ]
  },
  {
   "cell_type": "markdown",
   "metadata": {},
   "source": [
    "What happens if we try to use an index that doesn't exist for that list?  Python will complain!"
   ]
  },
  {
   "cell_type": "markdown",
   "metadata": {},
   "source": [
    "You can find the length of a list using the builtin function `len`:"
   ]
  },
  {
   "cell_type": "code",
   "execution_count": 15,
   "metadata": {},
   "outputs": [
    {
     "name": "stdout",
     "output_type": "stream",
     "text": [
      "[1.0, 3.0, 5.0, 4.0, 2.0]\n"
     ]
    },
    {
     "data": {
      "text/plain": [
       "5"
      ]
     },
     "execution_count": 15,
     "metadata": {},
     "output_type": "execute_result"
    }
   ],
   "source": [
    "print(float_list)\n",
    "len(float_list)"
   ]
  },
  {
   "cell_type": "markdown",
   "metadata": {},
   "source": [
    "### Indexing on lists"
   ]
  },
  {
   "cell_type": "markdown",
   "metadata": {},
   "source": [
    "The last element of `float_list` is"
   ]
  },
  {
   "cell_type": "code",
   "execution_count": 16,
   "metadata": {},
   "outputs": [
    {
     "data": {
      "text/plain": [
       "2.0"
      ]
     },
     "execution_count": 16,
     "metadata": {},
     "output_type": "execute_result"
    }
   ],
   "source": [
    "float_list[-1]"
   ]
  },
  {
   "cell_type": "markdown",
   "metadata": {},
   "source": [
    "We can use the ``:`` operator to access a subset of the list.  This is called *slicing.* "
   ]
  },
  {
   "cell_type": "code",
   "execution_count": 17,
   "metadata": {},
   "outputs": [
    {
     "name": "stdout",
     "output_type": "stream",
     "text": [
      "[3.0, 5.0, 4.0, 2.0]\n",
      "[1.0, 3.0]\n"
     ]
    }
   ],
   "source": [
    "print(float_list[1:5])\n",
    "print(float_list[0:2])"
   ]
  },
  {
   "cell_type": "markdown",
   "metadata": {},
   "source": [
    "You can slice backwards as well:"
   ]
  },
  {
   "cell_type": "code",
   "execution_count": 18,
   "metadata": {},
   "outputs": [
    {
     "data": {
      "text/plain": [
       "[1.0, 3.0, 5.0]"
      ]
     },
     "execution_count": 18,
     "metadata": {},
     "output_type": "execute_result"
    }
   ],
   "source": [
    "float_list[:-2] # up to second last"
   ]
  },
  {
   "cell_type": "code",
   "execution_count": 19,
   "metadata": {},
   "outputs": [
    {
     "data": {
      "text/plain": [
       "[1.0, 3.0, 5.0, 4.0]"
      ]
     },
     "execution_count": 19,
     "metadata": {},
     "output_type": "execute_result"
    }
   ],
   "source": [
    "float_list[:4] # up to but not including 5th element"
   ]
  },
  {
   "cell_type": "markdown",
   "metadata": {},
   "source": [
    "You can also slice with a stride:"
   ]
  },
  {
   "cell_type": "code",
   "execution_count": 20,
   "metadata": {},
   "outputs": [
    {
     "data": {
      "text/plain": [
       "[1.0, 5.0]"
      ]
     },
     "execution_count": 20,
     "metadata": {},
     "output_type": "execute_result"
    }
   ],
   "source": [
    "float_list[:4:2] # above but skipping every second element"
   ]
  },
  {
   "cell_type": "markdown",
   "metadata": {},
   "source": [
    "We can iterate through a list using a loop:"
   ]
  },
  {
   "cell_type": "code",
   "execution_count": 21,
   "metadata": {},
   "outputs": [
    {
     "name": "stdout",
     "output_type": "stream",
     "text": [
      "1.0\n",
      "3.0\n",
      "5.0\n",
      "4.0\n",
      "2.0\n"
     ]
    }
   ],
   "source": [
    "for i in float_list:\n",
    "    print(i)"
   ]
  },
  {
   "cell_type": "markdown",
   "metadata": {},
   "source": [
    "Or, if we like, we can iterate through a list using the indices using a for loop with  `in range`. This is not idiomatic and is not recommended, but accomplishes the same thing as above."
   ]
  },
  {
   "cell_type": "code",
   "execution_count": 22,
   "metadata": {},
   "outputs": [
    {
     "name": "stdout",
     "output_type": "stream",
     "text": [
      "1.0\n",
      "3.0\n",
      "5.0\n",
      "4.0\n",
      "2.0\n"
     ]
    }
   ],
   "source": [
    "for i in range(len(float_list)):\n",
    "    print(float_list[i])"
   ]
  },
  {
   "cell_type": "markdown",
   "metadata": {},
   "source": [
    "What if you wanted the index as well?"
   ]
  },
  {
   "cell_type": "markdown",
   "metadata": {},
   "source": [
    "Use the built-in python method `enumerate`,  which can be used to create a list of tuples with each tuple of the form `(index, value)`. "
   ]
  },
  {
   "cell_type": "code",
   "execution_count": 23,
   "metadata": {
    "scrolled": true
   },
   "outputs": [
    {
     "name": "stdout",
     "output_type": "stream",
     "text": [
      "0 1.0\n",
      "1 3.0\n",
      "2 5.0\n",
      "3 4.0\n",
      "4 2.0\n"
     ]
    }
   ],
   "source": [
    "for index, value in enumerate(float_list):\n",
    "    print(index, value)"
   ]
  },
  {
   "cell_type": "code",
   "execution_count": 24,
   "metadata": {},
   "outputs": [
    {
     "data": {
      "text/plain": [
       "[(0, 1.0), (1, 3.0), (2, 5.0), (3, 4.0), (4, 2.0)]"
      ]
     },
     "execution_count": 24,
     "metadata": {},
     "output_type": "execute_result"
    }
   ],
   "source": [
    "# or make a list from it using the list constructor\n",
    "list(enumerate(float_list))"
   ]
  },
  {
   "cell_type": "markdown",
   "metadata": {},
   "source": [
    "### Appending and deleting"
   ]
  },
  {
   "cell_type": "markdown",
   "metadata": {},
   "source": [
    "We can also append items to the end of the list using the `+` operator or with `append`."
   ]
  },
  {
   "cell_type": "code",
   "execution_count": 25,
   "metadata": {},
   "outputs": [
    {
     "data": {
      "text/plain": [
       "[1.0, 3.0, 5.0, 4.0, 2.0, 0.333]"
      ]
     },
     "execution_count": 25,
     "metadata": {},
     "output_type": "execute_result"
    }
   ],
   "source": [
    "float_list + [.333]"
   ]
  },
  {
   "cell_type": "code",
   "execution_count": 26,
   "metadata": {},
   "outputs": [],
   "source": [
    "float_list.append(.444)"
   ]
  },
  {
   "cell_type": "code",
   "execution_count": 27,
   "metadata": {},
   "outputs": [
    {
     "name": "stdout",
     "output_type": "stream",
     "text": [
      "[1.0, 3.0, 5.0, 4.0, 2.0, 0.444]\n"
     ]
    },
    {
     "data": {
      "text/plain": [
       "6"
      ]
     },
     "execution_count": 27,
     "metadata": {},
     "output_type": "execute_result"
    }
   ],
   "source": [
    "print(float_list)\n",
    "len(float_list)"
   ]
  },
  {
   "cell_type": "markdown",
   "metadata": {},
   "source": [
    "Go and run the cell with `float_list.append` a second time.  Then run the next line.  What happens?  \n",
    "\n",
    "To remove an item from the list, use `del.`"
   ]
  },
  {
   "cell_type": "code",
   "execution_count": 28,
   "metadata": {},
   "outputs": [
    {
     "name": "stdout",
     "output_type": "stream",
     "text": [
      "[1.0, 3.0, 4.0, 2.0, 0.444]\n"
     ]
    }
   ],
   "source": [
    "del(float_list[2])\n",
    "print(float_list)"
   ]
  },
  {
   "cell_type": "markdown",
   "metadata": {},
   "source": [
    "### List Comprehensions\n",
    "\n",
    "Lists can be constructed in a compact way using a *list comprehension*.  Here's a simple example."
   ]
  },
  {
   "cell_type": "code",
   "execution_count": 29,
   "metadata": {},
   "outputs": [
    {
     "data": {
      "text/plain": [
       "[1, 4, 9, 16, 25, 36, 49, 64, 81, 100]"
      ]
     },
     "execution_count": 29,
     "metadata": {},
     "output_type": "execute_result"
    }
   ],
   "source": [
    "squaredlist = [i*i for i in int_list]\n",
    "squaredlist"
   ]
  },
  {
   "cell_type": "markdown",
   "metadata": {},
   "source": [
    "And here's a more complicated one, requiring a conditional."
   ]
  },
  {
   "cell_type": "code",
   "execution_count": 30,
   "metadata": {},
   "outputs": [
    {
     "name": "stdout",
     "output_type": "stream",
     "text": [
      "[8, 32, 72, 128, 200]\n"
     ]
    }
   ],
   "source": [
    "comp_list1 = [2*i for i in squaredlist if i % 2 == 0]\n",
    "print(comp_list1)"
   ]
  },
  {
   "cell_type": "markdown",
   "metadata": {},
   "source": [
    "This is entirely equivalent to creating `comp_list1` using a loop with a conditional, as below:"
   ]
  },
  {
   "cell_type": "code",
   "execution_count": 31,
   "metadata": {},
   "outputs": [
    {
     "name": "stdout",
     "output_type": "stream",
     "text": [
      "[8, 32, 72, 128, 200]\n"
     ]
    }
   ],
   "source": [
    "comp_list2 = []\n",
    "for i in squaredlist:\n",
    "    if i % 2 == 0:\n",
    "        comp_list2.append(2*i)\n",
    "        \n",
    "print(comp_list2)"
   ]
  },
  {
   "cell_type": "markdown",
   "metadata": {},
   "source": [
    "The list comprehension syntax\n",
    "\n",
    "```\n",
    "[expression for item in list if conditional]\n",
    "\n",
    "```\n",
    "\n",
    "is equivalent to the syntax\n",
    "\n",
    "```\n",
    "for item in list:\n",
    "    if conditional:\n",
    "        expression\n",
    "```"
   ]
  },
  {
   "cell_type": "code",
   "execution_count": 32,
   "metadata": {
    "hide_input": true
   },
   "outputs": [
    {
     "data": {
      "text/html": [
       "<div class = \"commenter1\"> \n",
       "\n",
       "List comprehensions are very fast. You can make huge efficiency gains by using them instead of for loops.\n",
       "</div>"
      ],
      "text/plain": [
       "<IPython.core.display.HTML object>"
      ]
     },
     "metadata": {},
     "output_type": "display_data"
    }
   ],
   "source": [
    "display(HTML('''<div class = \"commenter1\"> \n",
    "\n",
    "List comprehensions are very fast. You can make huge efficiency gains by using them instead of for loops.\n",
    "</div>'''))"
   ]
  },
  {
   "cell_type": "markdown",
   "metadata": {},
   "source": [
    "## Part 4: Introduction to Numpy\n",
    "Scientific Python code uses a fast array structure, called the numpy array. Those who have worked in Matlab will find this very natural.   For reference, the numpy documention can be found [here](https://docs.scipy.org/doc/numpy/reference/).  \n"
   ]
  },
  {
   "cell_type": "code",
   "execution_count": 33,
   "metadata": {
    "hide_input": false
   },
   "outputs": [
    {
     "data": {
      "text/html": [
       "<div class = \"commenter1\"> \n",
       "    Python lists may contain items of different types. This flexibility comes at a price: Python lists store pointers to memory locations. On the other hand, numpy arrays are typed, where the default type is floating point. Because of this, the system knows how much memory to allocate based on the type. This makes access extremely fast!\n",
       "    </div>"
      ],
      "text/plain": [
       "<IPython.core.display.HTML object>"
      ]
     },
     "metadata": {},
     "output_type": "display_data"
    }
   ],
   "source": [
    "display(HTML('''<div class = \"commenter1\"> \n",
    "    Python lists may contain items of different types. This flexibility comes at a price: Python lists store pointers to memory locations. On the other hand, numpy arrays are typed, where the default type is floating point. Because of this, the system knows how much memory to allocate based on the type. This makes access extremely fast!\n",
    "    </div>'''))"
   ]
  },
  {
   "cell_type": "markdown",
   "metadata": {},
   "source": [
    "\n",
    "Let's make a numpy array."
   ]
  },
  {
   "cell_type": "code",
   "execution_count": 34,
   "metadata": {},
   "outputs": [
    {
     "data": {
      "text/plain": [
       "array([1, 2, 3, 4])"
      ]
     },
     "execution_count": 34,
     "metadata": {},
     "output_type": "execute_result"
    }
   ],
   "source": [
    "my_array = np.array([1, 2, 3, 4])\n",
    "my_array"
   ]
  },
  {
   "cell_type": "code",
   "execution_count": 35,
   "metadata": {},
   "outputs": [
    {
     "data": {
      "text/plain": [
       "4"
      ]
     },
     "execution_count": 35,
     "metadata": {},
     "output_type": "execute_result"
    }
   ],
   "source": [
    "# works as in lists\n",
    "len(my_array)"
   ]
  },
  {
   "cell_type": "markdown",
   "metadata": {},
   "source": [
    "The shape array of an array is very useful (we'll see more of it later when we talk about 2D and higher dimensional arrays)."
   ]
  },
  {
   "cell_type": "code",
   "execution_count": 36,
   "metadata": {},
   "outputs": [
    {
     "data": {
      "text/plain": [
       "(4,)"
      ]
     },
     "execution_count": 36,
     "metadata": {},
     "output_type": "execute_result"
    }
   ],
   "source": [
    "my_array.shape"
   ]
  },
  {
   "cell_type": "markdown",
   "metadata": {},
   "source": [
    "Numpy arrays are **typed**. This means that by default, all the elements will be assumed to be of one type"
   ]
  },
  {
   "cell_type": "code",
   "execution_count": 37,
   "metadata": {},
   "outputs": [
    {
     "data": {
      "text/plain": [
       "dtype('int64')"
      ]
     },
     "execution_count": 37,
     "metadata": {},
     "output_type": "execute_result"
    }
   ],
   "source": [
    "my_array.dtype"
   ]
  },
  {
   "cell_type": "markdown",
   "metadata": {},
   "source": [
    "Numpy arrays are listy (i.e. they act like lists)! Below we compute length, slice, and iterate. "
   ]
  },
  {
   "cell_type": "code",
   "execution_count": 38,
   "metadata": {},
   "outputs": [
    {
     "name": "stdout",
     "output_type": "stream",
     "text": [
      "4\n",
      "[3 4]\n",
      "1\n",
      "2\n",
      "3\n",
      "4\n"
     ]
    }
   ],
   "source": [
    "print(len(my_array))\n",
    "print(my_array[2:4])\n",
    "for ele in my_array:\n",
    "    print(ele)"
   ]
  },
  {
   "cell_type": "markdown",
   "metadata": {},
   "source": [
    "\n",
    "You can calculate the mean of the array elements either by calling the method `.mean` on a numpy array or by applying the function np.mean with the numpy array as an argument."
   ]
  },
  {
   "cell_type": "code",
   "execution_count": 39,
   "metadata": {},
   "outputs": [
    {
     "name": "stdout",
     "output_type": "stream",
     "text": [
      "2.5\n",
      "2.5\n"
     ]
    }
   ],
   "source": [
    "print(my_array.mean())\n",
    "print(np.mean(my_array))"
   ]
  },
  {
   "cell_type": "code",
   "execution_count": 40,
   "metadata": {
    "hide_input": false
   },
   "outputs": [
    {
     "data": {
      "text/html": [
       "<div class = \"commenter1\"> \n",
       "\n",
       "In general you should manipulate numpy arrays by using numpy module functions (`np.mean`, for example). This is for efficiency purposes.\n",
       "\n",
       "</div>"
      ],
      "text/plain": [
       "<IPython.core.display.HTML object>"
      ]
     },
     "metadata": {},
     "output_type": "display_data"
    }
   ],
   "source": [
    "display(HTML('''<div class = \"commenter1\"> \n",
    "\n",
    "In general you should manipulate numpy arrays by using numpy module functions (`np.mean`, for example). This is for efficiency purposes.\n",
    "\n",
    "</div>'''))"
   ]
  },
  {
   "cell_type": "markdown",
   "metadata": {},
   "source": [
    "The way we constructed the numpy array above seems redundant. After all we already had a regular python list. Indeed, it is the other ways we have to construct numpy arrays that make them super useful. \n",
    "\n",
    "There are many such numpy array *constructors*. Here are some commonly used constructors. Look them up in the documentation."
   ]
  },
  {
   "cell_type": "code",
   "execution_count": 41,
   "metadata": {},
   "outputs": [
    {
     "data": {
      "text/plain": [
       "array([1., 1., 1., 1., 1., 1., 1., 1., 1., 1.])"
      ]
     },
     "execution_count": 41,
     "metadata": {},
     "output_type": "execute_result"
    }
   ],
   "source": [
    "np.ones(10) # generates 10 floating point ones"
   ]
  },
  {
   "cell_type": "markdown",
   "metadata": {},
   "source": [
    "Numpy gains a lot of its efficiency from being typed. That is, all elements in the array have the same type, such as integer or floating point. The default type, as can be seen above, is a float of size appropriate for the machine (64 bit on a 64 bit machine)."
   ]
  },
  {
   "cell_type": "code",
   "execution_count": 42,
   "metadata": {},
   "outputs": [
    {
     "data": {
      "text/plain": [
       "8"
      ]
     },
     "execution_count": 42,
     "metadata": {},
     "output_type": "execute_result"
    }
   ],
   "source": [
    "np.dtype(float).itemsize # in bytes"
   ]
  },
  {
   "cell_type": "code",
   "execution_count": 43,
   "metadata": {},
   "outputs": [
    {
     "data": {
      "text/plain": [
       "array([1, 1, 1, 1, 1, 1, 1, 1, 1, 1])"
      ]
     },
     "execution_count": 43,
     "metadata": {},
     "output_type": "execute_result"
    }
   ],
   "source": [
    "np.ones(10, dtype='int') # generates 10 integer ones"
   ]
  },
  {
   "cell_type": "code",
   "execution_count": 44,
   "metadata": {},
   "outputs": [
    {
     "data": {
      "text/plain": [
       "array([0., 0., 0., 0., 0., 0., 0., 0., 0., 0.])"
      ]
     },
     "execution_count": 44,
     "metadata": {},
     "output_type": "execute_result"
    }
   ],
   "source": [
    "np.zeros(10)"
   ]
  },
  {
   "cell_type": "markdown",
   "metadata": {},
   "source": [
    "Often you will want random numbers. Use the `random` constructor!"
   ]
  },
  {
   "cell_type": "code",
   "execution_count": 45,
   "metadata": {},
   "outputs": [
    {
     "data": {
      "text/plain": [
       "array([0.99444616, 0.32117411, 0.82300609, 0.26506009, 0.1758225 ,\n",
       "       0.37038268, 0.80278339, 0.10688517, 0.15953942, 0.32219487])"
      ]
     },
     "execution_count": 45,
     "metadata": {},
     "output_type": "execute_result"
    }
   ],
   "source": [
    "np.random.random(10) # uniform on [0,1]"
   ]
  },
  {
   "cell_type": "markdown",
   "metadata": {},
   "source": [
    "You can generate random numbers from a normal distribution with mean 0 and variance 1:"
   ]
  },
  {
   "cell_type": "code",
   "execution_count": 46,
   "metadata": {},
   "outputs": [
    {
     "name": "stdout",
     "output_type": "stream",
     "text": [
      "The sample mean and standard devation are 0.029325 and 0.972664, respectively.\n"
     ]
    }
   ],
   "source": [
    "normal_array = np.random.randn(1000)\n",
    "print(\"The sample mean and standard devation are %f and %f, respectively.\" %(np.mean(normal_array), np.std(normal_array)))"
   ]
  },
  {
   "cell_type": "markdown",
   "metadata": {},
   "source": [
    "You can sample with and without replacement from an array. Lets first construct a grid:"
   ]
  },
  {
   "cell_type": "code",
   "execution_count": 47,
   "metadata": {},
   "outputs": [
    {
     "data": {
      "text/plain": [
       "array([0. , 0.1, 0.2, 0.3, 0.4, 0.5, 0.6, 0.7, 0.8, 0.9, 1. ])"
      ]
     },
     "execution_count": 47,
     "metadata": {},
     "output_type": "execute_result"
    }
   ],
   "source": [
    "grid = np.arange(0., 1.01, 0.1)\n",
    "grid"
   ]
  },
  {
   "cell_type": "markdown",
   "metadata": {},
   "source": [
    "Without replacement"
   ]
  },
  {
   "cell_type": "code",
   "execution_count": 48,
   "metadata": {},
   "outputs": [
    {
     "data": {
      "text/plain": [
       "array([0.3, 0.2, 0.4, 0.8, 0.9])"
      ]
     },
     "execution_count": 48,
     "metadata": {},
     "output_type": "execute_result"
    }
   ],
   "source": [
    "np.random.choice(grid, 5, replace=False)"
   ]
  },
  {
   "cell_type": "markdown",
   "metadata": {},
   "source": [
    "With replacement:"
   ]
  },
  {
   "cell_type": "code",
   "execution_count": 49,
   "metadata": {},
   "outputs": [
    {
     "data": {
      "text/plain": [
       "array([0.9, 0.1, 0.7, 0.2, 0.8, 1. , 0.8, 1. , 0.9, 0.3, 0.6, 0.1])"
      ]
     },
     "execution_count": 49,
     "metadata": {},
     "output_type": "execute_result"
    }
   ],
   "source": [
    "np.random.choice(grid, 12, replace=True)"
   ]
  },
  {
   "cell_type": "markdown",
   "metadata": {},
   "source": [
    "### Numpy supports vector operations\n",
    "\n",
    "What does this mean? It means that instead of adding two arrays, element by element, you can just say: add the two arrays. Note that this behavior is very different from python lists."
   ]
  },
  {
   "cell_type": "code",
   "execution_count": 50,
   "metadata": {},
   "outputs": [
    {
     "data": {
      "text/plain": [
       "array([2., 2., 2., 2., 2.])"
      ]
     },
     "execution_count": 50,
     "metadata": {},
     "output_type": "execute_result"
    }
   ],
   "source": [
    "first = np.ones(5)\n",
    "second = np.ones(5)\n",
    "first + second"
   ]
  },
  {
   "cell_type": "code",
   "execution_count": 51,
   "metadata": {},
   "outputs": [
    {
     "data": {
      "text/plain": [
       "[1.0, 1.0, 1.0, 1.0, 1.0, 1.0, 1.0, 1.0, 1.0, 1.0]"
      ]
     },
     "execution_count": 51,
     "metadata": {},
     "output_type": "execute_result"
    }
   ],
   "source": [
    "first_list = [1., 1., 1., 1., 1.]\n",
    "second_list = [1., 1., 1., 1., 1.]\n",
    "first_list + second_list #not what you want"
   ]
  },
  {
   "cell_type": "markdown",
   "metadata": {},
   "source": [
    "On some computer chips this addition actually happens in parallel, so speedups can be high. But even on regular chips, the advantage of greater readability is important."
   ]
  },
  {
   "cell_type": "markdown",
   "metadata": {},
   "source": [
    "Numpy supports a concept known as *broadcasting*, which dictates how arrays of different sizes are combined together. There are too many rules to list here, but importantly, multiplying an array by a number multiplies each element by the number. Adding a number adds the number to each element."
   ]
  },
  {
   "cell_type": "code",
   "execution_count": 52,
   "metadata": {},
   "outputs": [
    {
     "data": {
      "text/plain": [
       "array([2., 2., 2., 2., 2.])"
      ]
     },
     "execution_count": 52,
     "metadata": {},
     "output_type": "execute_result"
    }
   ],
   "source": [
    "first + 1"
   ]
  },
  {
   "cell_type": "code",
   "execution_count": 53,
   "metadata": {},
   "outputs": [
    {
     "data": {
      "text/plain": [
       "array([5., 5., 5., 5., 5.])"
      ]
     },
     "execution_count": 53,
     "metadata": {},
     "output_type": "execute_result"
    }
   ],
   "source": [
    "first*5"
   ]
  },
  {
   "cell_type": "markdown",
   "metadata": {},
   "source": [
    "This means that if you wanted the distribution $N(5, 7)$ you could do:"
   ]
  },
  {
   "cell_type": "code",
   "execution_count": 54,
   "metadata": {},
   "outputs": [
    {
     "data": {
      "text/plain": [
       "(5.2052777141902284, 6.808649424868089)"
      ]
     },
     "execution_count": 54,
     "metadata": {},
     "output_type": "execute_result"
    }
   ],
   "source": [
    "normal_5_7 = 5 + 7*normal_array\n",
    "np.mean(normal_5_7), np.std(normal_5_7)"
   ]
  },
  {
   "cell_type": "markdown",
   "metadata": {},
   "source": [
    "Multiplying two arrays multiplies them element-by-element"
   ]
  },
  {
   "cell_type": "code",
   "execution_count": 55,
   "metadata": {},
   "outputs": [
    {
     "data": {
      "text/plain": [
       "array([10., 10., 10., 10., 10.])"
      ]
     },
     "execution_count": 55,
     "metadata": {},
     "output_type": "execute_result"
    }
   ],
   "source": [
    "(first +1) * (first*5)"
   ]
  },
  {
   "cell_type": "markdown",
   "metadata": {},
   "source": [
    "You might have wanted to compute the dot product instead:"
   ]
  },
  {
   "cell_type": "code",
   "execution_count": 56,
   "metadata": {},
   "outputs": [
    {
     "data": {
      "text/plain": [
       "50.0"
      ]
     },
     "execution_count": 56,
     "metadata": {},
     "output_type": "execute_result"
    }
   ],
   "source": [
    "np.dot((first +1) , (first*5))"
   ]
  },
  {
   "cell_type": "markdown",
   "metadata": {},
   "source": [
    "You can also use the @ operator for this purpose"
   ]
  },
  {
   "cell_type": "code",
   "execution_count": 57,
   "metadata": {},
   "outputs": [
    {
     "data": {
      "text/plain": [
       "50.0"
      ]
     },
     "execution_count": 57,
     "metadata": {},
     "output_type": "execute_result"
    }
   ],
   "source": [
    "(first +1) @ (first*5)"
   ]
  },
  {
   "cell_type": "markdown",
   "metadata": {},
   "source": [
    "## Part 5: Simple Functions\n",
    "\n",
    "A *function* object is a reusable block of code that does a specific task.  Functions are all over Python, either on their own or on other objects.  To invoke a function `func`, you call it as `func(arguments)`.\n",
    "\n",
    "Whenever code is used across multiple notebooks, it's good practice to extract it as a .py function and call it within the notebook.\n",
    "\n",
    "### Methods\n",
    "A function that belongs to an object is called a *method*. By \"object\" here we mean an \"instance\" of a list, or integer, or floating point variable.\n",
    "\n",
    "An example of this is `append` on an existing list. In other words, a *method* is a function on an *instance* of a type of object (also called *class*, in this case, list type).\n"
   ]
  },
  {
   "cell_type": "code",
   "execution_count": 58,
   "metadata": {},
   "outputs": [
    {
     "name": "stdout",
     "output_type": "stream",
     "text": [
      "[1.0, 2.09, 4.0, 2.0, 0.444]\n"
     ]
    },
    {
     "data": {
      "text/plain": [
       "[1.0, 2.09, 4.0, 2.0, 0.444, 56.7]"
      ]
     },
     "execution_count": 58,
     "metadata": {},
     "output_type": "execute_result"
    }
   ],
   "source": [
    "float_list = [1.0, 2.09, 4.0, 2.0, 0.444]\n",
    "print(float_list)\n",
    "float_list.append(56.7) \n",
    "float_list"
   ]
  },
  {
   "cell_type": "markdown",
   "metadata": {},
   "source": [
    "### User-defined functions\n",
    "\n",
    "We'll now learn to write our own user-defined functions.  Below is the syntax for defining a basic function with one input argument and one output. You can also define functions with no input or output arguments, or multiple input or output arguments.\n",
    "\n",
    "```\n",
    "def name_of_function(arg):\n",
    "    ...\n",
    "    return(output)\n",
    "```\n",
    "\n",
    "We can write functions with one input and one output argument.  Here are two such functions."
   ]
  },
  {
   "cell_type": "code",
   "execution_count": 59,
   "metadata": {},
   "outputs": [
    {
     "data": {
      "text/plain": [
       "(25, 125)"
      ]
     },
     "execution_count": 59,
     "metadata": {},
     "output_type": "execute_result"
    }
   ],
   "source": [
    "def square(x):\n",
    "    x_sqr = x*x\n",
    "    return(x_sqr)\n",
    "\n",
    "def cube(x):\n",
    "    x_cub = x*x*x\n",
    "    return(x_cub)\n",
    "\n",
    "square(5),cube(5)"
   ]
  },
  {
   "cell_type": "markdown",
   "metadata": {},
   "source": [
    "What if you want to return two variables at a time? The usual way is to return a tuple:"
   ]
  },
  {
   "cell_type": "code",
   "execution_count": 60,
   "metadata": {},
   "outputs": [
    {
     "data": {
      "text/plain": [
       "(25, 125)"
      ]
     },
     "execution_count": 60,
     "metadata": {},
     "output_type": "execute_result"
    }
   ],
   "source": [
    "def square_and_cube(x):\n",
    "    x_cub = x*x*x\n",
    "    x_sqr = x*x\n",
    "    return(x_sqr, x_cub)\n",
    "\n",
    "square_and_cube(5)"
   ]
  },
  {
   "cell_type": "markdown",
   "metadata": {},
   "source": [
    "### Lambda functions\n",
    "\n",
    "Often we quickly define mathematical functions with a one-line function called a *lambda* function.  Lambda functions are great because they enable us to write functions without having to name them, ie, they're *anonymous*.  \n",
    "No return statement is needed. "
   ]
  },
  {
   "cell_type": "code",
   "execution_count": 61,
   "metadata": {},
   "outputs": [
    {
     "name": "stdout",
     "output_type": "stream",
     "text": [
      "9\n"
     ]
    },
    {
     "data": {
      "text/plain": [
       "25"
      ]
     },
     "execution_count": 61,
     "metadata": {},
     "output_type": "execute_result"
    }
   ],
   "source": [
    "# create an anonymous function and assign it to the variable square\n",
    "square = lambda x: x*x\n",
    "print(square(3))\n",
    "\n",
    "\n",
    "hypotenuse = lambda x, y: x*x + y*y\n",
    "\n",
    "## Same as\n",
    "\n",
    "# def hypotenuse(x, y):\n",
    "#     return(x*x + y*y)\n",
    "\n",
    "hypotenuse(3,4)"
   ]
  },
  {
   "cell_type": "markdown",
   "metadata": {},
   "source": [
    "## Part 6: Simple regressions using statsmodels and sklearn\n",
    "\n",
    "There are two main libraries we recommend for modelling:\n",
    "\n",
    "* statsmodels tends to be easier for inference [finding the values of the slope and intercept and dicussing uncertainty in those values], \n",
    "* sklearn has machine-learning algorithms and is better for prediction [guessing y values for a given x value].\n",
    "\n",
    "### Statsmodels\n",
    "\n",
    "Although `sklearn` does the heavy lifting of machine learning, sometimes good old regression is needed. For this, I recommend using `statsmodels` since it outputs a lot of diagnostic information.\n"
   ]
  },
  {
   "cell_type": "code",
   "execution_count": 87,
   "metadata": {},
   "outputs": [
    {
     "data": {
      "text/html": [
       "<style  type=\"text/css\" >\n",
       "</style>  \n",
       "<table id=\"T_ac7d7dc2_9268_11e9_a0d3_acde48001122\" ><caption>Example data from the iris dataframe</caption> \n",
       "<thead>    <tr> \n",
       "        <th class=\"blank level0\" ></th> \n",
       "        <th class=\"col_heading level0 col0\" >sepal_length</th> \n",
       "        <th class=\"col_heading level0 col1\" >sepal_width</th> \n",
       "        <th class=\"col_heading level0 col2\" >petal_length</th> \n",
       "        <th class=\"col_heading level0 col3\" >petal_width</th> \n",
       "        <th class=\"col_heading level0 col4\" >species</th> \n",
       "    </tr></thead> \n",
       "<tbody>    <tr> \n",
       "        <th id=\"T_ac7d7dc2_9268_11e9_a0d3_acde48001122level0_row0\" class=\"row_heading level0 row0\" >0</th> \n",
       "        <td id=\"T_ac7d7dc2_9268_11e9_a0d3_acde48001122row0_col0\" class=\"data row0 col0\" >5.1</td> \n",
       "        <td id=\"T_ac7d7dc2_9268_11e9_a0d3_acde48001122row0_col1\" class=\"data row0 col1\" >3.5</td> \n",
       "        <td id=\"T_ac7d7dc2_9268_11e9_a0d3_acde48001122row0_col2\" class=\"data row0 col2\" >1.4</td> \n",
       "        <td id=\"T_ac7d7dc2_9268_11e9_a0d3_acde48001122row0_col3\" class=\"data row0 col3\" >0.2</td> \n",
       "        <td id=\"T_ac7d7dc2_9268_11e9_a0d3_acde48001122row0_col4\" class=\"data row0 col4\" >setosa</td> \n",
       "    </tr>    <tr> \n",
       "        <th id=\"T_ac7d7dc2_9268_11e9_a0d3_acde48001122level0_row1\" class=\"row_heading level0 row1\" >1</th> \n",
       "        <td id=\"T_ac7d7dc2_9268_11e9_a0d3_acde48001122row1_col0\" class=\"data row1 col0\" >4.9</td> \n",
       "        <td id=\"T_ac7d7dc2_9268_11e9_a0d3_acde48001122row1_col1\" class=\"data row1 col1\" >3</td> \n",
       "        <td id=\"T_ac7d7dc2_9268_11e9_a0d3_acde48001122row1_col2\" class=\"data row1 col2\" >1.4</td> \n",
       "        <td id=\"T_ac7d7dc2_9268_11e9_a0d3_acde48001122row1_col3\" class=\"data row1 col3\" >0.2</td> \n",
       "        <td id=\"T_ac7d7dc2_9268_11e9_a0d3_acde48001122row1_col4\" class=\"data row1 col4\" >setosa</td> \n",
       "    </tr>    <tr> \n",
       "        <th id=\"T_ac7d7dc2_9268_11e9_a0d3_acde48001122level0_row2\" class=\"row_heading level0 row2\" >2</th> \n",
       "        <td id=\"T_ac7d7dc2_9268_11e9_a0d3_acde48001122row2_col0\" class=\"data row2 col0\" >4.7</td> \n",
       "        <td id=\"T_ac7d7dc2_9268_11e9_a0d3_acde48001122row2_col1\" class=\"data row2 col1\" >3.2</td> \n",
       "        <td id=\"T_ac7d7dc2_9268_11e9_a0d3_acde48001122row2_col2\" class=\"data row2 col2\" >1.3</td> \n",
       "        <td id=\"T_ac7d7dc2_9268_11e9_a0d3_acde48001122row2_col3\" class=\"data row2 col3\" >0.2</td> \n",
       "        <td id=\"T_ac7d7dc2_9268_11e9_a0d3_acde48001122row2_col4\" class=\"data row2 col4\" >setosa</td> \n",
       "    </tr>    <tr> \n",
       "        <th id=\"T_ac7d7dc2_9268_11e9_a0d3_acde48001122level0_row3\" class=\"row_heading level0 row3\" >3</th> \n",
       "        <td id=\"T_ac7d7dc2_9268_11e9_a0d3_acde48001122row3_col0\" class=\"data row3 col0\" >4.6</td> \n",
       "        <td id=\"T_ac7d7dc2_9268_11e9_a0d3_acde48001122row3_col1\" class=\"data row3 col1\" >3.1</td> \n",
       "        <td id=\"T_ac7d7dc2_9268_11e9_a0d3_acde48001122row3_col2\" class=\"data row3 col2\" >1.5</td> \n",
       "        <td id=\"T_ac7d7dc2_9268_11e9_a0d3_acde48001122row3_col3\" class=\"data row3 col3\" >0.2</td> \n",
       "        <td id=\"T_ac7d7dc2_9268_11e9_a0d3_acde48001122row3_col4\" class=\"data row3 col4\" >setosa</td> \n",
       "    </tr>    <tr> \n",
       "        <th id=\"T_ac7d7dc2_9268_11e9_a0d3_acde48001122level0_row4\" class=\"row_heading level0 row4\" >4</th> \n",
       "        <td id=\"T_ac7d7dc2_9268_11e9_a0d3_acde48001122row4_col0\" class=\"data row4 col0\" >5</td> \n",
       "        <td id=\"T_ac7d7dc2_9268_11e9_a0d3_acde48001122row4_col1\" class=\"data row4 col1\" >3.6</td> \n",
       "        <td id=\"T_ac7d7dc2_9268_11e9_a0d3_acde48001122row4_col2\" class=\"data row4 col2\" >1.4</td> \n",
       "        <td id=\"T_ac7d7dc2_9268_11e9_a0d3_acde48001122row4_col3\" class=\"data row4 col3\" >0.2</td> \n",
       "        <td id=\"T_ac7d7dc2_9268_11e9_a0d3_acde48001122row4_col4\" class=\"data row4 col4\" >setosa</td> \n",
       "    </tr></tbody> \n",
       "</table> "
      ],
      "text/plain": [
       "<pandas.io.formats.style.Styler at 0x1c22499cc0>"
      ]
     },
     "execution_count": 87,
     "metadata": {},
     "output_type": "execute_result"
    }
   ],
   "source": [
    "# import example data\n",
    "import seaborn as sns\n",
    "iris = sns.load_dataset('iris')\n",
    "iris.head().style.set_caption('Example data from the iris dataframe')"
   ]
  },
  {
   "cell_type": "code",
   "execution_count": 63,
   "metadata": {},
   "outputs": [],
   "source": [
    "# Import statsmodels\n",
    "import statsmodels.api as sm\n",
    "\n",
    "# Decide on the y variable\n",
    "y = iris['sepal_length']\n",
    "\n",
    "# Decide on the X variables\n",
    "X = iris[['sepal_width', 'petal_length', 'petal_width']] # use double brackets to select multiple columns"
   ]
  },
  {
   "cell_type": "code",
   "execution_count": 88,
   "metadata": {},
   "outputs": [
    {
     "data": {
      "text/html": [
       "<style  type=\"text/css\" >\n",
       "</style>  \n",
       "<table id=\"T_b6669a4e_9268_11e9_a0d3_acde48001122\" ><caption>Data with an added constant for the intercept</caption> \n",
       "<thead>    <tr> \n",
       "        <th class=\"blank level0\" ></th> \n",
       "        <th class=\"col_heading level0 col0\" >const</th> \n",
       "        <th class=\"col_heading level0 col1\" >sepal_width</th> \n",
       "        <th class=\"col_heading level0 col2\" >petal_length</th> \n",
       "        <th class=\"col_heading level0 col3\" >petal_width</th> \n",
       "    </tr></thead> \n",
       "<tbody>    <tr> \n",
       "        <th id=\"T_b6669a4e_9268_11e9_a0d3_acde48001122level0_row0\" class=\"row_heading level0 row0\" >0</th> \n",
       "        <td id=\"T_b6669a4e_9268_11e9_a0d3_acde48001122row0_col0\" class=\"data row0 col0\" >1</td> \n",
       "        <td id=\"T_b6669a4e_9268_11e9_a0d3_acde48001122row0_col1\" class=\"data row0 col1\" >3.5</td> \n",
       "        <td id=\"T_b6669a4e_9268_11e9_a0d3_acde48001122row0_col2\" class=\"data row0 col2\" >1.4</td> \n",
       "        <td id=\"T_b6669a4e_9268_11e9_a0d3_acde48001122row0_col3\" class=\"data row0 col3\" >0.2</td> \n",
       "    </tr>    <tr> \n",
       "        <th id=\"T_b6669a4e_9268_11e9_a0d3_acde48001122level0_row1\" class=\"row_heading level0 row1\" >1</th> \n",
       "        <td id=\"T_b6669a4e_9268_11e9_a0d3_acde48001122row1_col0\" class=\"data row1 col0\" >1</td> \n",
       "        <td id=\"T_b6669a4e_9268_11e9_a0d3_acde48001122row1_col1\" class=\"data row1 col1\" >3</td> \n",
       "        <td id=\"T_b6669a4e_9268_11e9_a0d3_acde48001122row1_col2\" class=\"data row1 col2\" >1.4</td> \n",
       "        <td id=\"T_b6669a4e_9268_11e9_a0d3_acde48001122row1_col3\" class=\"data row1 col3\" >0.2</td> \n",
       "    </tr>    <tr> \n",
       "        <th id=\"T_b6669a4e_9268_11e9_a0d3_acde48001122level0_row2\" class=\"row_heading level0 row2\" >2</th> \n",
       "        <td id=\"T_b6669a4e_9268_11e9_a0d3_acde48001122row2_col0\" class=\"data row2 col0\" >1</td> \n",
       "        <td id=\"T_b6669a4e_9268_11e9_a0d3_acde48001122row2_col1\" class=\"data row2 col1\" >3.2</td> \n",
       "        <td id=\"T_b6669a4e_9268_11e9_a0d3_acde48001122row2_col2\" class=\"data row2 col2\" >1.3</td> \n",
       "        <td id=\"T_b6669a4e_9268_11e9_a0d3_acde48001122row2_col3\" class=\"data row2 col3\" >0.2</td> \n",
       "    </tr>    <tr> \n",
       "        <th id=\"T_b6669a4e_9268_11e9_a0d3_acde48001122level0_row3\" class=\"row_heading level0 row3\" >3</th> \n",
       "        <td id=\"T_b6669a4e_9268_11e9_a0d3_acde48001122row3_col0\" class=\"data row3 col0\" >1</td> \n",
       "        <td id=\"T_b6669a4e_9268_11e9_a0d3_acde48001122row3_col1\" class=\"data row3 col1\" >3.1</td> \n",
       "        <td id=\"T_b6669a4e_9268_11e9_a0d3_acde48001122row3_col2\" class=\"data row3 col2\" >1.5</td> \n",
       "        <td id=\"T_b6669a4e_9268_11e9_a0d3_acde48001122row3_col3\" class=\"data row3 col3\" >0.2</td> \n",
       "    </tr>    <tr> \n",
       "        <th id=\"T_b6669a4e_9268_11e9_a0d3_acde48001122level0_row4\" class=\"row_heading level0 row4\" >4</th> \n",
       "        <td id=\"T_b6669a4e_9268_11e9_a0d3_acde48001122row4_col0\" class=\"data row4 col0\" >1</td> \n",
       "        <td id=\"T_b6669a4e_9268_11e9_a0d3_acde48001122row4_col1\" class=\"data row4 col1\" >3.6</td> \n",
       "        <td id=\"T_b6669a4e_9268_11e9_a0d3_acde48001122row4_col2\" class=\"data row4 col2\" >1.4</td> \n",
       "        <td id=\"T_b6669a4e_9268_11e9_a0d3_acde48001122row4_col3\" class=\"data row4 col3\" >0.2</td> \n",
       "    </tr></tbody> \n",
       "</table> "
      ],
      "text/plain": [
       "<pandas.io.formats.style.Styler at 0x1c25069438>"
      ]
     },
     "execution_count": 88,
     "metadata": {},
     "output_type": "execute_result"
    }
   ],
   "source": [
    "# To include an intercept in the model, you need to manually add a constant\n",
    "X_const = sm.add_constant(X)\n",
    "X_const.head().style.set_caption('Data with an added constant for the intercept')"
   ]
  },
  {
   "cell_type": "code",
   "execution_count": 65,
   "metadata": {},
   "outputs": [
    {
     "data": {
      "text/html": [
       "<table class=\"simpletable\">\n",
       "<caption>OLS Regression Results</caption>\n",
       "<tr>\n",
       "  <th>Dep. Variable:</th>      <td>sepal_length</td>   <th>  R-squared:         </th> <td>   0.859</td>\n",
       "</tr>\n",
       "<tr>\n",
       "  <th>Model:</th>                   <td>OLS</td>       <th>  Adj. R-squared:    </th> <td>   0.856</td>\n",
       "</tr>\n",
       "<tr>\n",
       "  <th>Method:</th>             <td>Least Squares</td>  <th>  F-statistic:       </th> <td>   295.5</td>\n",
       "</tr>\n",
       "<tr>\n",
       "  <th>Date:</th>             <td>Wed, 19 Jun 2019</td> <th>  Prob (F-statistic):</th> <td>8.59e-62</td>\n",
       "</tr>\n",
       "<tr>\n",
       "  <th>Time:</th>                 <td>08:58:19</td>     <th>  Log-Likelihood:    </th> <td> -37.321</td>\n",
       "</tr>\n",
       "<tr>\n",
       "  <th>No. Observations:</th>      <td>   150</td>      <th>  AIC:               </th> <td>   82.64</td>\n",
       "</tr>\n",
       "<tr>\n",
       "  <th>Df Residuals:</th>          <td>   146</td>      <th>  BIC:               </th> <td>   94.69</td>\n",
       "</tr>\n",
       "<tr>\n",
       "  <th>Df Model:</th>              <td>     3</td>      <th>                     </th>     <td> </td>   \n",
       "</tr>\n",
       "<tr>\n",
       "  <th>Covariance Type:</th>      <td>nonrobust</td>    <th>                     </th>     <td> </td>   \n",
       "</tr>\n",
       "</table>\n",
       "<table class=\"simpletable\">\n",
       "<tr>\n",
       "        <td></td>          <th>coef</th>     <th>std err</th>      <th>t</th>      <th>P>|t|</th>  <th>[0.025</th>    <th>0.975]</th>  \n",
       "</tr>\n",
       "<tr>\n",
       "  <th>const</th>        <td>    1.8560</td> <td>    0.251</td> <td>    7.401</td> <td> 0.000</td> <td>    1.360</td> <td>    2.352</td>\n",
       "</tr>\n",
       "<tr>\n",
       "  <th>sepal_width</th>  <td>    0.6508</td> <td>    0.067</td> <td>    9.765</td> <td> 0.000</td> <td>    0.519</td> <td>    0.783</td>\n",
       "</tr>\n",
       "<tr>\n",
       "  <th>petal_length</th> <td>    0.7091</td> <td>    0.057</td> <td>   12.502</td> <td> 0.000</td> <td>    0.597</td> <td>    0.821</td>\n",
       "</tr>\n",
       "<tr>\n",
       "  <th>petal_width</th>  <td>   -0.5565</td> <td>    0.128</td> <td>   -4.363</td> <td> 0.000</td> <td>   -0.809</td> <td>   -0.304</td>\n",
       "</tr>\n",
       "</table>\n",
       "<table class=\"simpletable\">\n",
       "<tr>\n",
       "  <th>Omnibus:</th>       <td> 0.345</td> <th>  Durbin-Watson:     </th> <td>   2.060</td>\n",
       "</tr>\n",
       "<tr>\n",
       "  <th>Prob(Omnibus):</th> <td> 0.842</td> <th>  Jarque-Bera (JB):  </th> <td>   0.504</td>\n",
       "</tr>\n",
       "<tr>\n",
       "  <th>Skew:</th>          <td> 0.007</td> <th>  Prob(JB):          </th> <td>   0.777</td>\n",
       "</tr>\n",
       "<tr>\n",
       "  <th>Kurtosis:</th>      <td> 2.716</td> <th>  Cond. No.          </th> <td>    54.7</td>\n",
       "</tr>\n",
       "</table><br/><br/>Warnings:<br/>[1] Standard Errors assume that the covariance matrix of the errors is correctly specified."
      ],
      "text/plain": [
       "<class 'statsmodels.iolib.summary.Summary'>\n",
       "\"\"\"\n",
       "                            OLS Regression Results                            \n",
       "==============================================================================\n",
       "Dep. Variable:           sepal_length   R-squared:                       0.859\n",
       "Model:                            OLS   Adj. R-squared:                  0.856\n",
       "Method:                 Least Squares   F-statistic:                     295.5\n",
       "Date:                Wed, 19 Jun 2019   Prob (F-statistic):           8.59e-62\n",
       "Time:                        08:58:19   Log-Likelihood:                -37.321\n",
       "No. Observations:                 150   AIC:                             82.64\n",
       "Df Residuals:                     146   BIC:                             94.69\n",
       "Df Model:                           3                                         \n",
       "Covariance Type:            nonrobust                                         \n",
       "================================================================================\n",
       "                   coef    std err          t      P>|t|      [0.025      0.975]\n",
       "--------------------------------------------------------------------------------\n",
       "const            1.8560      0.251      7.401      0.000       1.360       2.352\n",
       "sepal_width      0.6508      0.067      9.765      0.000       0.519       0.783\n",
       "petal_length     0.7091      0.057     12.502      0.000       0.597       0.821\n",
       "petal_width     -0.5565      0.128     -4.363      0.000      -0.809      -0.304\n",
       "==============================================================================\n",
       "Omnibus:                        0.345   Durbin-Watson:                   2.060\n",
       "Prob(Omnibus):                  0.842   Jarque-Bera (JB):                0.504\n",
       "Skew:                           0.007   Prob(JB):                        0.777\n",
       "Kurtosis:                       2.716   Cond. No.                         54.7\n",
       "==============================================================================\n",
       "\n",
       "Warnings:\n",
       "[1] Standard Errors assume that the covariance matrix of the errors is correctly specified.\n",
       "\"\"\""
      ]
     },
     "execution_count": 65,
     "metadata": {},
     "output_type": "execute_result"
    }
   ],
   "source": [
    "# Build the OLS model\n",
    "model = sm.OLS(y, X_const)\n",
    "\n",
    "# fit and save the regression parameters\n",
    "results = model.fit()\n",
    "\n",
    "# View the model summary\n",
    "results.summary()"
   ]
  },
  {
   "cell_type": "markdown",
   "metadata": {},
   "source": [
    "### Sklearn\n",
    "\n",
    "We can achieve the same model with sklearn, but it does not output the summary tables above. Somewhat confusingly, the API requires that X and y and the other way around. "
   ]
  },
  {
   "cell_type": "code",
   "execution_count": 66,
   "metadata": {},
   "outputs": [
    {
     "data": {
      "text/plain": [
       "0.8586117200663176"
      ]
     },
     "execution_count": 66,
     "metadata": {},
     "output_type": "execute_result"
    }
   ],
   "source": [
    "# Import OLS from sklearn\n",
    "from sklearn.linear_model import LinearRegression\n",
    "\n",
    "# Initialise the model\n",
    "regression = LinearRegression()\n",
    "\n",
    "# Fit the model. This time, there is no need to add a constant. \n",
    "model = regression.fit(X, y)\n",
    "\n",
    "# We can use this model for prediction, but we can't get the sumamry table above.\n",
    "r2 = regression.score(X, y)\n",
    "r2"
   ]
  },
  {
   "cell_type": "markdown",
   "metadata": {},
   "source": [
    "## Part 7:  Introduction to Pandas \n",
    "\n",
    "Often data is stored in comma separated values (CSV) files.    For the remainder of this lab, we'll be working with [automobile data](https://stat.ethz.ch/R-manual/R-devel/library/datasets/html/mtcars.html), where we've extracted relevant parts below.\n",
    "\n",
    "Note that CSV files can be output by any spreadsheet software, and are plain text, hence are a great way to share data. "
   ]
  },
  {
   "cell_type": "markdown",
   "metadata": {},
   "source": [
    "### Importing data with pandas\n",
    "\n",
    "Now let's read in our automobile data as a pandas *dataframe* structure.  "
   ]
  },
  {
   "cell_type": "code",
   "execution_count": 67,
   "metadata": {},
   "outputs": [],
   "source": [
    "import pandas as pd"
   ]
  },
  {
   "cell_type": "code",
   "execution_count": 68,
   "metadata": {},
   "outputs": [
    {
     "data": {
      "text/plain": [
       "pandas.core.frame.DataFrame"
      ]
     },
     "execution_count": 68,
     "metadata": {},
     "output_type": "execute_result"
    }
   ],
   "source": [
    "# Read in the csv files\n",
    "dfcars=pd.read_csv('files/mtcars.txt')\n",
    "type(dfcars)"
   ]
  },
  {
   "cell_type": "code",
   "execution_count": 89,
   "metadata": {},
   "outputs": [
    {
     "data": {
      "text/html": [
       "<style  type=\"text/css\" >\n",
       "</style>  \n",
       "<table id=\"T_c0109f68_9268_11e9_a0d3_acde48001122\" ><caption>Raw imported table</caption> \n",
       "<thead>    <tr> \n",
       "        <th class=\"blank level0\" ></th> \n",
       "        <th class=\"col_heading level0 col0\" >name</th> \n",
       "        <th class=\"col_heading level0 col1\" >mpg</th> \n",
       "        <th class=\"col_heading level0 col2\" >cyl</th> \n",
       "        <th class=\"col_heading level0 col3\" >disp</th> \n",
       "        <th class=\"col_heading level0 col4\" >hp</th> \n",
       "        <th class=\"col_heading level0 col5\" >drat</th> \n",
       "        <th class=\"col_heading level0 col6\" >wt</th> \n",
       "        <th class=\"col_heading level0 col7\" >qsec</th> \n",
       "        <th class=\"col_heading level0 col8\" >vs</th> \n",
       "        <th class=\"col_heading level0 col9\" >am</th> \n",
       "        <th class=\"col_heading level0 col10\" >gear</th> \n",
       "        <th class=\"col_heading level0 col11\" >carb</th> \n",
       "    </tr></thead> \n",
       "<tbody>    <tr> \n",
       "        <th id=\"T_c0109f68_9268_11e9_a0d3_acde48001122level0_row0\" class=\"row_heading level0 row0\" >0</th> \n",
       "        <td id=\"T_c0109f68_9268_11e9_a0d3_acde48001122row0_col0\" class=\"data row0 col0\" >Mazda RX4</td> \n",
       "        <td id=\"T_c0109f68_9268_11e9_a0d3_acde48001122row0_col1\" class=\"data row0 col1\" >21</td> \n",
       "        <td id=\"T_c0109f68_9268_11e9_a0d3_acde48001122row0_col2\" class=\"data row0 col2\" >6</td> \n",
       "        <td id=\"T_c0109f68_9268_11e9_a0d3_acde48001122row0_col3\" class=\"data row0 col3\" >160</td> \n",
       "        <td id=\"T_c0109f68_9268_11e9_a0d3_acde48001122row0_col4\" class=\"data row0 col4\" >110</td> \n",
       "        <td id=\"T_c0109f68_9268_11e9_a0d3_acde48001122row0_col5\" class=\"data row0 col5\" >3.9</td> \n",
       "        <td id=\"T_c0109f68_9268_11e9_a0d3_acde48001122row0_col6\" class=\"data row0 col6\" >2.62</td> \n",
       "        <td id=\"T_c0109f68_9268_11e9_a0d3_acde48001122row0_col7\" class=\"data row0 col7\" >16.46</td> \n",
       "        <td id=\"T_c0109f68_9268_11e9_a0d3_acde48001122row0_col8\" class=\"data row0 col8\" >0</td> \n",
       "        <td id=\"T_c0109f68_9268_11e9_a0d3_acde48001122row0_col9\" class=\"data row0 col9\" >1</td> \n",
       "        <td id=\"T_c0109f68_9268_11e9_a0d3_acde48001122row0_col10\" class=\"data row0 col10\" >4</td> \n",
       "        <td id=\"T_c0109f68_9268_11e9_a0d3_acde48001122row0_col11\" class=\"data row0 col11\" >4</td> \n",
       "    </tr>    <tr> \n",
       "        <th id=\"T_c0109f68_9268_11e9_a0d3_acde48001122level0_row1\" class=\"row_heading level0 row1\" >1</th> \n",
       "        <td id=\"T_c0109f68_9268_11e9_a0d3_acde48001122row1_col0\" class=\"data row1 col0\" >Mazda RX4 Wag</td> \n",
       "        <td id=\"T_c0109f68_9268_11e9_a0d3_acde48001122row1_col1\" class=\"data row1 col1\" >21</td> \n",
       "        <td id=\"T_c0109f68_9268_11e9_a0d3_acde48001122row1_col2\" class=\"data row1 col2\" >6</td> \n",
       "        <td id=\"T_c0109f68_9268_11e9_a0d3_acde48001122row1_col3\" class=\"data row1 col3\" >160</td> \n",
       "        <td id=\"T_c0109f68_9268_11e9_a0d3_acde48001122row1_col4\" class=\"data row1 col4\" >110</td> \n",
       "        <td id=\"T_c0109f68_9268_11e9_a0d3_acde48001122row1_col5\" class=\"data row1 col5\" >3.9</td> \n",
       "        <td id=\"T_c0109f68_9268_11e9_a0d3_acde48001122row1_col6\" class=\"data row1 col6\" >2.875</td> \n",
       "        <td id=\"T_c0109f68_9268_11e9_a0d3_acde48001122row1_col7\" class=\"data row1 col7\" >17.02</td> \n",
       "        <td id=\"T_c0109f68_9268_11e9_a0d3_acde48001122row1_col8\" class=\"data row1 col8\" >0</td> \n",
       "        <td id=\"T_c0109f68_9268_11e9_a0d3_acde48001122row1_col9\" class=\"data row1 col9\" >1</td> \n",
       "        <td id=\"T_c0109f68_9268_11e9_a0d3_acde48001122row1_col10\" class=\"data row1 col10\" >4</td> \n",
       "        <td id=\"T_c0109f68_9268_11e9_a0d3_acde48001122row1_col11\" class=\"data row1 col11\" >4</td> \n",
       "    </tr>    <tr> \n",
       "        <th id=\"T_c0109f68_9268_11e9_a0d3_acde48001122level0_row2\" class=\"row_heading level0 row2\" >2</th> \n",
       "        <td id=\"T_c0109f68_9268_11e9_a0d3_acde48001122row2_col0\" class=\"data row2 col0\" >Datsun 710</td> \n",
       "        <td id=\"T_c0109f68_9268_11e9_a0d3_acde48001122row2_col1\" class=\"data row2 col1\" >22.8</td> \n",
       "        <td id=\"T_c0109f68_9268_11e9_a0d3_acde48001122row2_col2\" class=\"data row2 col2\" >4</td> \n",
       "        <td id=\"T_c0109f68_9268_11e9_a0d3_acde48001122row2_col3\" class=\"data row2 col3\" >108</td> \n",
       "        <td id=\"T_c0109f68_9268_11e9_a0d3_acde48001122row2_col4\" class=\"data row2 col4\" >93</td> \n",
       "        <td id=\"T_c0109f68_9268_11e9_a0d3_acde48001122row2_col5\" class=\"data row2 col5\" >3.85</td> \n",
       "        <td id=\"T_c0109f68_9268_11e9_a0d3_acde48001122row2_col6\" class=\"data row2 col6\" >2.32</td> \n",
       "        <td id=\"T_c0109f68_9268_11e9_a0d3_acde48001122row2_col7\" class=\"data row2 col7\" >18.61</td> \n",
       "        <td id=\"T_c0109f68_9268_11e9_a0d3_acde48001122row2_col8\" class=\"data row2 col8\" >1</td> \n",
       "        <td id=\"T_c0109f68_9268_11e9_a0d3_acde48001122row2_col9\" class=\"data row2 col9\" >1</td> \n",
       "        <td id=\"T_c0109f68_9268_11e9_a0d3_acde48001122row2_col10\" class=\"data row2 col10\" >4</td> \n",
       "        <td id=\"T_c0109f68_9268_11e9_a0d3_acde48001122row2_col11\" class=\"data row2 col11\" >1</td> \n",
       "    </tr>    <tr> \n",
       "        <th id=\"T_c0109f68_9268_11e9_a0d3_acde48001122level0_row3\" class=\"row_heading level0 row3\" >3</th> \n",
       "        <td id=\"T_c0109f68_9268_11e9_a0d3_acde48001122row3_col0\" class=\"data row3 col0\" >Hornet 4 Drive</td> \n",
       "        <td id=\"T_c0109f68_9268_11e9_a0d3_acde48001122row3_col1\" class=\"data row3 col1\" >21.4</td> \n",
       "        <td id=\"T_c0109f68_9268_11e9_a0d3_acde48001122row3_col2\" class=\"data row3 col2\" >6</td> \n",
       "        <td id=\"T_c0109f68_9268_11e9_a0d3_acde48001122row3_col3\" class=\"data row3 col3\" >258</td> \n",
       "        <td id=\"T_c0109f68_9268_11e9_a0d3_acde48001122row3_col4\" class=\"data row3 col4\" >110</td> \n",
       "        <td id=\"T_c0109f68_9268_11e9_a0d3_acde48001122row3_col5\" class=\"data row3 col5\" >3.08</td> \n",
       "        <td id=\"T_c0109f68_9268_11e9_a0d3_acde48001122row3_col6\" class=\"data row3 col6\" >3.215</td> \n",
       "        <td id=\"T_c0109f68_9268_11e9_a0d3_acde48001122row3_col7\" class=\"data row3 col7\" >19.44</td> \n",
       "        <td id=\"T_c0109f68_9268_11e9_a0d3_acde48001122row3_col8\" class=\"data row3 col8\" >1</td> \n",
       "        <td id=\"T_c0109f68_9268_11e9_a0d3_acde48001122row3_col9\" class=\"data row3 col9\" >0</td> \n",
       "        <td id=\"T_c0109f68_9268_11e9_a0d3_acde48001122row3_col10\" class=\"data row3 col10\" >3</td> \n",
       "        <td id=\"T_c0109f68_9268_11e9_a0d3_acde48001122row3_col11\" class=\"data row3 col11\" >1</td> \n",
       "    </tr>    <tr> \n",
       "        <th id=\"T_c0109f68_9268_11e9_a0d3_acde48001122level0_row4\" class=\"row_heading level0 row4\" >4</th> \n",
       "        <td id=\"T_c0109f68_9268_11e9_a0d3_acde48001122row4_col0\" class=\"data row4 col0\" >Hornet Sportabout</td> \n",
       "        <td id=\"T_c0109f68_9268_11e9_a0d3_acde48001122row4_col1\" class=\"data row4 col1\" >18.7</td> \n",
       "        <td id=\"T_c0109f68_9268_11e9_a0d3_acde48001122row4_col2\" class=\"data row4 col2\" >8</td> \n",
       "        <td id=\"T_c0109f68_9268_11e9_a0d3_acde48001122row4_col3\" class=\"data row4 col3\" >360</td> \n",
       "        <td id=\"T_c0109f68_9268_11e9_a0d3_acde48001122row4_col4\" class=\"data row4 col4\" >175</td> \n",
       "        <td id=\"T_c0109f68_9268_11e9_a0d3_acde48001122row4_col5\" class=\"data row4 col5\" >3.15</td> \n",
       "        <td id=\"T_c0109f68_9268_11e9_a0d3_acde48001122row4_col6\" class=\"data row4 col6\" >3.44</td> \n",
       "        <td id=\"T_c0109f68_9268_11e9_a0d3_acde48001122row4_col7\" class=\"data row4 col7\" >17.02</td> \n",
       "        <td id=\"T_c0109f68_9268_11e9_a0d3_acde48001122row4_col8\" class=\"data row4 col8\" >0</td> \n",
       "        <td id=\"T_c0109f68_9268_11e9_a0d3_acde48001122row4_col9\" class=\"data row4 col9\" >0</td> \n",
       "        <td id=\"T_c0109f68_9268_11e9_a0d3_acde48001122row4_col10\" class=\"data row4 col10\" >3</td> \n",
       "        <td id=\"T_c0109f68_9268_11e9_a0d3_acde48001122row4_col11\" class=\"data row4 col11\" >2</td> \n",
       "    </tr></tbody> \n",
       "</table> "
      ],
      "text/plain": [
       "<pandas.io.formats.style.Styler at 0x1c250ef2e8>"
      ]
     },
     "execution_count": 89,
     "metadata": {},
     "output_type": "execute_result"
    }
   ],
   "source": [
    "dfcars.head().style.set_caption('Raw imported table')"
   ]
  },
  {
   "cell_type": "markdown",
   "metadata": {},
   "source": [
    "What we have now is a spreadsheet with indexed rows and named columns, called a *dataframe* in pandas.  `dfcars` is an *instance* of the pd.DataFrame *class*, created by calling the pd.read_csv \"constructor function\".\n",
    "\n",
    "The take-away is that `dfcars` is a dataframe object, and it has methods (functions) belonging to it. For example, `df.head()` is a method that shows the first 5 rows of the dataframe.\n",
    "\n",
    "A pandas dataframe is a set of columns pasted together into a spreadsheet, as shown in the schematic below, which is taken from the cheatsheet above.  The columns in pandas are called *series* objects.\n",
    "\n",
    "![](images/pandastruct.png)"
   ]
  },
  {
   "cell_type": "markdown",
   "metadata": {},
   "source": [
    "Let's look again at the first five rows of `dfcars`.  "
   ]
  },
  {
   "cell_type": "code",
   "execution_count": 90,
   "metadata": {},
   "outputs": [
    {
     "data": {
      "text/html": [
       "<style  type=\"text/css\" >\n",
       "</style>  \n",
       "<table id=\"T_c4835356_9268_11e9_a0d3_acde48001122\" ><caption>Raw imported table</caption> \n",
       "<thead>    <tr> \n",
       "        <th class=\"blank level0\" ></th> \n",
       "        <th class=\"col_heading level0 col0\" >name</th> \n",
       "        <th class=\"col_heading level0 col1\" >mpg</th> \n",
       "        <th class=\"col_heading level0 col2\" >cyl</th> \n",
       "        <th class=\"col_heading level0 col3\" >disp</th> \n",
       "        <th class=\"col_heading level0 col4\" >hp</th> \n",
       "        <th class=\"col_heading level0 col5\" >drat</th> \n",
       "        <th class=\"col_heading level0 col6\" >wt</th> \n",
       "        <th class=\"col_heading level0 col7\" >qsec</th> \n",
       "        <th class=\"col_heading level0 col8\" >vs</th> \n",
       "        <th class=\"col_heading level0 col9\" >am</th> \n",
       "        <th class=\"col_heading level0 col10\" >gear</th> \n",
       "        <th class=\"col_heading level0 col11\" >carb</th> \n",
       "    </tr></thead> \n",
       "<tbody>    <tr> \n",
       "        <th id=\"T_c4835356_9268_11e9_a0d3_acde48001122level0_row0\" class=\"row_heading level0 row0\" >0</th> \n",
       "        <td id=\"T_c4835356_9268_11e9_a0d3_acde48001122row0_col0\" class=\"data row0 col0\" >Mazda RX4</td> \n",
       "        <td id=\"T_c4835356_9268_11e9_a0d3_acde48001122row0_col1\" class=\"data row0 col1\" >21</td> \n",
       "        <td id=\"T_c4835356_9268_11e9_a0d3_acde48001122row0_col2\" class=\"data row0 col2\" >6</td> \n",
       "        <td id=\"T_c4835356_9268_11e9_a0d3_acde48001122row0_col3\" class=\"data row0 col3\" >160</td> \n",
       "        <td id=\"T_c4835356_9268_11e9_a0d3_acde48001122row0_col4\" class=\"data row0 col4\" >110</td> \n",
       "        <td id=\"T_c4835356_9268_11e9_a0d3_acde48001122row0_col5\" class=\"data row0 col5\" >3.9</td> \n",
       "        <td id=\"T_c4835356_9268_11e9_a0d3_acde48001122row0_col6\" class=\"data row0 col6\" >2.62</td> \n",
       "        <td id=\"T_c4835356_9268_11e9_a0d3_acde48001122row0_col7\" class=\"data row0 col7\" >16.46</td> \n",
       "        <td id=\"T_c4835356_9268_11e9_a0d3_acde48001122row0_col8\" class=\"data row0 col8\" >0</td> \n",
       "        <td id=\"T_c4835356_9268_11e9_a0d3_acde48001122row0_col9\" class=\"data row0 col9\" >1</td> \n",
       "        <td id=\"T_c4835356_9268_11e9_a0d3_acde48001122row0_col10\" class=\"data row0 col10\" >4</td> \n",
       "        <td id=\"T_c4835356_9268_11e9_a0d3_acde48001122row0_col11\" class=\"data row0 col11\" >4</td> \n",
       "    </tr>    <tr> \n",
       "        <th id=\"T_c4835356_9268_11e9_a0d3_acde48001122level0_row1\" class=\"row_heading level0 row1\" >1</th> \n",
       "        <td id=\"T_c4835356_9268_11e9_a0d3_acde48001122row1_col0\" class=\"data row1 col0\" >Mazda RX4 Wag</td> \n",
       "        <td id=\"T_c4835356_9268_11e9_a0d3_acde48001122row1_col1\" class=\"data row1 col1\" >21</td> \n",
       "        <td id=\"T_c4835356_9268_11e9_a0d3_acde48001122row1_col2\" class=\"data row1 col2\" >6</td> \n",
       "        <td id=\"T_c4835356_9268_11e9_a0d3_acde48001122row1_col3\" class=\"data row1 col3\" >160</td> \n",
       "        <td id=\"T_c4835356_9268_11e9_a0d3_acde48001122row1_col4\" class=\"data row1 col4\" >110</td> \n",
       "        <td id=\"T_c4835356_9268_11e9_a0d3_acde48001122row1_col5\" class=\"data row1 col5\" >3.9</td> \n",
       "        <td id=\"T_c4835356_9268_11e9_a0d3_acde48001122row1_col6\" class=\"data row1 col6\" >2.875</td> \n",
       "        <td id=\"T_c4835356_9268_11e9_a0d3_acde48001122row1_col7\" class=\"data row1 col7\" >17.02</td> \n",
       "        <td id=\"T_c4835356_9268_11e9_a0d3_acde48001122row1_col8\" class=\"data row1 col8\" >0</td> \n",
       "        <td id=\"T_c4835356_9268_11e9_a0d3_acde48001122row1_col9\" class=\"data row1 col9\" >1</td> \n",
       "        <td id=\"T_c4835356_9268_11e9_a0d3_acde48001122row1_col10\" class=\"data row1 col10\" >4</td> \n",
       "        <td id=\"T_c4835356_9268_11e9_a0d3_acde48001122row1_col11\" class=\"data row1 col11\" >4</td> \n",
       "    </tr>    <tr> \n",
       "        <th id=\"T_c4835356_9268_11e9_a0d3_acde48001122level0_row2\" class=\"row_heading level0 row2\" >2</th> \n",
       "        <td id=\"T_c4835356_9268_11e9_a0d3_acde48001122row2_col0\" class=\"data row2 col0\" >Datsun 710</td> \n",
       "        <td id=\"T_c4835356_9268_11e9_a0d3_acde48001122row2_col1\" class=\"data row2 col1\" >22.8</td> \n",
       "        <td id=\"T_c4835356_9268_11e9_a0d3_acde48001122row2_col2\" class=\"data row2 col2\" >4</td> \n",
       "        <td id=\"T_c4835356_9268_11e9_a0d3_acde48001122row2_col3\" class=\"data row2 col3\" >108</td> \n",
       "        <td id=\"T_c4835356_9268_11e9_a0d3_acde48001122row2_col4\" class=\"data row2 col4\" >93</td> \n",
       "        <td id=\"T_c4835356_9268_11e9_a0d3_acde48001122row2_col5\" class=\"data row2 col5\" >3.85</td> \n",
       "        <td id=\"T_c4835356_9268_11e9_a0d3_acde48001122row2_col6\" class=\"data row2 col6\" >2.32</td> \n",
       "        <td id=\"T_c4835356_9268_11e9_a0d3_acde48001122row2_col7\" class=\"data row2 col7\" >18.61</td> \n",
       "        <td id=\"T_c4835356_9268_11e9_a0d3_acde48001122row2_col8\" class=\"data row2 col8\" >1</td> \n",
       "        <td id=\"T_c4835356_9268_11e9_a0d3_acde48001122row2_col9\" class=\"data row2 col9\" >1</td> \n",
       "        <td id=\"T_c4835356_9268_11e9_a0d3_acde48001122row2_col10\" class=\"data row2 col10\" >4</td> \n",
       "        <td id=\"T_c4835356_9268_11e9_a0d3_acde48001122row2_col11\" class=\"data row2 col11\" >1</td> \n",
       "    </tr>    <tr> \n",
       "        <th id=\"T_c4835356_9268_11e9_a0d3_acde48001122level0_row3\" class=\"row_heading level0 row3\" >3</th> \n",
       "        <td id=\"T_c4835356_9268_11e9_a0d3_acde48001122row3_col0\" class=\"data row3 col0\" >Hornet 4 Drive</td> \n",
       "        <td id=\"T_c4835356_9268_11e9_a0d3_acde48001122row3_col1\" class=\"data row3 col1\" >21.4</td> \n",
       "        <td id=\"T_c4835356_9268_11e9_a0d3_acde48001122row3_col2\" class=\"data row3 col2\" >6</td> \n",
       "        <td id=\"T_c4835356_9268_11e9_a0d3_acde48001122row3_col3\" class=\"data row3 col3\" >258</td> \n",
       "        <td id=\"T_c4835356_9268_11e9_a0d3_acde48001122row3_col4\" class=\"data row3 col4\" >110</td> \n",
       "        <td id=\"T_c4835356_9268_11e9_a0d3_acde48001122row3_col5\" class=\"data row3 col5\" >3.08</td> \n",
       "        <td id=\"T_c4835356_9268_11e9_a0d3_acde48001122row3_col6\" class=\"data row3 col6\" >3.215</td> \n",
       "        <td id=\"T_c4835356_9268_11e9_a0d3_acde48001122row3_col7\" class=\"data row3 col7\" >19.44</td> \n",
       "        <td id=\"T_c4835356_9268_11e9_a0d3_acde48001122row3_col8\" class=\"data row3 col8\" >1</td> \n",
       "        <td id=\"T_c4835356_9268_11e9_a0d3_acde48001122row3_col9\" class=\"data row3 col9\" >0</td> \n",
       "        <td id=\"T_c4835356_9268_11e9_a0d3_acde48001122row3_col10\" class=\"data row3 col10\" >3</td> \n",
       "        <td id=\"T_c4835356_9268_11e9_a0d3_acde48001122row3_col11\" class=\"data row3 col11\" >1</td> \n",
       "    </tr>    <tr> \n",
       "        <th id=\"T_c4835356_9268_11e9_a0d3_acde48001122level0_row4\" class=\"row_heading level0 row4\" >4</th> \n",
       "        <td id=\"T_c4835356_9268_11e9_a0d3_acde48001122row4_col0\" class=\"data row4 col0\" >Hornet Sportabout</td> \n",
       "        <td id=\"T_c4835356_9268_11e9_a0d3_acde48001122row4_col1\" class=\"data row4 col1\" >18.7</td> \n",
       "        <td id=\"T_c4835356_9268_11e9_a0d3_acde48001122row4_col2\" class=\"data row4 col2\" >8</td> \n",
       "        <td id=\"T_c4835356_9268_11e9_a0d3_acde48001122row4_col3\" class=\"data row4 col3\" >360</td> \n",
       "        <td id=\"T_c4835356_9268_11e9_a0d3_acde48001122row4_col4\" class=\"data row4 col4\" >175</td> \n",
       "        <td id=\"T_c4835356_9268_11e9_a0d3_acde48001122row4_col5\" class=\"data row4 col5\" >3.15</td> \n",
       "        <td id=\"T_c4835356_9268_11e9_a0d3_acde48001122row4_col6\" class=\"data row4 col6\" >3.44</td> \n",
       "        <td id=\"T_c4835356_9268_11e9_a0d3_acde48001122row4_col7\" class=\"data row4 col7\" >17.02</td> \n",
       "        <td id=\"T_c4835356_9268_11e9_a0d3_acde48001122row4_col8\" class=\"data row4 col8\" >0</td> \n",
       "        <td id=\"T_c4835356_9268_11e9_a0d3_acde48001122row4_col9\" class=\"data row4 col9\" >0</td> \n",
       "        <td id=\"T_c4835356_9268_11e9_a0d3_acde48001122row4_col10\" class=\"data row4 col10\" >3</td> \n",
       "        <td id=\"T_c4835356_9268_11e9_a0d3_acde48001122row4_col11\" class=\"data row4 col11\" >2</td> \n",
       "    </tr></tbody> \n",
       "</table> "
      ],
      "text/plain": [
       "<pandas.io.formats.style.Styler at 0x1c24753e10>"
      ]
     },
     "execution_count": 90,
     "metadata": {},
     "output_type": "execute_result"
    }
   ],
   "source": [
    "dfcars.head().style.set_caption('Raw imported table')"
   ]
  },
  {
   "cell_type": "markdown",
   "metadata": {},
   "source": [
    "Notice the poorly named first column: \"Unnamed: 0\". Why did that happen?\n",
    "\n",
    "The first column, which seems to be the name of the car, does not have a name. Here are the first 3 lines of the file:"
   ]
  },
  {
   "cell_type": "markdown",
   "metadata": {},
   "source": [
    "```    \n",
    "\"\",\"mpg\",\"cyl\",\"disp\",\"hp\",\"drat\",\"wt\",\"qsec\",\"vs\",\"am\",\"gear\",\"carb\"\n",
    "\"Mazda RX4\",21,6,160,110,3.9,2.62,16.46,0,1,4,4\n",
    "\"Mazda RX4 Wag\",21,6,160,110,3.9,2.875,17.02,0,1,4,4\n",
    "```\n",
    "\n",
    "Lets **clean** that up:"
   ]
  },
  {
   "cell_type": "code",
   "execution_count": 91,
   "metadata": {
    "scrolled": false
   },
   "outputs": [
    {
     "data": {
      "text/html": [
       "<style  type=\"text/css\" >\n",
       "</style>  \n",
       "<table id=\"T_caf16d36_9268_11e9_a0d3_acde48001122\" ><caption>Cleaned table</caption> \n",
       "<thead>    <tr> \n",
       "        <th class=\"blank level0\" ></th> \n",
       "        <th class=\"col_heading level0 col0\" >name</th> \n",
       "        <th class=\"col_heading level0 col1\" >mpg</th> \n",
       "        <th class=\"col_heading level0 col2\" >cyl</th> \n",
       "        <th class=\"col_heading level0 col3\" >disp</th> \n",
       "        <th class=\"col_heading level0 col4\" >hp</th> \n",
       "        <th class=\"col_heading level0 col5\" >drat</th> \n",
       "        <th class=\"col_heading level0 col6\" >wt</th> \n",
       "        <th class=\"col_heading level0 col7\" >qsec</th> \n",
       "        <th class=\"col_heading level0 col8\" >vs</th> \n",
       "        <th class=\"col_heading level0 col9\" >am</th> \n",
       "        <th class=\"col_heading level0 col10\" >gear</th> \n",
       "        <th class=\"col_heading level0 col11\" >carb</th> \n",
       "    </tr></thead> \n",
       "<tbody>    <tr> \n",
       "        <th id=\"T_caf16d36_9268_11e9_a0d3_acde48001122level0_row0\" class=\"row_heading level0 row0\" >0</th> \n",
       "        <td id=\"T_caf16d36_9268_11e9_a0d3_acde48001122row0_col0\" class=\"data row0 col0\" >Mazda RX4</td> \n",
       "        <td id=\"T_caf16d36_9268_11e9_a0d3_acde48001122row0_col1\" class=\"data row0 col1\" >21</td> \n",
       "        <td id=\"T_caf16d36_9268_11e9_a0d3_acde48001122row0_col2\" class=\"data row0 col2\" >6</td> \n",
       "        <td id=\"T_caf16d36_9268_11e9_a0d3_acde48001122row0_col3\" class=\"data row0 col3\" >160</td> \n",
       "        <td id=\"T_caf16d36_9268_11e9_a0d3_acde48001122row0_col4\" class=\"data row0 col4\" >110</td> \n",
       "        <td id=\"T_caf16d36_9268_11e9_a0d3_acde48001122row0_col5\" class=\"data row0 col5\" >3.9</td> \n",
       "        <td id=\"T_caf16d36_9268_11e9_a0d3_acde48001122row0_col6\" class=\"data row0 col6\" >2.62</td> \n",
       "        <td id=\"T_caf16d36_9268_11e9_a0d3_acde48001122row0_col7\" class=\"data row0 col7\" >16.46</td> \n",
       "        <td id=\"T_caf16d36_9268_11e9_a0d3_acde48001122row0_col8\" class=\"data row0 col8\" >0</td> \n",
       "        <td id=\"T_caf16d36_9268_11e9_a0d3_acde48001122row0_col9\" class=\"data row0 col9\" >1</td> \n",
       "        <td id=\"T_caf16d36_9268_11e9_a0d3_acde48001122row0_col10\" class=\"data row0 col10\" >4</td> \n",
       "        <td id=\"T_caf16d36_9268_11e9_a0d3_acde48001122row0_col11\" class=\"data row0 col11\" >4</td> \n",
       "    </tr>    <tr> \n",
       "        <th id=\"T_caf16d36_9268_11e9_a0d3_acde48001122level0_row1\" class=\"row_heading level0 row1\" >1</th> \n",
       "        <td id=\"T_caf16d36_9268_11e9_a0d3_acde48001122row1_col0\" class=\"data row1 col0\" >Mazda RX4 Wag</td> \n",
       "        <td id=\"T_caf16d36_9268_11e9_a0d3_acde48001122row1_col1\" class=\"data row1 col1\" >21</td> \n",
       "        <td id=\"T_caf16d36_9268_11e9_a0d3_acde48001122row1_col2\" class=\"data row1 col2\" >6</td> \n",
       "        <td id=\"T_caf16d36_9268_11e9_a0d3_acde48001122row1_col3\" class=\"data row1 col3\" >160</td> \n",
       "        <td id=\"T_caf16d36_9268_11e9_a0d3_acde48001122row1_col4\" class=\"data row1 col4\" >110</td> \n",
       "        <td id=\"T_caf16d36_9268_11e9_a0d3_acde48001122row1_col5\" class=\"data row1 col5\" >3.9</td> \n",
       "        <td id=\"T_caf16d36_9268_11e9_a0d3_acde48001122row1_col6\" class=\"data row1 col6\" >2.875</td> \n",
       "        <td id=\"T_caf16d36_9268_11e9_a0d3_acde48001122row1_col7\" class=\"data row1 col7\" >17.02</td> \n",
       "        <td id=\"T_caf16d36_9268_11e9_a0d3_acde48001122row1_col8\" class=\"data row1 col8\" >0</td> \n",
       "        <td id=\"T_caf16d36_9268_11e9_a0d3_acde48001122row1_col9\" class=\"data row1 col9\" >1</td> \n",
       "        <td id=\"T_caf16d36_9268_11e9_a0d3_acde48001122row1_col10\" class=\"data row1 col10\" >4</td> \n",
       "        <td id=\"T_caf16d36_9268_11e9_a0d3_acde48001122row1_col11\" class=\"data row1 col11\" >4</td> \n",
       "    </tr>    <tr> \n",
       "        <th id=\"T_caf16d36_9268_11e9_a0d3_acde48001122level0_row2\" class=\"row_heading level0 row2\" >2</th> \n",
       "        <td id=\"T_caf16d36_9268_11e9_a0d3_acde48001122row2_col0\" class=\"data row2 col0\" >Datsun 710</td> \n",
       "        <td id=\"T_caf16d36_9268_11e9_a0d3_acde48001122row2_col1\" class=\"data row2 col1\" >22.8</td> \n",
       "        <td id=\"T_caf16d36_9268_11e9_a0d3_acde48001122row2_col2\" class=\"data row2 col2\" >4</td> \n",
       "        <td id=\"T_caf16d36_9268_11e9_a0d3_acde48001122row2_col3\" class=\"data row2 col3\" >108</td> \n",
       "        <td id=\"T_caf16d36_9268_11e9_a0d3_acde48001122row2_col4\" class=\"data row2 col4\" >93</td> \n",
       "        <td id=\"T_caf16d36_9268_11e9_a0d3_acde48001122row2_col5\" class=\"data row2 col5\" >3.85</td> \n",
       "        <td id=\"T_caf16d36_9268_11e9_a0d3_acde48001122row2_col6\" class=\"data row2 col6\" >2.32</td> \n",
       "        <td id=\"T_caf16d36_9268_11e9_a0d3_acde48001122row2_col7\" class=\"data row2 col7\" >18.61</td> \n",
       "        <td id=\"T_caf16d36_9268_11e9_a0d3_acde48001122row2_col8\" class=\"data row2 col8\" >1</td> \n",
       "        <td id=\"T_caf16d36_9268_11e9_a0d3_acde48001122row2_col9\" class=\"data row2 col9\" >1</td> \n",
       "        <td id=\"T_caf16d36_9268_11e9_a0d3_acde48001122row2_col10\" class=\"data row2 col10\" >4</td> \n",
       "        <td id=\"T_caf16d36_9268_11e9_a0d3_acde48001122row2_col11\" class=\"data row2 col11\" >1</td> \n",
       "    </tr>    <tr> \n",
       "        <th id=\"T_caf16d36_9268_11e9_a0d3_acde48001122level0_row3\" class=\"row_heading level0 row3\" >3</th> \n",
       "        <td id=\"T_caf16d36_9268_11e9_a0d3_acde48001122row3_col0\" class=\"data row3 col0\" >Hornet 4 Drive</td> \n",
       "        <td id=\"T_caf16d36_9268_11e9_a0d3_acde48001122row3_col1\" class=\"data row3 col1\" >21.4</td> \n",
       "        <td id=\"T_caf16d36_9268_11e9_a0d3_acde48001122row3_col2\" class=\"data row3 col2\" >6</td> \n",
       "        <td id=\"T_caf16d36_9268_11e9_a0d3_acde48001122row3_col3\" class=\"data row3 col3\" >258</td> \n",
       "        <td id=\"T_caf16d36_9268_11e9_a0d3_acde48001122row3_col4\" class=\"data row3 col4\" >110</td> \n",
       "        <td id=\"T_caf16d36_9268_11e9_a0d3_acde48001122row3_col5\" class=\"data row3 col5\" >3.08</td> \n",
       "        <td id=\"T_caf16d36_9268_11e9_a0d3_acde48001122row3_col6\" class=\"data row3 col6\" >3.215</td> \n",
       "        <td id=\"T_caf16d36_9268_11e9_a0d3_acde48001122row3_col7\" class=\"data row3 col7\" >19.44</td> \n",
       "        <td id=\"T_caf16d36_9268_11e9_a0d3_acde48001122row3_col8\" class=\"data row3 col8\" >1</td> \n",
       "        <td id=\"T_caf16d36_9268_11e9_a0d3_acde48001122row3_col9\" class=\"data row3 col9\" >0</td> \n",
       "        <td id=\"T_caf16d36_9268_11e9_a0d3_acde48001122row3_col10\" class=\"data row3 col10\" >3</td> \n",
       "        <td id=\"T_caf16d36_9268_11e9_a0d3_acde48001122row3_col11\" class=\"data row3 col11\" >1</td> \n",
       "    </tr>    <tr> \n",
       "        <th id=\"T_caf16d36_9268_11e9_a0d3_acde48001122level0_row4\" class=\"row_heading level0 row4\" >4</th> \n",
       "        <td id=\"T_caf16d36_9268_11e9_a0d3_acde48001122row4_col0\" class=\"data row4 col0\" >Hornet Sportabout</td> \n",
       "        <td id=\"T_caf16d36_9268_11e9_a0d3_acde48001122row4_col1\" class=\"data row4 col1\" >18.7</td> \n",
       "        <td id=\"T_caf16d36_9268_11e9_a0d3_acde48001122row4_col2\" class=\"data row4 col2\" >8</td> \n",
       "        <td id=\"T_caf16d36_9268_11e9_a0d3_acde48001122row4_col3\" class=\"data row4 col3\" >360</td> \n",
       "        <td id=\"T_caf16d36_9268_11e9_a0d3_acde48001122row4_col4\" class=\"data row4 col4\" >175</td> \n",
       "        <td id=\"T_caf16d36_9268_11e9_a0d3_acde48001122row4_col5\" class=\"data row4 col5\" >3.15</td> \n",
       "        <td id=\"T_caf16d36_9268_11e9_a0d3_acde48001122row4_col6\" class=\"data row4 col6\" >3.44</td> \n",
       "        <td id=\"T_caf16d36_9268_11e9_a0d3_acde48001122row4_col7\" class=\"data row4 col7\" >17.02</td> \n",
       "        <td id=\"T_caf16d36_9268_11e9_a0d3_acde48001122row4_col8\" class=\"data row4 col8\" >0</td> \n",
       "        <td id=\"T_caf16d36_9268_11e9_a0d3_acde48001122row4_col9\" class=\"data row4 col9\" >0</td> \n",
       "        <td id=\"T_caf16d36_9268_11e9_a0d3_acde48001122row4_col10\" class=\"data row4 col10\" >3</td> \n",
       "        <td id=\"T_caf16d36_9268_11e9_a0d3_acde48001122row4_col11\" class=\"data row4 col11\" >2</td> \n",
       "    </tr></tbody> \n",
       "</table> "
      ],
      "text/plain": [
       "<pandas.io.formats.style.Styler at 0x1c225d9eb8>"
      ]
     },
     "execution_count": 91,
     "metadata": {},
     "output_type": "execute_result"
    }
   ],
   "source": [
    "dfcars = dfcars.rename(columns={\"Unnamed: 0\": \"name\"})\n",
    "dfcars.head().style.set_caption('Cleaned table')"
   ]
  },
  {
   "cell_type": "markdown",
   "metadata": {},
   "source": [
    "In the above, the argument `columns = {\"Unnamed: 0\": \"name\"}` of `rename` changed the name of the first column in the dataframe from `Unnamed: 0` to `name`. \n",
    "\n",
    "Lets save this cleaned dataframe out to a CSV file."
   ]
  },
  {
   "cell_type": "code",
   "execution_count": 75,
   "metadata": {},
   "outputs": [],
   "source": [
    "# dont store the 0,1,2,3,4.. index\n",
    "dfcars.to_csv(\"files/cleaned-mtcars.csv\", index=False, header=True)"
   ]
  },
  {
   "cell_type": "markdown",
   "metadata": {},
   "source": [
    "The output will look something like this:\n",
    "\n",
    "```\n",
    "name,mpg,cyl,disp,hp,drat,wt,qsec,vs,am,gear,carb\n",
    "Mazda RX4,21.0,6,160.0,110,3.9,2.62,16.46,0,1,4,4\n",
    "Mazda RX4 Wag,21.0,6,160.0,110,3.9,2.875,17.02,0,1,4,4\n",
    "Datsun 710,22.8,4,108.0,93,3.85,2.32,18.61,1,1,4,1\n",
    "Hornet 4 Drive,21.4,6,258.0,110,3.08,3.215,19.44,1,0,3,1\n",
    "Hornet Sportabout,18.7,8,360.0,175,3.15,3.44,17.02,0,0,3,2\n",
    "Valiant,18.1,6,225.0,105,2.76,3.46,20.22,1,0,3,1\n",
    "```"
   ]
  },
  {
   "cell_type": "markdown",
   "metadata": {},
   "source": [
    "To access a *series* (column), you can use either dictionary syntax or instance-variable syntax."
   ]
  },
  {
   "cell_type": "markdown",
   "metadata": {},
   "source": [
    "Dictionary syntax is very useful when column names have spaces: Python variables cannot have spaces in them."
   ]
  },
  {
   "cell_type": "code",
   "execution_count": 76,
   "metadata": {},
   "outputs": [
    {
     "data": {
      "text/plain": [
       "0     21.0\n",
       "1     21.0\n",
       "2     22.8\n",
       "3     21.4\n",
       "4     18.7\n",
       "5     18.1\n",
       "6     14.3\n",
       "7     24.4\n",
       "8     22.8\n",
       "9     19.2\n",
       "10    17.8\n",
       "11    16.4\n",
       "12    17.3\n",
       "13    15.2\n",
       "14    10.4\n",
       "15    10.4\n",
       "16    14.7\n",
       "17    32.4\n",
       "18    30.4\n",
       "19    33.9\n",
       "20    21.5\n",
       "21    15.5\n",
       "22    15.2\n",
       "23    13.3\n",
       "24    19.2\n",
       "25    27.3\n",
       "26    26.0\n",
       "27    30.4\n",
       "28    15.8\n",
       "29    19.7\n",
       "30    15.0\n",
       "31    21.4\n",
       "Name: mpg, dtype: float64"
      ]
     },
     "execution_count": 76,
     "metadata": {},
     "output_type": "execute_result"
    }
   ],
   "source": [
    "dfcars.mpg"
   ]
  },
  {
   "cell_type": "code",
   "execution_count": 77,
   "metadata": {},
   "outputs": [
    {
     "data": {
      "text/plain": [
       "0     21.0\n",
       "1     21.0\n",
       "2     22.8\n",
       "3     21.4\n",
       "4     18.7\n",
       "5     18.1\n",
       "6     14.3\n",
       "7     24.4\n",
       "8     22.8\n",
       "9     19.2\n",
       "10    17.8\n",
       "11    16.4\n",
       "12    17.3\n",
       "13    15.2\n",
       "14    10.4\n",
       "15    10.4\n",
       "16    14.7\n",
       "17    32.4\n",
       "18    30.4\n",
       "19    33.9\n",
       "20    21.5\n",
       "21    15.5\n",
       "22    15.2\n",
       "23    13.3\n",
       "24    19.2\n",
       "25    27.3\n",
       "26    26.0\n",
       "27    30.4\n",
       "28    15.8\n",
       "29    19.7\n",
       "30    15.0\n",
       "31    21.4\n",
       "Name: mpg, dtype: float64"
      ]
     },
     "execution_count": 77,
     "metadata": {},
     "output_type": "execute_result"
    }
   ],
   "source": [
    "dfcars['mpg']"
   ]
  },
  {
   "cell_type": "markdown",
   "metadata": {},
   "source": [
    "You can get a numpy array of values from the Pandas Series:"
   ]
  },
  {
   "cell_type": "code",
   "execution_count": 78,
   "metadata": {},
   "outputs": [
    {
     "data": {
      "text/plain": [
       "array([21. , 21. , 22.8, 21.4, 18.7, 18.1, 14.3, 24.4, 22.8, 19.2, 17.8,\n",
       "       16.4, 17.3, 15.2, 10.4, 10.4, 14.7, 32.4, 30.4, 33.9, 21.5, 15.5,\n",
       "       15.2, 13.3, 19.2, 27.3, 26. , 30.4, 15.8, 19.7, 15. , 21.4])"
      ]
     },
     "execution_count": 78,
     "metadata": {},
     "output_type": "execute_result"
    }
   ],
   "source": [
    "dfcars.mpg.values"
   ]
  },
  {
   "cell_type": "markdown",
   "metadata": {},
   "source": [
    "And we can produce a histogram from these values"
   ]
  },
  {
   "cell_type": "code",
   "execution_count": 84,
   "metadata": {},
   "outputs": [
    {
     "data": {
      "text/html": [
       "<figcaption> Miles per gallon </figcaption>"
      ],
      "text/plain": [
       "<IPython.core.display.HTML object>"
      ]
     },
     "metadata": {},
     "output_type": "display_data"
    },
    {
     "data": {
      "image/png": "[encoded data removed]",
      "text/plain": [
       "<Figure size 432x288 with 1 Axes>"
      ]
     },
     "metadata": {
      "needs_background": "light"
     },
     "output_type": "display_data"
    }
   ],
   "source": [
    "# the .values isnt really need, a series behaves like a list for\n",
    "# plotting purposes\n",
    "display(HTML('<figcaption> Miles per gallon </figcaption>'))\n",
    "plt.hist(dfcars.mpg.values, bins=20);\n",
    "plt.xlabel(\"mpg\");\n",
    "plt.ylabel(\"Frequency\");"
   ]
  },
  {
   "cell_type": "markdown",
   "metadata": {},
   "source": [
    "\n",
    "We can also get sub-dataframes by choosing a set of series. We  pass a list of the columns we want as \"dictionary keys\" to the dataframe.  "
   ]
  },
  {
   "cell_type": "code",
   "execution_count": 92,
   "metadata": {},
   "outputs": [
    {
     "data": {
      "text/html": [
       "<style  type=\"text/css\" >\n",
       "</style>  \n",
       "<table id=\"T_d4e45bfa_9268_11e9_a0d3_acde48001122\" ><caption>Subset table</caption> \n",
       "<thead>    <tr> \n",
       "        <th class=\"blank level0\" ></th> \n",
       "        <th class=\"col_heading level0 col0\" >am</th> \n",
       "        <th class=\"col_heading level0 col1\" >mpg</th> \n",
       "    </tr></thead> \n",
       "<tbody>    <tr> \n",
       "        <th id=\"T_d4e45bfa_9268_11e9_a0d3_acde48001122level0_row0\" class=\"row_heading level0 row0\" >0</th> \n",
       "        <td id=\"T_d4e45bfa_9268_11e9_a0d3_acde48001122row0_col0\" class=\"data row0 col0\" >1</td> \n",
       "        <td id=\"T_d4e45bfa_9268_11e9_a0d3_acde48001122row0_col1\" class=\"data row0 col1\" >21</td> \n",
       "    </tr>    <tr> \n",
       "        <th id=\"T_d4e45bfa_9268_11e9_a0d3_acde48001122level0_row1\" class=\"row_heading level0 row1\" >1</th> \n",
       "        <td id=\"T_d4e45bfa_9268_11e9_a0d3_acde48001122row1_col0\" class=\"data row1 col0\" >1</td> \n",
       "        <td id=\"T_d4e45bfa_9268_11e9_a0d3_acde48001122row1_col1\" class=\"data row1 col1\" >21</td> \n",
       "    </tr>    <tr> \n",
       "        <th id=\"T_d4e45bfa_9268_11e9_a0d3_acde48001122level0_row2\" class=\"row_heading level0 row2\" >2</th> \n",
       "        <td id=\"T_d4e45bfa_9268_11e9_a0d3_acde48001122row2_col0\" class=\"data row2 col0\" >1</td> \n",
       "        <td id=\"T_d4e45bfa_9268_11e9_a0d3_acde48001122row2_col1\" class=\"data row2 col1\" >22.8</td> \n",
       "    </tr>    <tr> \n",
       "        <th id=\"T_d4e45bfa_9268_11e9_a0d3_acde48001122level0_row3\" class=\"row_heading level0 row3\" >3</th> \n",
       "        <td id=\"T_d4e45bfa_9268_11e9_a0d3_acde48001122row3_col0\" class=\"data row3 col0\" >0</td> \n",
       "        <td id=\"T_d4e45bfa_9268_11e9_a0d3_acde48001122row3_col1\" class=\"data row3 col1\" >21.4</td> \n",
       "    </tr>    <tr> \n",
       "        <th id=\"T_d4e45bfa_9268_11e9_a0d3_acde48001122level0_row4\" class=\"row_heading level0 row4\" >4</th> \n",
       "        <td id=\"T_d4e45bfa_9268_11e9_a0d3_acde48001122row4_col0\" class=\"data row4 col0\" >0</td> \n",
       "        <td id=\"T_d4e45bfa_9268_11e9_a0d3_acde48001122row4_col1\" class=\"data row4 col1\" >18.7</td> \n",
       "    </tr></tbody> \n",
       "</table> "
      ],
      "text/plain": [
       "<pandas.io.formats.style.Styler at 0x1a20e0a908>"
      ]
     },
     "execution_count": 92,
     "metadata": {},
     "output_type": "execute_result"
    }
   ],
   "source": [
    "dfcars[['am', 'mpg']].head().style.set_caption('Subset table')"
   ]
  },
  {
   "cell_type": "markdown",
   "metadata": {},
   "source": [
    "### Scatter plots\n",
    "We often want to see co-variation among our columns, for example, miles/gallon versus weight.  This can be done with a scatter plot. "
   ]
  },
  {
   "cell_type": "code",
   "execution_count": 85,
   "metadata": {},
   "outputs": [
    {
     "data": {
      "text/html": [
       "<figcaption> weight vs mpg </figcaption>"
      ],
      "text/plain": [
       "<IPython.core.display.HTML object>"
      ]
     },
     "metadata": {},
     "output_type": "display_data"
    },
    {
     "data": {
      "image/png": "[encoded data removed]",
      "text/plain": [
       "<Figure size 432x288 with 1 Axes>"
      ]
     },
     "metadata": {
      "needs_background": "light"
     },
     "output_type": "display_data"
    }
   ],
   "source": [
    "display(HTML('<figcaption> weight vs mpg </figcaption>'))\n",
    "plt.scatter(dfcars.wt, dfcars.mpg);\n",
    "plt.xlabel(\"weight\");\n",
    "plt.ylabel(\"miles per gallon\");"
   ]
  },
  {
   "cell_type": "markdown",
   "metadata": {},
   "source": [
    "Usually we use `plt.show()` at the end of every plot to display the plot. Our magical incantation `%matplotlib inline` takes care of this for us, and we don't have to do it in the Jupyter notebook. But if you run your Python program from a file, you will need to explicitly have a call to show. We include it for completion."
   ]
  },
  {
   "cell_type": "code",
   "execution_count": 86,
   "metadata": {},
   "outputs": [
    {
     "data": {
      "text/html": [
       "<figcaption> Using plt.show() </figcaption>"
      ],
      "text/plain": [
       "<IPython.core.display.HTML object>"
      ]
     },
     "metadata": {},
     "output_type": "display_data"
    },
    {
     "data": {
      "image/png": "[encoded data removed]",
      "text/plain": [
       "<Figure size 432x288 with 1 Axes>"
      ]
     },
     "metadata": {
      "needs_background": "light"
     },
     "output_type": "display_data"
    }
   ],
   "source": [
    "display(HTML('<figcaption> Using plt.show() </figcaption>'))\n",
    "plt.plot(dfcars.wt, dfcars.mpg, 'ko')  #black dots\n",
    "plt.xlabel(\"weight\");\n",
    "plt.ylabel(\"miles per gallon\");\n",
    "plt.show()"
   ]
  },
  {
   "cell_type": "markdown",
   "metadata": {},
   "source": [
    "## Part 7: More resources\n",
    "\n",
    "This is a fantastic intro to python: [Jake's book](https://jakevdp.github.io/PythonDataScienceHandbook/).\n",
    "\n",
    "If you want access to DataCamp tutorials, please contact Gena Gibson for the login details."
   ]
  },
  {
   "cell_type": "code",
   "execution_count": 93,
   "metadata": {},
   "outputs": [
    {
     "data": {
      "text/html": [
       "\n",
       "<hr> \n",
       "<div class = 'footnote'>\n",
       "Contact gena.gibson@ricardo.com for suggestions <br>\n",
       "Version last updated on 19 July 2019\n",
       "</div>"
      ],
      "text/plain": [
       "<IPython.core.display.HTML object>"
      ]
     },
     "metadata": {},
     "output_type": "display_data"
    }
   ],
   "source": [
    "display(HTML('''\n",
    "<hr> \n",
    "<div class = 'footnote'>\n",
    "Contact gena.gibson@ricardo.com for suggestions <br>\n",
    "Version last updated on 19 July 2019\n",
    "</div>'''))"
   ]
  }
 ],
 "metadata": {
  "anaconda-cloud": {},
  "hide_input": false,
  "kernelspec": {
   "display_name": "Python 3",
   "language": "python",
   "name": "python3"
  },
  "language_info": {
   "codemirror_mode": {
    "name": "ipython",
    "version": 3
   },
   "file_extension": ".py",
   "mimetype": "text/x-python",
   "name": "python",
   "nbconvert_exporter": "python",
   "pygments_lexer": "ipython3",
   "version": "3.7.2"
  },
  "toc": {
   "base_numbering": 1,
   "nav_menu": {},
   "number_sections": true,
   "sideBar": true,
   "skip_h1_title": true,
   "title_cell": "Table of Contents",
   "title_sidebar": "Contents",
   "toc_cell": false,
   "toc_position": {
    "height": "calc(100% - 180px)",
    "left": "10px",
    "top": "150px",
    "width": "209.774px"
   },
   "toc_section_display": true,
   "toc_window_display": true
  },
  "varInspector": {
   "cols": {
    "lenName": 16,
    "lenType": 16,
    "lenVar": 40
   },
   "kernels_config": {
    "python": {
     "delete_cmd_postfix": "",
     "delete_cmd_prefix": "del ",
     "library": "var_list.py",
     "varRefreshCmd": "print(var_dic_list())"
    },
    "r": {
     "delete_cmd_postfix": ") ",
     "delete_cmd_prefix": "rm(",
     "library": "var_list.r",
     "varRefreshCmd": "cat(var_dic_list()) "
    }
   },
   "types_to_exclude": [
    "module",
    "function",
    "builtin_function_or_method",
    "instance",
    "_Feature"
   ],
   "window_display": false
  }
 },
 "nbformat": 4,
 "nbformat_minor": 2
}
