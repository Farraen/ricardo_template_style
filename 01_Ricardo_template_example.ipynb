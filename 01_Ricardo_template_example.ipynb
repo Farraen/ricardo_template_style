{
 "cells": [
  {
   "cell_type": "code",
   "execution_count": 1,
   "metadata": {
    "ExecuteTime": {
     "end_time": "2019-06-11T08:51:48.250833Z",
     "start_time": "2019-06-11T08:51:48.135144Z"
    },
    "code_folding": [],
    "extensions": {
     "jupyter_dashboards": {
      "version": 1,
      "views": {
       "grid_default": {},
       "report_default": {}
      }
     }
    },
    "hide_input": true
   },
   "outputs": [
    {
     "data": {
      "text/html": [
       "<style>\n",
       "/* Version last updated: 19 June 2019 */\n",
       "\n",
       "\n",
       "/* Dummies added as it does not seem to render the first one */\n",
       "h1, h2, h3, h4, h5, h6, body, p, div, table, th, td, thead, caption, article, figcaption, footer, footnote {}\n",
       "\n",
       "\n",
       "/* Headings */\n",
       "h1, h2, h3, h4 {\n",
       "    font-family: Arial, \"Helvetica Neue\", Helvetica, sans-serif !important;\n",
       "    padding-top: 3pt;\n",
       "    padding-bottom: 3pt;\n",
       "    text-align: left;\n",
       "    color: #0070C0 !important;\n",
       "}\n",
       "\n",
       "h1 {font-size: 20pt; text-align: center}\n",
       "h2 {font-size: 20pt;}\n",
       "h3 {font-size: 16pt;}\n",
       "h4 {font-size: 12pt;}\n",
       "\n",
       "/* Chapter numbering - remove if using TOC */\n",
       "/* Need to reset all counters at the same time if using the same element */\n",
       "/* body {counter-reset: h2 0 tables 0 figures 0}\n",
       "h2 {counter-reset: h3 0}\n",
       "h3 {counter-reset: h4 0}\n",
       "h4 {counter-reset: h5 0}\n",
       "h5 {counter-reset: h6 0}\n",
       "\n",
       "h2:before {counter-increment: h2; content: counter(h2) \". \"}\n",
       "h3:before {counter-increment: h3; content: counter(h2) \".\" counter(h3) \". \"}\n",
       "h4:before {counter-increment: h4; content: counter(h2) \".\" counter(h3) \".\" counter(h4) \". \"}\n",
       "h5:before {counter-increment: h5; content: counter(h2) \".\" counter(h3) \".\" counter(h4) \".\" counter(h5) \". \"}\n",
       "h6:before {counter-increment: h6; content: counter(h2) \".\" counter(h3) \".\" counter(h4) \".\" counter(h5) \".\" counter(h6) \". \"}\n",
       "*/\n",
       "\n",
       "body {counter-reset: tables 0 figures 0}\n",
       "\n",
       "\n",
       "/* Body text */\n",
       "p, body {\n",
       "    font-family: Arial, \"Helvetica Neue\", Helvetica, sans-serif;\n",
       "    font-size: 11pt;\n",
       "    color: black;\n",
       "}\n",
       "\n",
       "/* Tables */\n",
       "table, th, td {border: 1px solid black;}\n",
       "table { border-collapse: collapse;}\n",
       "thead {background-color: #0070C0; color: white;}\n",
       "\n",
       ".rendered_html table, .rendered_html td, .rendered_html th {\n",
       "    border: 1px solid black !important;\n",
       "}\n",
       "\n",
       "\n",
       "/* Captions */\n",
       "caption, figcaption {\n",
       "    color: black !important;\n",
       "    font-size: 10pt;\n",
       "    font-weight: bold;\n",
       "    text-align: left;\n",
       "}\n",
       "\n",
       "caption:before {counter-increment: tables; content: \"Table \" counter(tables) \". \"}\n",
       "figcaption:before {counter-increment: figures; content: \"Figure \" counter(figures) \". \"}\n",
       "\n",
       "/* Comments */\n",
       "div.todo {\n",
       "    background-color: #fcf2f2;\n",
       "    border-color: #dFb5b4;\n",
       "    border-left: 5px solid #dfb5b4;\n",
       "    padding: 0.5em;\n",
       "    }\n",
       "\n",
       "div.commenter1 {\n",
       "    background-color: lemonchiffon;\n",
       "    border-color: black;\n",
       "    border-left: 5px solid gold;\n",
       "    padding: 0.5em;\n",
       "    }\n",
       "\n",
       "div.commenter2 {\n",
       "    background-color: lightcyan;\n",
       "    border-color: black;\n",
       "    border-left: 5px solid cyan;\n",
       "    padding: 0.5em;\n",
       "    }\n",
       "\n",
       "div.commenter3 {\n",
       "    background-color: lavender;\n",
       "    border-color: black;\n",
       "    border-left: 5px solid blueviolet;\n",
       "    padding: 0.5em;\n",
       "    }\n",
       "\n",
       "/* Footer */\n",
       "div.footnote {\n",
       "    font-size: 10pt;\n",
       "    font-style: italic;\n",
       "    color: DarkGray;\n",
       "    text-align: right;\n",
       "\n",
       "}\n",
       "\n",
       "</style>\n",
       "\n"
      ],
      "text/plain": [
       "<IPython.core.display.HTML object>"
      ]
     },
     "execution_count": 1,
     "metadata": {},
     "output_type": "execute_result"
    }
   ],
   "source": [
    "from IPython.core.display import HTML, Image, display\n",
    "\n",
    "# Run this cell to apply styling\n",
    "custom_style_file = 'styles/ricardo_stylesheet.css'\n",
    "styles = open(custom_style_file, 'r').read()\n",
    "HTML(styles)"
   ]
  },
  {
   "cell_type": "code",
   "execution_count": 2,
   "metadata": {
    "hide_input": true
   },
   "outputs": [
    {
     "data": {
      "text/html": [
       "<script type=\"text/javascript\">window.PlotlyConfig = {MathJaxConfig: 'local'};</script><script type=\"text/javascript\">if (window.MathJax) {MathJax.Hub.Config({SVG: {font: \"STIX-Web\"}});}</script><script>requirejs.config({paths: { 'plotly': ['https://cdn.plot.ly/plotly-latest.min']},});if(!window._Plotly) {require(['plotly'],function(plotly) {window._Plotly=plotly;});}</script>"
      ],
      "text/vnd.plotly.v1+html": [
       "<script type=\"text/javascript\">window.PlotlyConfig = {MathJaxConfig: 'local'};</script><script type=\"text/javascript\">if (window.MathJax) {MathJax.Hub.Config({SVG: {font: \"STIX-Web\"}});}</script><script>requirejs.config({paths: { 'plotly': ['https://cdn.plot.ly/plotly-latest.min']},});if(!window._Plotly) {require(['plotly'],function(plotly) {window._Plotly=plotly;});}</script>"
      ]
     },
     "metadata": {},
     "output_type": "display_data"
    },
    {
     "data": {
      "text/html": [
       "<script type=\"text/javascript\">window.PlotlyConfig = {MathJaxConfig: 'local'};</script><script type=\"text/javascript\">if (window.MathJax) {MathJax.Hub.Config({SVG: {font: \"STIX-Web\"}});}</script><script>requirejs.config({paths: { 'plotly': ['https://cdn.plot.ly/plotly-latest.min']},});if(!window._Plotly) {require(['plotly'],function(plotly) {window._Plotly=plotly;});}</script>"
      ],
      "text/vnd.plotly.v1+html": [
       "<script type=\"text/javascript\">window.PlotlyConfig = {MathJaxConfig: 'local'};</script><script type=\"text/javascript\">if (window.MathJax) {MathJax.Hub.Config({SVG: {font: \"STIX-Web\"}});}</script><script>requirejs.config({paths: { 'plotly': ['https://cdn.plot.ly/plotly-latest.min']},});if(!window._Plotly) {require(['plotly'],function(plotly) {window._Plotly=plotly;});}</script>"
      ]
     },
     "metadata": {},
     "output_type": "display_data"
    },
    {
     "data": {
      "text/html": [
       "<script type=\"text/javascript\">window.PlotlyConfig = {MathJaxConfig: 'local'};</script><script type=\"text/javascript\">if (window.MathJax) {MathJax.Hub.Config({SVG: {font: \"STIX-Web\"}});}</script><script>requirejs.config({paths: { 'plotly': ['https://cdn.plot.ly/plotly-latest.min']},});if(!window._Plotly) {require(['plotly'],function(plotly) {window._Plotly=plotly;});}</script>"
      ],
      "text/vnd.plotly.v1+html": [
       "<script type=\"text/javascript\">window.PlotlyConfig = {MathJaxConfig: 'local'};</script><script type=\"text/javascript\">if (window.MathJax) {MathJax.Hub.Config({SVG: {font: \"STIX-Web\"}});}</script><script>requirejs.config({paths: { 'plotly': ['https://cdn.plot.ly/plotly-latest.min']},});if(!window._Plotly) {require(['plotly'],function(plotly) {window._Plotly=plotly;});}</script>"
      ]
     },
     "metadata": {},
     "output_type": "display_data"
    }
   ],
   "source": [
    "import os\n",
    "import numpy as np\n",
    "import pandas as pd\n",
    "\n",
    "# Static plotting\n",
    "import matplotlib.pyplot as plt\n",
    "%matplotlib inline \n",
    "plt.style.use('seaborn-white')\n",
    "\n",
    "import seaborn as sns\n",
    "\n",
    "# Interactive plotting\n",
    "import plotly.plotly as py\n",
    "import plotly.graph_objs as go\n",
    "from plotly.offline import iplot, init_notebook_mode\n",
    "init_notebook_mode(connected=True)\n",
    "\n",
    "import cufflinks as cf\n",
    "cf.set_config_file(offline=True, \n",
    "                   world_readable=False, \n",
    "                   theme='white')"
   ]
  },
  {
   "cell_type": "code",
   "execution_count": 3,
   "metadata": {
    "extensions": {
     "jupyter_dashboards": {
      "version": 1,
      "views": {
       "grid_default": {},
       "report_default": {}
      }
     }
    },
    "hide_input": false
   },
   "outputs": [
    {
     "data": {
      "image/png": "[encoded data removed]",
      "text/plain": [
       "<IPython.core.display.Image object>"
      ]
     },
     "execution_count": 3,
     "metadata": {
      "image/png": {
       "width": 80
      }
     },
     "output_type": "execute_result"
    }
   ],
   "source": [
    "Image(filename = 'styles/ricardo_logo.png', width = 80, embed = True)"
   ]
  },
  {
   "cell_type": "markdown",
   "metadata": {},
   "source": [
    "<hr>\n",
    "\n",
    "# Ricardo template for Jupyter Notebooks\n",
    "\n",
    "## Intro \n",
    "\n",
    "This template provides instructions to create reports with a consistent look and feel. "
   ]
  },
  {
   "cell_type": "code",
   "execution_count": 4,
   "metadata": {},
   "outputs": [
    {
     "data": {
      "text/html": [
       "<div class = \"todo\"> \n",
       "    <b>Before you start, check that you have the latest version of this guidance:</b> <br>\n",
       "    Go to the GitHub repository: <a href https://github.com/genagibson/ricardo_template_style> https://github.com/genagibson/ricardo_template_style </a> <br>\n",
       "    Right click on '01_ricardo_template_style.html', select `save link as` and view in your browser, since GitHub will not render the html <br>\n",
       "    (check it is the html file, rather than the ipynb file)\n",
       "</div>"
      ],
      "text/plain": [
       "<IPython.core.display.HTML object>"
      ]
     },
     "metadata": {},
     "output_type": "display_data"
    }
   ],
   "source": [
    "display(HTML('''<div class = \"todo\"> \n",
    "    <b>Before you start, check that you have the latest version of this guidance:</b> <br>\n",
    "    Go to the GitHub repository: <a href https://github.com/genagibson/ricardo_template_style> https://github.com/genagibson/ricardo_template_style </a> <br>\n",
    "    Right click on '01_ricardo_template_style.html', select `save link as` and view in your browser, since GitHub will not render the html <br>\n",
    "    (check it is the html file, rather than the ipynb file)\n",
    "</div>'''))\n"
   ]
  },
  {
   "cell_type": "markdown",
   "metadata": {
    "extensions": {
     "jupyter_dashboards": {
      "version": 1,
      "views": {
       "grid_default": {},
       "report_default": {}
      }
     }
    }
   },
   "source": [
    "\n",
    "\n",
    "### Enable the style sheet\n",
    "\n",
    "Custom styling for headers, automatic numbering of tables etc is added using a stylesheet.\n",
    "\n",
    "Copy the \"styles\" folder from this GitHub repository to your project folder:\n",
    "    \n",
    "    https://github.com/genagibson/ricardo_template_style/\n",
    "        styles/\n",
    "            ricardo_stylesheet.css\n",
    "\n",
    "The styles are saved in the css file. You can activate it using the following commands:\n",
    "\n",
    "``` python\n",
    "from IPython.core.display import HTML, Image, display\n",
    "custom_style_file = '/styles/ricardo_stylesheet.css' # or the path to the style sheet\n",
    "styles = open(custom_style_file, 'r').read()\n",
    "HTML(styles)\n",
    "```\n",
    "\n",
    "It provides the formatting for headings, numbered figure captions and tables. \n",
    "\n",
    "\n",
    "### Add the logo\n",
    "\n",
    "The logo image file is saved in the same \"styles\" folder as the css file. If you copied the styles folder across already, you can add it to the top of your report using the following command at the top of the page:\n",
    "\n",
    "``` python\n",
    "Image(filename = \"/styles/ricardo_logo.png\", width = 80, embed = True)\n",
    "```\n",
    "\n"
   ]
  },
  {
   "cell_type": "code",
   "execution_count": 20,
   "metadata": {},
   "outputs": [
    {
     "data": {
      "text/html": [
       "<div class = \"commenter1\"> \n",
       "    <i>NB: The import statement used for the styles will also import the necessary Image module.</i>\n",
       "</div>"
      ],
      "text/plain": [
       "<IPython.core.display.HTML object>"
      ]
     },
     "metadata": {},
     "output_type": "display_data"
    }
   ],
   "source": [
    "display(HTML('''<div class = \"commenter1\"> \n",
    "    <i>NB: The import statement used for the styles will also import the necessary Image module.</i>\n",
    "</div>'''))"
   ]
  },
  {
   "cell_type": "markdown",
   "metadata": {},
   "source": [
    "\n",
    "### Set up extensions\n",
    "\n",
    "Nbextensions offers a lot of useful tools. You can enable this on your machine but running the following in terminal: \n",
    "\n",
    "    pip install jupyter_contrib_nbextensions\n",
    "    pip install jupyter_nbextensions_configurator\n",
    "    jupyter contrib nbextension install --user\n",
    "    \n",
    "Restart the notebook and you should have a new nbextensions option in the edit menu bar"
   ]
  },
  {
   "cell_type": "code",
   "execution_count": 5,
   "metadata": {
    "hide_input": false
   },
   "outputs": [
    {
     "data": {
      "text/html": [
       "<figcaption> Location of nbextensions configurator </figcaption>"
      ],
      "text/plain": [
       "<IPython.core.display.HTML object>"
      ]
     },
     "metadata": {},
     "output_type": "display_data"
    },
    {
     "data": {
      "image/png": "[encoded data removed]",
      "text/plain": [
       "<IPython.core.display.Image object>"
      ]
     },
     "execution_count": 5,
     "metadata": {
      "image/png": {
       "width": 250
      }
     },
     "output_type": "execute_result"
    }
   ],
   "source": [
    "display(HTML('<figcaption> Location of nbextensions configurator </figcaption>'))\n",
    "Image('files/pictures/nbextensions.PNG', width = 250)"
   ]
  },
  {
   "cell_type": "markdown",
   "metadata": {},
   "source": [
    "Recommended extensions to enable are:\n",
    "    \n",
    "* Codefolding\n",
    "* RISE (for creating presentations)\n",
    "* spellchecker (not as good as Word! Use proper spellcheck for customer deliverables)\n",
    "* Table of Contents (2)\n",
    "* Hide input\n",
    "* Hide input all\n",
    "* Export embedded html"
   ]
  },
  {
   "cell_type": "markdown",
   "metadata": {
    "extensions": {
     "jupyter_dashboards": {
      "version": 1,
      "views": {
       "grid_default": {},
       "report_default": {}
      }
     }
    }
   },
   "source": [
    "## Numbering headings\n",
    "\n",
    "The headings can be automatically numbered by following these steps:\n",
    "* Enable Table of Contents (2) nbextension, following the instructions above\n",
    "* Refresh the notebook\n",
    "* To add a TOC side-bar, click the new button shown, which should have appeared in your notebook ribbon\n"
   ]
  },
  {
   "cell_type": "code",
   "execution_count": 6,
   "metadata": {
    "hide_input": false
   },
   "outputs": [
    {
     "data": {
      "text/html": [
       "<figcaption> Turn on the TOC sidebar </figcaption>"
      ],
      "text/plain": [
       "<IPython.core.display.HTML object>"
      ]
     },
     "metadata": {},
     "output_type": "display_data"
    },
    {
     "data": {
      "image/png": "[encoded data removed]",
      "text/plain": [
       "<IPython.core.display.Image object>"
      ]
     },
     "execution_count": 6,
     "metadata": {
      "image/png": {
       "width": 800
      }
     },
     "output_type": "execute_result"
    }
   ],
   "source": [
    "display(HTML('<figcaption> Turn on the TOC sidebar </figcaption>'))\n",
    "Image('files/pictures/Enable_TOC.PNG', width = 800)"
   ]
  },
  {
   "cell_type": "markdown",
   "metadata": {},
   "source": [
    "For additional formatting, you can edit the options. \n",
    "\n",
    "* Check 'Skip h1 headings from numbering, so that they can serve as notebook title'\n",
    "* For Ricardo colours, change the options to:\n",
    "    * Hover color in toc: HEX #C0C0C0 (Red 192, Green 192, Blue 192)\n",
    "    * Color of highlight mark on scrolling: HEX #0070C0 (Red 0, Green 112, Blue 192) \n",
    "    * Color of sections with selected elements: white\n",
    "    * Color of sections with running cells: white\n",
    "\n",
    "### Example heading - section\n",
    "#### Example heading - subsection"
   ]
  },
  {
   "cell_type": "markdown",
   "metadata": {
    "extensions": {
     "jupyter_dashboards": {
      "version": 1,
      "views": {
       "grid_default": {},
       "report_default": {}
      }
     }
    }
   },
   "source": [
    "## Tables and figures\n",
    "\n",
    "### Tables\n",
    "\n",
    "Use `style.set_caption` option within pandas to add numbered captions for tables. The formatting comes from the ricardo_stylesheet.css, which you need to enable in order to see the Ricardo colours and the automatic numbering.\n",
    "\n",
    "As an example, you can run the following code to get the table output below:\n",
    "\n",
    "``` python\n",
    "import seaborn as sns\n",
    "import pandas as pd\n",
    "iris = sns.load_dataset('iris')\n",
    "iris.head().style.set_caption('Example table')\n",
    "```"
   ]
  },
  {
   "cell_type": "code",
   "execution_count": 7,
   "metadata": {},
   "outputs": [
    {
     "data": {
      "text/html": [
       "<style  type=\"text/css\" >\n",
       "</style>  \n",
       "<table id=\"T_27dc9336_925a_11e9_b87f_acde48001122\" ><caption>Example table</caption> \n",
       "<thead>    <tr> \n",
       "        <th class=\"blank level0\" ></th> \n",
       "        <th class=\"col_heading level0 col0\" >sepal_length</th> \n",
       "        <th class=\"col_heading level0 col1\" >sepal_width</th> \n",
       "        <th class=\"col_heading level0 col2\" >petal_length</th> \n",
       "        <th class=\"col_heading level0 col3\" >petal_width</th> \n",
       "        <th class=\"col_heading level0 col4\" >species</th> \n",
       "    </tr></thead> \n",
       "<tbody>    <tr> \n",
       "        <th id=\"T_27dc9336_925a_11e9_b87f_acde48001122level0_row0\" class=\"row_heading level0 row0\" >0</th> \n",
       "        <td id=\"T_27dc9336_925a_11e9_b87f_acde48001122row0_col0\" class=\"data row0 col0\" >5.1</td> \n",
       "        <td id=\"T_27dc9336_925a_11e9_b87f_acde48001122row0_col1\" class=\"data row0 col1\" >3.5</td> \n",
       "        <td id=\"T_27dc9336_925a_11e9_b87f_acde48001122row0_col2\" class=\"data row0 col2\" >1.4</td> \n",
       "        <td id=\"T_27dc9336_925a_11e9_b87f_acde48001122row0_col3\" class=\"data row0 col3\" >0.2</td> \n",
       "        <td id=\"T_27dc9336_925a_11e9_b87f_acde48001122row0_col4\" class=\"data row0 col4\" >setosa</td> \n",
       "    </tr>    <tr> \n",
       "        <th id=\"T_27dc9336_925a_11e9_b87f_acde48001122level0_row1\" class=\"row_heading level0 row1\" >1</th> \n",
       "        <td id=\"T_27dc9336_925a_11e9_b87f_acde48001122row1_col0\" class=\"data row1 col0\" >4.9</td> \n",
       "        <td id=\"T_27dc9336_925a_11e9_b87f_acde48001122row1_col1\" class=\"data row1 col1\" >3</td> \n",
       "        <td id=\"T_27dc9336_925a_11e9_b87f_acde48001122row1_col2\" class=\"data row1 col2\" >1.4</td> \n",
       "        <td id=\"T_27dc9336_925a_11e9_b87f_acde48001122row1_col3\" class=\"data row1 col3\" >0.2</td> \n",
       "        <td id=\"T_27dc9336_925a_11e9_b87f_acde48001122row1_col4\" class=\"data row1 col4\" >setosa</td> \n",
       "    </tr>    <tr> \n",
       "        <th id=\"T_27dc9336_925a_11e9_b87f_acde48001122level0_row2\" class=\"row_heading level0 row2\" >2</th> \n",
       "        <td id=\"T_27dc9336_925a_11e9_b87f_acde48001122row2_col0\" class=\"data row2 col0\" >4.7</td> \n",
       "        <td id=\"T_27dc9336_925a_11e9_b87f_acde48001122row2_col1\" class=\"data row2 col1\" >3.2</td> \n",
       "        <td id=\"T_27dc9336_925a_11e9_b87f_acde48001122row2_col2\" class=\"data row2 col2\" >1.3</td> \n",
       "        <td id=\"T_27dc9336_925a_11e9_b87f_acde48001122row2_col3\" class=\"data row2 col3\" >0.2</td> \n",
       "        <td id=\"T_27dc9336_925a_11e9_b87f_acde48001122row2_col4\" class=\"data row2 col4\" >setosa</td> \n",
       "    </tr>    <tr> \n",
       "        <th id=\"T_27dc9336_925a_11e9_b87f_acde48001122level0_row3\" class=\"row_heading level0 row3\" >3</th> \n",
       "        <td id=\"T_27dc9336_925a_11e9_b87f_acde48001122row3_col0\" class=\"data row3 col0\" >4.6</td> \n",
       "        <td id=\"T_27dc9336_925a_11e9_b87f_acde48001122row3_col1\" class=\"data row3 col1\" >3.1</td> \n",
       "        <td id=\"T_27dc9336_925a_11e9_b87f_acde48001122row3_col2\" class=\"data row3 col2\" >1.5</td> \n",
       "        <td id=\"T_27dc9336_925a_11e9_b87f_acde48001122row3_col3\" class=\"data row3 col3\" >0.2</td> \n",
       "        <td id=\"T_27dc9336_925a_11e9_b87f_acde48001122row3_col4\" class=\"data row3 col4\" >setosa</td> \n",
       "    </tr>    <tr> \n",
       "        <th id=\"T_27dc9336_925a_11e9_b87f_acde48001122level0_row4\" class=\"row_heading level0 row4\" >4</th> \n",
       "        <td id=\"T_27dc9336_925a_11e9_b87f_acde48001122row4_col0\" class=\"data row4 col0\" >5</td> \n",
       "        <td id=\"T_27dc9336_925a_11e9_b87f_acde48001122row4_col1\" class=\"data row4 col1\" >3.6</td> \n",
       "        <td id=\"T_27dc9336_925a_11e9_b87f_acde48001122row4_col2\" class=\"data row4 col2\" >1.4</td> \n",
       "        <td id=\"T_27dc9336_925a_11e9_b87f_acde48001122row4_col3\" class=\"data row4 col3\" >0.2</td> \n",
       "        <td id=\"T_27dc9336_925a_11e9_b87f_acde48001122row4_col4\" class=\"data row4 col4\" >setosa</td> \n",
       "    </tr></tbody> \n",
       "</table> "
      ],
      "text/plain": [
       "<pandas.io.formats.style.Styler at 0x1a214c6f60>"
      ]
     },
     "execution_count": 7,
     "metadata": {},
     "output_type": "execute_result"
    }
   ],
   "source": [
    "iris = sns.load_dataset('iris')\n",
    "iris.head().style.set_caption('Example table')"
   ]
  },
  {
   "cell_type": "markdown",
   "metadata": {},
   "source": [
    "The numbering should increment automatically (this also comes from the css file)."
   ]
  },
  {
   "cell_type": "code",
   "execution_count": 8,
   "metadata": {
    "extensions": {
     "jupyter_dashboards": {
      "version": 1,
      "views": {
       "grid_default": {},
       "report_default": {}
      }
     }
    }
   },
   "outputs": [
    {
     "data": {
      "text/html": [
       "<style  type=\"text/css\" >\n",
       "</style>  \n",
       "<table id=\"T_27dd6e1e_925a_11e9_b87f_acde48001122\" ><caption>Example table</caption> \n",
       "<thead>    <tr> \n",
       "        <th class=\"blank level0\" ></th> \n",
       "        <th class=\"col_heading level0 col0\" >sepal_length</th> \n",
       "        <th class=\"col_heading level0 col1\" >sepal_width</th> \n",
       "        <th class=\"col_heading level0 col2\" >petal_length</th> \n",
       "        <th class=\"col_heading level0 col3\" >petal_width</th> \n",
       "        <th class=\"col_heading level0 col4\" >species</th> \n",
       "    </tr></thead> \n",
       "<tbody>    <tr> \n",
       "        <th id=\"T_27dd6e1e_925a_11e9_b87f_acde48001122level0_row0\" class=\"row_heading level0 row0\" >145</th> \n",
       "        <td id=\"T_27dd6e1e_925a_11e9_b87f_acde48001122row0_col0\" class=\"data row0 col0\" >6.7</td> \n",
       "        <td id=\"T_27dd6e1e_925a_11e9_b87f_acde48001122row0_col1\" class=\"data row0 col1\" >3</td> \n",
       "        <td id=\"T_27dd6e1e_925a_11e9_b87f_acde48001122row0_col2\" class=\"data row0 col2\" >5.2</td> \n",
       "        <td id=\"T_27dd6e1e_925a_11e9_b87f_acde48001122row0_col3\" class=\"data row0 col3\" >2.3</td> \n",
       "        <td id=\"T_27dd6e1e_925a_11e9_b87f_acde48001122row0_col4\" class=\"data row0 col4\" >virginica</td> \n",
       "    </tr>    <tr> \n",
       "        <th id=\"T_27dd6e1e_925a_11e9_b87f_acde48001122level0_row1\" class=\"row_heading level0 row1\" >146</th> \n",
       "        <td id=\"T_27dd6e1e_925a_11e9_b87f_acde48001122row1_col0\" class=\"data row1 col0\" >6.3</td> \n",
       "        <td id=\"T_27dd6e1e_925a_11e9_b87f_acde48001122row1_col1\" class=\"data row1 col1\" >2.5</td> \n",
       "        <td id=\"T_27dd6e1e_925a_11e9_b87f_acde48001122row1_col2\" class=\"data row1 col2\" >5</td> \n",
       "        <td id=\"T_27dd6e1e_925a_11e9_b87f_acde48001122row1_col3\" class=\"data row1 col3\" >1.9</td> \n",
       "        <td id=\"T_27dd6e1e_925a_11e9_b87f_acde48001122row1_col4\" class=\"data row1 col4\" >virginica</td> \n",
       "    </tr>    <tr> \n",
       "        <th id=\"T_27dd6e1e_925a_11e9_b87f_acde48001122level0_row2\" class=\"row_heading level0 row2\" >147</th> \n",
       "        <td id=\"T_27dd6e1e_925a_11e9_b87f_acde48001122row2_col0\" class=\"data row2 col0\" >6.5</td> \n",
       "        <td id=\"T_27dd6e1e_925a_11e9_b87f_acde48001122row2_col1\" class=\"data row2 col1\" >3</td> \n",
       "        <td id=\"T_27dd6e1e_925a_11e9_b87f_acde48001122row2_col2\" class=\"data row2 col2\" >5.2</td> \n",
       "        <td id=\"T_27dd6e1e_925a_11e9_b87f_acde48001122row2_col3\" class=\"data row2 col3\" >2</td> \n",
       "        <td id=\"T_27dd6e1e_925a_11e9_b87f_acde48001122row2_col4\" class=\"data row2 col4\" >virginica</td> \n",
       "    </tr>    <tr> \n",
       "        <th id=\"T_27dd6e1e_925a_11e9_b87f_acde48001122level0_row3\" class=\"row_heading level0 row3\" >148</th> \n",
       "        <td id=\"T_27dd6e1e_925a_11e9_b87f_acde48001122row3_col0\" class=\"data row3 col0\" >6.2</td> \n",
       "        <td id=\"T_27dd6e1e_925a_11e9_b87f_acde48001122row3_col1\" class=\"data row3 col1\" >3.4</td> \n",
       "        <td id=\"T_27dd6e1e_925a_11e9_b87f_acde48001122row3_col2\" class=\"data row3 col2\" >5.4</td> \n",
       "        <td id=\"T_27dd6e1e_925a_11e9_b87f_acde48001122row3_col3\" class=\"data row3 col3\" >2.3</td> \n",
       "        <td id=\"T_27dd6e1e_925a_11e9_b87f_acde48001122row3_col4\" class=\"data row3 col4\" >virginica</td> \n",
       "    </tr>    <tr> \n",
       "        <th id=\"T_27dd6e1e_925a_11e9_b87f_acde48001122level0_row4\" class=\"row_heading level0 row4\" >149</th> \n",
       "        <td id=\"T_27dd6e1e_925a_11e9_b87f_acde48001122row4_col0\" class=\"data row4 col0\" >5.9</td> \n",
       "        <td id=\"T_27dd6e1e_925a_11e9_b87f_acde48001122row4_col1\" class=\"data row4 col1\" >3</td> \n",
       "        <td id=\"T_27dd6e1e_925a_11e9_b87f_acde48001122row4_col2\" class=\"data row4 col2\" >5.1</td> \n",
       "        <td id=\"T_27dd6e1e_925a_11e9_b87f_acde48001122row4_col3\" class=\"data row4 col3\" >1.8</td> \n",
       "        <td id=\"T_27dd6e1e_925a_11e9_b87f_acde48001122row4_col4\" class=\"data row4 col4\" >virginica</td> \n",
       "    </tr></tbody> \n",
       "</table> "
      ],
      "text/plain": [
       "<pandas.io.formats.style.Styler at 0x1a21865828>"
      ]
     },
     "execution_count": 8,
     "metadata": {},
     "output_type": "execute_result"
    }
   ],
   "source": [
    "# Numbers should increment automatically\n",
    "iris.tail().style.set_caption('Example table')"
   ]
  },
  {
   "cell_type": "markdown",
   "metadata": {
    "extensions": {
     "jupyter_dashboards": {
      "version": 1,
      "views": {
       "grid_default": {},
       "report_default": {}
      }
     }
    }
   },
   "source": [
    "\n",
    "### Figures\n",
    "\n",
    "Since we might use various packages to create figures, the captions are created using HTML tag `<figcaption>` and automatically numbered in the same way as for tables, using the ricardo_stylesheet.css file. \n",
    "\n",
    "To display HTML from within a code cell, we need to wrap the tag in `display(HTML())` as shown below.\n",
    "\n",
    "``` python\n",
    "import matplotlib.pyplot as plt\n",
    "%matplotlib inline \n",
    "# Set styles\n",
    "plt.style.use('seaborn-white')\n",
    "\n",
    "display(HTML('<figcaption> Example figure - output showing </figcaption>'))\n",
    "plt.scatter(iris['sepal_length'], iris['sepal_width'], alpha = 0.5)\n",
    "```"
   ]
  },
  {
   "cell_type": "code",
   "execution_count": 9,
   "metadata": {
    "extensions": {
     "jupyter_dashboards": {
      "version": 1,
      "views": {
       "grid_default": {},
       "report_default": {}
      }
     }
    },
    "hide_input": true
   },
   "outputs": [
    {
     "data": {
      "text/html": [
       "<figcaption> Example figure - output showing </figcaption>"
      ],
      "text/plain": [
       "<IPython.core.display.HTML object>"
      ]
     },
     "metadata": {},
     "output_type": "display_data"
    },
    {
     "data": {
      "text/plain": [
       "<matplotlib.collections.PathCollection at 0x1a21966160>"
      ]
     },
     "execution_count": 9,
     "metadata": {},
     "output_type": "execute_result"
    },
    {
     "data": {
      "image/png": "[encoded data removed]",
      "text/plain": [
       "<Figure size 432x288 with 1 Axes>"
      ]
     },
     "metadata": {
      "needs_background": "light"
     },
     "output_type": "display_data"
    }
   ],
   "source": [
    "\n",
    "display(HTML('<figcaption> Example figure - output showing </figcaption>'))\n",
    "plt.scatter(iris['sepal_length'], iris['sepal_width'], alpha = 0.5)"
   ]
  },
  {
   "cell_type": "markdown",
   "metadata": {},
   "source": [
    "You may notice outputs like `[<matplotlib.lines.Line2D at 0x113c26898>]`. This is because Jupyter renders the return value of the function as well as the graphical output. You can suppress the value and only show the plot by appending `;` to a command:\n",
    "\n",
    "``` python\n",
    "display(HTML('<figcaption> Example figure - output hidden </figcaption>'))\n",
    "plt.scatter(iris['sepal_length'], iris['sepal_width'], alpha = 0.5);\n",
    "``` "
   ]
  },
  {
   "cell_type": "code",
   "execution_count": 10,
   "metadata": {
    "hide_input": true
   },
   "outputs": [
    {
     "data": {
      "text/html": [
       "<figcaption> Example figure - output hidden </figcaption>"
      ],
      "text/plain": [
       "<IPython.core.display.HTML object>"
      ]
     },
     "metadata": {},
     "output_type": "display_data"
    },
    {
     "data": {
      "image/png": "[encoded data removed]",
      "text/plain": [
       "<Figure size 432x288 with 1 Axes>"
      ]
     },
     "metadata": {
      "needs_background": "light"
     },
     "output_type": "display_data"
    }
   ],
   "source": [
    "display(HTML('<figcaption> Example figure - output hidden </figcaption>'))\n",
    "plt.scatter(iris['sepal_length'], iris['sepal_width'], alpha = 0.5);"
   ]
  },
  {
   "cell_type": "markdown",
   "metadata": {},
   "source": [
    "### Interactive plotting\n",
    "\n",
    "#### Libraries\n",
    "\n",
    "We recommend using Plotly and Cufflinks for interactive plotting. \n",
    "* Plotly is an interactive plotting library\n",
    "* Cufflinks binds Plotly to pandas dataframes\n",
    "\n",
    "To get started, install the required packages\n",
    "\n",
    "    pip install plotly\n",
    "    pip install cufflinks "
   ]
  },
  {
   "cell_type": "markdown",
   "metadata": {},
   "source": [
    "When using these libraries to plot offline in Jupyter Notebooks, there is an additional initialisation step needed. Run the following to set up the notebook:\n",
    "\n",
    "``` python\n",
    "import plotly.plotly as py\n",
    "import plotly.graph_objs as go\n",
    "from plotly.offline import iplot, init_notebook_mode\n",
    "init_notebook_mode(connected=True)\n",
    "\n",
    "import cufflinks as cf\n",
    "cf.set_config_file(offline=True, \n",
    "                   world_readable=False, \n",
    "                   theme='white')\n",
    "```"
   ]
  },
  {
   "cell_type": "markdown",
   "metadata": {},
   "source": [
    "#### Cufflinks for simple plots\n",
    "\n",
    "Create the graph below using the following commands:\n",
    "\n",
    "```python\n",
    "display(HTML('<figcaption> Cufflinks graph - good for quick explorations </figcaption>'))\n",
    "iris.iplot(x = 'sepal_length', y = 'sepal_width', \n",
    "           kind = 'scatter', mode = 'markers', size = 8,\n",
    "          color = 'blue')\n",
    "```\n",
    "\n",
    "Cufflinks allows for creation of most plot types within a single line. You can also see that the automatic caption numbering can be used with any plotting library"
   ]
  },
  {
   "cell_type": "code",
   "execution_count": 11,
   "metadata": {},
   "outputs": [
    {
     "data": {
      "text/html": [
       "<figcaption> Cufflinks graph - good for quick explorations </figcaption>"
      ],
      "text/plain": [
       "<IPython.core.display.HTML object>"
      ]
     },
     "metadata": {},
     "output_type": "display_data"
    },
    {
     "data": {
      "application/vnd.plotly.v1+json": {
       "config": {
        "linkText": "Export to plot.ly",
        "plotlyServerURL": "https://plot.ly",
        "showLink": true
       },
       "data": [
        {
         "line": {
          "color": "rgba(55, 128, 191, 1.0)",
          "dash": "solid",
          "shape": "linear",
          "width": 1.3
         },
         "marker": {
          "size": 8,
          "symbol": "circle"
         },
         "mode": "markers",
         "name": "sepal_width",
         "text": "",
         "type": "scatter",
         "uid": "6f030f38-b6ef-4f31-8d7b-ac83e0ef52f6",
         "x": [
          5.1,
          4.9,
          4.7,
          4.6,
          5,
          5.4,
          4.6,
          5,
          4.4,
          4.9,
          5.4,
          4.8,
          4.8,
          4.3,
          5.8,
          5.7,
          5.4,
          5.1,
          5.7,
          5.1,
          5.4,
          5.1,
          4.6,
          5.1,
          4.8,
          5,
          5,
          5.2,
          5.2,
          4.7,
          4.8,
          5.4,
          5.2,
          5.5,
          4.9,
          5,
          5.5,
          4.9,
          4.4,
          5.1,
          5,
          4.5,
          4.4,
          5,
          5.1,
          4.8,
          5.1,
          4.6,
          5.3,
          5,
          7,
          6.4,
          6.9,
          5.5,
          6.5,
          5.7,
          6.3,
          4.9,
          6.6,
          5.2,
          5,
          5.9,
          6,
          6.1,
          5.6,
          6.7,
          5.6,
          5.8,
          6.2,
          5.6,
          5.9,
          6.1,
          6.3,
          6.1,
          6.4,
          6.6,
          6.8,
          6.7,
          6,
          5.7,
          5.5,
          5.5,
          5.8,
          6,
          5.4,
          6,
          6.7,
          6.3,
          5.6,
          5.5,
          5.5,
          6.1,
          5.8,
          5,
          5.6,
          5.7,
          5.7,
          6.2,
          5.1,
          5.7,
          6.3,
          5.8,
          7.1,
          6.3,
          6.5,
          7.6,
          4.9,
          7.3,
          6.7,
          7.2,
          6.5,
          6.4,
          6.8,
          5.7,
          5.8,
          6.4,
          6.5,
          7.7,
          7.7,
          6,
          6.9,
          5.6,
          7.7,
          6.3,
          6.7,
          7.2,
          6.2,
          6.1,
          6.4,
          7.2,
          7.4,
          7.9,
          6.4,
          6.3,
          6.1,
          7.7,
          6.3,
          6.4,
          6,
          6.9,
          6.7,
          6.9,
          5.8,
          6.8,
          6.7,
          6.7,
          6.3,
          6.5,
          6.2,
          5.9
         ],
         "y": [
          3.5,
          3,
          3.2,
          3.1,
          3.6,
          3.9,
          3.4,
          3.4,
          2.9,
          3.1,
          3.7,
          3.4,
          3,
          3,
          4,
          4.4,
          3.9,
          3.5,
          3.8,
          3.8,
          3.4,
          3.7,
          3.6,
          3.3,
          3.4,
          3,
          3.4,
          3.5,
          3.4,
          3.2,
          3.1,
          3.4,
          4.1,
          4.2,
          3.1,
          3.2,
          3.5,
          3.6,
          3,
          3.4,
          3.5,
          2.3,
          3.2,
          3.5,
          3.8,
          3,
          3.8,
          3.2,
          3.7,
          3.3,
          3.2,
          3.2,
          3.1,
          2.3,
          2.8,
          2.8,
          3.3,
          2.4,
          2.9,
          2.7,
          2,
          3,
          2.2,
          2.9,
          2.9,
          3.1,
          3,
          2.7,
          2.2,
          2.5,
          3.2,
          2.8,
          2.5,
          2.8,
          2.9,
          3,
          2.8,
          3,
          2.9,
          2.6,
          2.4,
          2.4,
          2.7,
          2.7,
          3,
          3.4,
          3.1,
          2.3,
          3,
          2.5,
          2.6,
          3,
          2.6,
          2.3,
          2.7,
          3,
          2.9,
          2.9,
          2.5,
          2.8,
          3.3,
          2.7,
          3,
          2.9,
          3,
          3,
          2.5,
          2.9,
          2.5,
          3.6,
          3.2,
          2.7,
          3,
          2.5,
          2.8,
          3.2,
          3,
          3.8,
          2.6,
          2.2,
          3.2,
          2.8,
          2.8,
          2.7,
          3.3,
          3.2,
          2.8,
          3,
          2.8,
          3,
          2.8,
          3.8,
          2.8,
          2.8,
          2.6,
          3,
          3.4,
          3.1,
          3,
          3.1,
          3.1,
          3.1,
          2.7,
          3.2,
          3.3,
          3,
          2.5,
          3,
          3.4,
          3
         ]
        }
       ],
       "layout": {
        "legend": {
         "bgcolor": "#FFFFFF",
         "font": {
          "color": "#4D5663"
         }
        },
        "paper_bgcolor": "#FFFFFF",
        "plot_bgcolor": "#FFFFFF",
        "title": {
         "font": {
          "color": "#4D5663"
         }
        },
        "xaxis": {
         "gridcolor": "#E1E5ED",
         "showgrid": true,
         "tickfont": {
          "color": "#4D5663"
         },
         "title": {
          "font": {
           "color": "#4D5663"
          },
          "text": ""
         },
         "zerolinecolor": "#E1E5ED"
        },
        "yaxis": {
         "gridcolor": "#E1E5ED",
         "showgrid": true,
         "tickfont": {
          "color": "#4D5663"
         },
         "title": {
          "font": {
           "color": "#4D5663"
          },
          "text": ""
         },
         "zerolinecolor": "#E1E5ED"
        }
       }
      },
      "text/html": [
       "<div id=\"e6f5f93d-2717-4d74-b293-65c0d51363b6\" style=\"height: 525px; width: 100%;\" class=\"plotly-graph-div\"></div><script type=\"text/javascript\">require([\"plotly\"], function(Plotly) { window.PLOTLYENV=window.PLOTLYENV || {};window.PLOTLYENV.BASE_URL=\"https://plot.ly\";Plotly.newPlot(\"e6f5f93d-2717-4d74-b293-65c0d51363b6\", [{\"line\": {\"color\": \"rgba(55, 128, 191, 1.0)\", \"dash\": \"solid\", \"shape\": \"linear\", \"width\": 1.3}, \"marker\": {\"size\": 8, \"symbol\": \"circle\"}, \"mode\": \"markers\", \"name\": \"sepal_width\", \"text\": \"\", \"x\": [5.1, 4.9, 4.7, 4.6, 5.0, 5.4, 4.6, 5.0, 4.4, 4.9, 5.4, 4.8, 4.8, 4.3, 5.8, 5.7, 5.4, 5.1, 5.7, 5.1, 5.4, 5.1, 4.6, 5.1, 4.8, 5.0, 5.0, 5.2, 5.2, 4.7, 4.8, 5.4, 5.2, 5.5, 4.9, 5.0, 5.5, 4.9, 4.4, 5.1, 5.0, 4.5, 4.4, 5.0, 5.1, 4.8, 5.1, 4.6, 5.3, 5.0, 7.0, 6.4, 6.9, 5.5, 6.5, 5.7, 6.3, 4.9, 6.6, 5.2, 5.0, 5.9, 6.0, 6.1, 5.6, 6.7, 5.6, 5.8, 6.2, 5.6, 5.9, 6.1, 6.3, 6.1, 6.4, 6.6, 6.8, 6.7, 6.0, 5.7, 5.5, 5.5, 5.8, 6.0, 5.4, 6.0, 6.7, 6.3, 5.6, 5.5, 5.5, 6.1, 5.8, 5.0, 5.6, 5.7, 5.7, 6.2, 5.1, 5.7, 6.3, 5.8, 7.1, 6.3, 6.5, 7.6, 4.9, 7.3, 6.7, 7.2, 6.5, 6.4, 6.8, 5.7, 5.8, 6.4, 6.5, 7.7, 7.7, 6.0, 6.9, 5.6, 7.7, 6.3, 6.7, 7.2, 6.2, 6.1, 6.4, 7.2, 7.4, 7.9, 6.4, 6.3, 6.1, 7.7, 6.3, 6.4, 6.0, 6.9, 6.7, 6.9, 5.8, 6.8, 6.7, 6.7, 6.3, 6.5, 6.2, 5.9], \"y\": [3.5, 3.0, 3.2, 3.1, 3.6, 3.9, 3.4, 3.4, 2.9, 3.1, 3.7, 3.4, 3.0, 3.0, 4.0, 4.4, 3.9, 3.5, 3.8, 3.8, 3.4, 3.7, 3.6, 3.3, 3.4, 3.0, 3.4, 3.5, 3.4, 3.2, 3.1, 3.4, 4.1, 4.2, 3.1, 3.2, 3.5, 3.6, 3.0, 3.4, 3.5, 2.3, 3.2, 3.5, 3.8, 3.0, 3.8, 3.2, 3.7, 3.3, 3.2, 3.2, 3.1, 2.3, 2.8, 2.8, 3.3, 2.4, 2.9, 2.7, 2.0, 3.0, 2.2, 2.9, 2.9, 3.1, 3.0, 2.7, 2.2, 2.5, 3.2, 2.8, 2.5, 2.8, 2.9, 3.0, 2.8, 3.0, 2.9, 2.6, 2.4, 2.4, 2.7, 2.7, 3.0, 3.4, 3.1, 2.3, 3.0, 2.5, 2.6, 3.0, 2.6, 2.3, 2.7, 3.0, 2.9, 2.9, 2.5, 2.8, 3.3, 2.7, 3.0, 2.9, 3.0, 3.0, 2.5, 2.9, 2.5, 3.6, 3.2, 2.7, 3.0, 2.5, 2.8, 3.2, 3.0, 3.8, 2.6, 2.2, 3.2, 2.8, 2.8, 2.7, 3.3, 3.2, 2.8, 3.0, 2.8, 3.0, 2.8, 3.8, 2.8, 2.8, 2.6, 3.0, 3.4, 3.1, 3.0, 3.1, 3.1, 3.1, 2.7, 3.2, 3.3, 3.0, 2.5, 3.0, 3.4, 3.0], \"type\": \"scatter\", \"uid\": \"ff88c808-77a4-48b2-89c1-d5e2b971a0b0\"}], {\"legend\": {\"bgcolor\": \"#FFFFFF\", \"font\": {\"color\": \"#4D5663\"}}, \"paper_bgcolor\": \"#FFFFFF\", \"plot_bgcolor\": \"#FFFFFF\", \"title\": {\"font\": {\"color\": \"#4D5663\"}}, \"xaxis\": {\"gridcolor\": \"#E1E5ED\", \"showgrid\": true, \"tickfont\": {\"color\": \"#4D5663\"}, \"title\": {\"text\": \"\", \"font\": {\"color\": \"#4D5663\"}}, \"zerolinecolor\": \"#E1E5ED\"}, \"yaxis\": {\"gridcolor\": \"#E1E5ED\", \"showgrid\": true, \"tickfont\": {\"color\": \"#4D5663\"}, \"title\": {\"text\": \"\", \"font\": {\"color\": \"#4D5663\"}}, \"zerolinecolor\": \"#E1E5ED\"}}, {\"showLink\": true, \"linkText\": \"Export to plot.ly\", \"plotlyServerURL\": \"https://plot.ly\"})});</script><script type=\"text/javascript\">window.addEventListener(\"resize\", function(){window._Plotly.Plots.resize(document.getElementById(\"e6f5f93d-2717-4d74-b293-65c0d51363b6\"));});</script>"
      ],
      "text/vnd.plotly.v1+html": [
       "<div id=\"e6f5f93d-2717-4d74-b293-65c0d51363b6\" style=\"height: 525px; width: 100%;\" class=\"plotly-graph-div\"></div><script type=\"text/javascript\">require([\"plotly\"], function(Plotly) { window.PLOTLYENV=window.PLOTLYENV || {};window.PLOTLYENV.BASE_URL=\"https://plot.ly\";Plotly.newPlot(\"e6f5f93d-2717-4d74-b293-65c0d51363b6\", [{\"line\": {\"color\": \"rgba(55, 128, 191, 1.0)\", \"dash\": \"solid\", \"shape\": \"linear\", \"width\": 1.3}, \"marker\": {\"size\": 8, \"symbol\": \"circle\"}, \"mode\": \"markers\", \"name\": \"sepal_width\", \"text\": \"\", \"x\": [5.1, 4.9, 4.7, 4.6, 5.0, 5.4, 4.6, 5.0, 4.4, 4.9, 5.4, 4.8, 4.8, 4.3, 5.8, 5.7, 5.4, 5.1, 5.7, 5.1, 5.4, 5.1, 4.6, 5.1, 4.8, 5.0, 5.0, 5.2, 5.2, 4.7, 4.8, 5.4, 5.2, 5.5, 4.9, 5.0, 5.5, 4.9, 4.4, 5.1, 5.0, 4.5, 4.4, 5.0, 5.1, 4.8, 5.1, 4.6, 5.3, 5.0, 7.0, 6.4, 6.9, 5.5, 6.5, 5.7, 6.3, 4.9, 6.6, 5.2, 5.0, 5.9, 6.0, 6.1, 5.6, 6.7, 5.6, 5.8, 6.2, 5.6, 5.9, 6.1, 6.3, 6.1, 6.4, 6.6, 6.8, 6.7, 6.0, 5.7, 5.5, 5.5, 5.8, 6.0, 5.4, 6.0, 6.7, 6.3, 5.6, 5.5, 5.5, 6.1, 5.8, 5.0, 5.6, 5.7, 5.7, 6.2, 5.1, 5.7, 6.3, 5.8, 7.1, 6.3, 6.5, 7.6, 4.9, 7.3, 6.7, 7.2, 6.5, 6.4, 6.8, 5.7, 5.8, 6.4, 6.5, 7.7, 7.7, 6.0, 6.9, 5.6, 7.7, 6.3, 6.7, 7.2, 6.2, 6.1, 6.4, 7.2, 7.4, 7.9, 6.4, 6.3, 6.1, 7.7, 6.3, 6.4, 6.0, 6.9, 6.7, 6.9, 5.8, 6.8, 6.7, 6.7, 6.3, 6.5, 6.2, 5.9], \"y\": [3.5, 3.0, 3.2, 3.1, 3.6, 3.9, 3.4, 3.4, 2.9, 3.1, 3.7, 3.4, 3.0, 3.0, 4.0, 4.4, 3.9, 3.5, 3.8, 3.8, 3.4, 3.7, 3.6, 3.3, 3.4, 3.0, 3.4, 3.5, 3.4, 3.2, 3.1, 3.4, 4.1, 4.2, 3.1, 3.2, 3.5, 3.6, 3.0, 3.4, 3.5, 2.3, 3.2, 3.5, 3.8, 3.0, 3.8, 3.2, 3.7, 3.3, 3.2, 3.2, 3.1, 2.3, 2.8, 2.8, 3.3, 2.4, 2.9, 2.7, 2.0, 3.0, 2.2, 2.9, 2.9, 3.1, 3.0, 2.7, 2.2, 2.5, 3.2, 2.8, 2.5, 2.8, 2.9, 3.0, 2.8, 3.0, 2.9, 2.6, 2.4, 2.4, 2.7, 2.7, 3.0, 3.4, 3.1, 2.3, 3.0, 2.5, 2.6, 3.0, 2.6, 2.3, 2.7, 3.0, 2.9, 2.9, 2.5, 2.8, 3.3, 2.7, 3.0, 2.9, 3.0, 3.0, 2.5, 2.9, 2.5, 3.6, 3.2, 2.7, 3.0, 2.5, 2.8, 3.2, 3.0, 3.8, 2.6, 2.2, 3.2, 2.8, 2.8, 2.7, 3.3, 3.2, 2.8, 3.0, 2.8, 3.0, 2.8, 3.8, 2.8, 2.8, 2.6, 3.0, 3.4, 3.1, 3.0, 3.1, 3.1, 3.1, 2.7, 3.2, 3.3, 3.0, 2.5, 3.0, 3.4, 3.0], \"type\": \"scatter\", \"uid\": \"ff88c808-77a4-48b2-89c1-d5e2b971a0b0\"}], {\"legend\": {\"bgcolor\": \"#FFFFFF\", \"font\": {\"color\": \"#4D5663\"}}, \"paper_bgcolor\": \"#FFFFFF\", \"plot_bgcolor\": \"#FFFFFF\", \"title\": {\"font\": {\"color\": \"#4D5663\"}}, \"xaxis\": {\"gridcolor\": \"#E1E5ED\", \"showgrid\": true, \"tickfont\": {\"color\": \"#4D5663\"}, \"title\": {\"text\": \"\", \"font\": {\"color\": \"#4D5663\"}}, \"zerolinecolor\": \"#E1E5ED\"}, \"yaxis\": {\"gridcolor\": \"#E1E5ED\", \"showgrid\": true, \"tickfont\": {\"color\": \"#4D5663\"}, \"title\": {\"text\": \"\", \"font\": {\"color\": \"#4D5663\"}}, \"zerolinecolor\": \"#E1E5ED\"}}, {\"showLink\": true, \"linkText\": \"Export to plot.ly\", \"plotlyServerURL\": \"https://plot.ly\"})});</script><script type=\"text/javascript\">window.addEventListener(\"resize\", function(){window._Plotly.Plots.resize(document.getElementById(\"e6f5f93d-2717-4d74-b293-65c0d51363b6\"));});</script>"
      ]
     },
     "metadata": {},
     "output_type": "display_data"
    }
   ],
   "source": [
    "display(HTML('<figcaption> Cufflinks graph - good for quick explorations </figcaption>'))\n",
    "iris.iplot(x = 'sepal_length', \n",
    "           y = 'sepal_width', \n",
    "           kind = 'scatter', \n",
    "           mode = 'markers', \n",
    "           size = 8,\n",
    "          color = 'blue')\n"
   ]
  },
  {
   "cell_type": "markdown",
   "metadata": {},
   "source": [
    "Cufflinks works well for most simple graphs and we recommend it for quick exploration. However, if you want to do more advanced customisations, you essentially need to access the underlying Plotly code - and depending on the amount of customisation you need, it might make sense to use Plotly directly. \n",
    "\n",
    "You can view the available parameters by typing: `help(iris.iplot)`\n"
   ]
  },
  {
   "cell_type": "code",
   "execution_count": 24,
   "metadata": {},
   "outputs": [
    {
     "data": {
      "text/html": [
       "<div class = \"commenter1\"> \n",
       "    <i>Tip: If graphs are not displaying, check that the notebook is trusted.</i>\n",
       "</div>"
      ],
      "text/plain": [
       "<IPython.core.display.HTML object>"
      ]
     },
     "metadata": {},
     "output_type": "display_data"
    },
    {
     "data": {
      "text/html": [
       "<figcaption> Trust settings at the top right of the screen </figcaption>"
      ],
      "text/plain": [
       "<IPython.core.display.HTML object>"
      ]
     },
     "metadata": {},
     "output_type": "display_data"
    },
    {
     "data": {
      "image/png": "[encoded data removed]",
      "text/plain": [
       "<IPython.core.display.Image object>"
      ]
     },
     "execution_count": 24,
     "metadata": {
      "image/png": {
       "width": 250
      }
     },
     "output_type": "execute_result"
    }
   ],
   "source": [
    "display(HTML('''<div class = \"commenter1\"> \n",
    "    <i>Tip: If graphs are not displaying, check that the notebook is trusted.</i>\n",
    "</div>'''))\n",
    "\n",
    "display(HTML('<figcaption> Trust settings at the top right of the screen </figcaption>'))\n",
    "Image('files/pictures/Trust.png', width = 250)"
   ]
  },
  {
   "cell_type": "markdown",
   "metadata": {},
   "source": [
    "\n",
    "\n",
    "#### Plotly for advanced interactive plots\n",
    "\n",
    "For more advanced customisation, you may need to use Plotly itself. The interface is quite simple:\n",
    "\n",
    "```python\n",
    "x = iris['sepal_length']\n",
    "y = iris['sepal_width']\n",
    "display(HTML('<figcaption> Plotly graph - better for customised finished graphs </figcaption>'))\n",
    "fig = go.Figure()\n",
    "fig.add_scatter(x=x,\n",
    "                y=y,\n",
    "                mode='markers',\n",
    "                marker={'size': 10,\n",
    "                        'opacity': 0.6,\n",
    "                        'colorscale': 'Viridis'\n",
    "                       });\n",
    "iplot(fig)\n",
    "```"
   ]
  },
  {
   "cell_type": "code",
   "execution_count": 12,
   "metadata": {},
   "outputs": [
    {
     "data": {
      "text/html": [
       "<figcaption> Plotly graph - better for customised finished graphs </figcaption>"
      ],
      "text/plain": [
       "<IPython.core.display.HTML object>"
      ]
     },
     "metadata": {},
     "output_type": "display_data"
    },
    {
     "data": {
      "application/vnd.plotly.v1+json": {
       "config": {
        "linkText": "Export to plot.ly",
        "plotlyServerURL": "https://plot.ly",
        "showLink": false
       },
       "data": [
        {
         "marker": {
          "colorscale": "Viridis",
          "opacity": 0.6,
          "size": 10
         },
         "mode": "markers",
         "type": "scatter",
         "uid": "93b5990f-77b9-42d9-98a7-03567ae0c537",
         "x": [
          5.1,
          4.9,
          4.7,
          4.6,
          5,
          5.4,
          4.6,
          5,
          4.4,
          4.9,
          5.4,
          4.8,
          4.8,
          4.3,
          5.8,
          5.7,
          5.4,
          5.1,
          5.7,
          5.1,
          5.4,
          5.1,
          4.6,
          5.1,
          4.8,
          5,
          5,
          5.2,
          5.2,
          4.7,
          4.8,
          5.4,
          5.2,
          5.5,
          4.9,
          5,
          5.5,
          4.9,
          4.4,
          5.1,
          5,
          4.5,
          4.4,
          5,
          5.1,
          4.8,
          5.1,
          4.6,
          5.3,
          5,
          7,
          6.4,
          6.9,
          5.5,
          6.5,
          5.7,
          6.3,
          4.9,
          6.6,
          5.2,
          5,
          5.9,
          6,
          6.1,
          5.6,
          6.7,
          5.6,
          5.8,
          6.2,
          5.6,
          5.9,
          6.1,
          6.3,
          6.1,
          6.4,
          6.6,
          6.8,
          6.7,
          6,
          5.7,
          5.5,
          5.5,
          5.8,
          6,
          5.4,
          6,
          6.7,
          6.3,
          5.6,
          5.5,
          5.5,
          6.1,
          5.8,
          5,
          5.6,
          5.7,
          5.7,
          6.2,
          5.1,
          5.7,
          6.3,
          5.8,
          7.1,
          6.3,
          6.5,
          7.6,
          4.9,
          7.3,
          6.7,
          7.2,
          6.5,
          6.4,
          6.8,
          5.7,
          5.8,
          6.4,
          6.5,
          7.7,
          7.7,
          6,
          6.9,
          5.6,
          7.7,
          6.3,
          6.7,
          7.2,
          6.2,
          6.1,
          6.4,
          7.2,
          7.4,
          7.9,
          6.4,
          6.3,
          6.1,
          7.7,
          6.3,
          6.4,
          6,
          6.9,
          6.7,
          6.9,
          5.8,
          6.8,
          6.7,
          6.7,
          6.3,
          6.5,
          6.2,
          5.9
         ],
         "y": [
          3.5,
          3,
          3.2,
          3.1,
          3.6,
          3.9,
          3.4,
          3.4,
          2.9,
          3.1,
          3.7,
          3.4,
          3,
          3,
          4,
          4.4,
          3.9,
          3.5,
          3.8,
          3.8,
          3.4,
          3.7,
          3.6,
          3.3,
          3.4,
          3,
          3.4,
          3.5,
          3.4,
          3.2,
          3.1,
          3.4,
          4.1,
          4.2,
          3.1,
          3.2,
          3.5,
          3.6,
          3,
          3.4,
          3.5,
          2.3,
          3.2,
          3.5,
          3.8,
          3,
          3.8,
          3.2,
          3.7,
          3.3,
          3.2,
          3.2,
          3.1,
          2.3,
          2.8,
          2.8,
          3.3,
          2.4,
          2.9,
          2.7,
          2,
          3,
          2.2,
          2.9,
          2.9,
          3.1,
          3,
          2.7,
          2.2,
          2.5,
          3.2,
          2.8,
          2.5,
          2.8,
          2.9,
          3,
          2.8,
          3,
          2.9,
          2.6,
          2.4,
          2.4,
          2.7,
          2.7,
          3,
          3.4,
          3.1,
          2.3,
          3,
          2.5,
          2.6,
          3,
          2.6,
          2.3,
          2.7,
          3,
          2.9,
          2.9,
          2.5,
          2.8,
          3.3,
          2.7,
          3,
          2.9,
          3,
          3,
          2.5,
          2.9,
          2.5,
          3.6,
          3.2,
          2.7,
          3,
          2.5,
          2.8,
          3.2,
          3,
          3.8,
          2.6,
          2.2,
          3.2,
          2.8,
          2.8,
          2.7,
          3.3,
          3.2,
          2.8,
          3,
          2.8,
          3,
          2.8,
          3.8,
          2.8,
          2.8,
          2.6,
          3,
          3.4,
          3.1,
          3,
          3.1,
          3.1,
          3.1,
          2.7,
          3.2,
          3.3,
          3,
          2.5,
          3,
          3.4,
          3
         ]
        }
       ],
       "layout": {}
      },
      "text/html": [
       "<div id=\"5853adef-09a8-4ccf-8141-6392c9d01159\" style=\"height: 525px; width: 100%;\" class=\"plotly-graph-div\"></div><script type=\"text/javascript\">require([\"plotly\"], function(Plotly) { window.PLOTLYENV=window.PLOTLYENV || {};window.PLOTLYENV.BASE_URL=\"https://plot.ly\";Plotly.newPlot(\"5853adef-09a8-4ccf-8141-6392c9d01159\", [{\"marker\": {\"colorscale\": \"Viridis\", \"opacity\": 0.6, \"size\": 10}, \"mode\": \"markers\", \"x\": [5.1, 4.9, 4.7, 4.6, 5.0, 5.4, 4.6, 5.0, 4.4, 4.9, 5.4, 4.8, 4.8, 4.3, 5.8, 5.7, 5.4, 5.1, 5.7, 5.1, 5.4, 5.1, 4.6, 5.1, 4.8, 5.0, 5.0, 5.2, 5.2, 4.7, 4.8, 5.4, 5.2, 5.5, 4.9, 5.0, 5.5, 4.9, 4.4, 5.1, 5.0, 4.5, 4.4, 5.0, 5.1, 4.8, 5.1, 4.6, 5.3, 5.0, 7.0, 6.4, 6.9, 5.5, 6.5, 5.7, 6.3, 4.9, 6.6, 5.2, 5.0, 5.9, 6.0, 6.1, 5.6, 6.7, 5.6, 5.8, 6.2, 5.6, 5.9, 6.1, 6.3, 6.1, 6.4, 6.6, 6.8, 6.7, 6.0, 5.7, 5.5, 5.5, 5.8, 6.0, 5.4, 6.0, 6.7, 6.3, 5.6, 5.5, 5.5, 6.1, 5.8, 5.0, 5.6, 5.7, 5.7, 6.2, 5.1, 5.7, 6.3, 5.8, 7.1, 6.3, 6.5, 7.6, 4.9, 7.3, 6.7, 7.2, 6.5, 6.4, 6.8, 5.7, 5.8, 6.4, 6.5, 7.7, 7.7, 6.0, 6.9, 5.6, 7.7, 6.3, 6.7, 7.2, 6.2, 6.1, 6.4, 7.2, 7.4, 7.9, 6.4, 6.3, 6.1, 7.7, 6.3, 6.4, 6.0, 6.9, 6.7, 6.9, 5.8, 6.8, 6.7, 6.7, 6.3, 6.5, 6.2, 5.9], \"y\": [3.5, 3.0, 3.2, 3.1, 3.6, 3.9, 3.4, 3.4, 2.9, 3.1, 3.7, 3.4, 3.0, 3.0, 4.0, 4.4, 3.9, 3.5, 3.8, 3.8, 3.4, 3.7, 3.6, 3.3, 3.4, 3.0, 3.4, 3.5, 3.4, 3.2, 3.1, 3.4, 4.1, 4.2, 3.1, 3.2, 3.5, 3.6, 3.0, 3.4, 3.5, 2.3, 3.2, 3.5, 3.8, 3.0, 3.8, 3.2, 3.7, 3.3, 3.2, 3.2, 3.1, 2.3, 2.8, 2.8, 3.3, 2.4, 2.9, 2.7, 2.0, 3.0, 2.2, 2.9, 2.9, 3.1, 3.0, 2.7, 2.2, 2.5, 3.2, 2.8, 2.5, 2.8, 2.9, 3.0, 2.8, 3.0, 2.9, 2.6, 2.4, 2.4, 2.7, 2.7, 3.0, 3.4, 3.1, 2.3, 3.0, 2.5, 2.6, 3.0, 2.6, 2.3, 2.7, 3.0, 2.9, 2.9, 2.5, 2.8, 3.3, 2.7, 3.0, 2.9, 3.0, 3.0, 2.5, 2.9, 2.5, 3.6, 3.2, 2.7, 3.0, 2.5, 2.8, 3.2, 3.0, 3.8, 2.6, 2.2, 3.2, 2.8, 2.8, 2.7, 3.3, 3.2, 2.8, 3.0, 2.8, 3.0, 2.8, 3.8, 2.8, 2.8, 2.6, 3.0, 3.4, 3.1, 3.0, 3.1, 3.1, 3.1, 2.7, 3.2, 3.3, 3.0, 2.5, 3.0, 3.4, 3.0], \"type\": \"scatter\", \"uid\": \"93b5990f-77b9-42d9-98a7-03567ae0c537\"}], {}, {\"showLink\": false, \"linkText\": \"Export to plot.ly\", \"plotlyServerURL\": \"https://plot.ly\"})});</script><script type=\"text/javascript\">window.addEventListener(\"resize\", function(){window._Plotly.Plots.resize(document.getElementById(\"5853adef-09a8-4ccf-8141-6392c9d01159\"));});</script>"
      ],
      "text/vnd.plotly.v1+html": [
       "<div id=\"5853adef-09a8-4ccf-8141-6392c9d01159\" style=\"height: 525px; width: 100%;\" class=\"plotly-graph-div\"></div><script type=\"text/javascript\">require([\"plotly\"], function(Plotly) { window.PLOTLYENV=window.PLOTLYENV || {};window.PLOTLYENV.BASE_URL=\"https://plot.ly\";Plotly.newPlot(\"5853adef-09a8-4ccf-8141-6392c9d01159\", [{\"marker\": {\"colorscale\": \"Viridis\", \"opacity\": 0.6, \"size\": 10}, \"mode\": \"markers\", \"x\": [5.1, 4.9, 4.7, 4.6, 5.0, 5.4, 4.6, 5.0, 4.4, 4.9, 5.4, 4.8, 4.8, 4.3, 5.8, 5.7, 5.4, 5.1, 5.7, 5.1, 5.4, 5.1, 4.6, 5.1, 4.8, 5.0, 5.0, 5.2, 5.2, 4.7, 4.8, 5.4, 5.2, 5.5, 4.9, 5.0, 5.5, 4.9, 4.4, 5.1, 5.0, 4.5, 4.4, 5.0, 5.1, 4.8, 5.1, 4.6, 5.3, 5.0, 7.0, 6.4, 6.9, 5.5, 6.5, 5.7, 6.3, 4.9, 6.6, 5.2, 5.0, 5.9, 6.0, 6.1, 5.6, 6.7, 5.6, 5.8, 6.2, 5.6, 5.9, 6.1, 6.3, 6.1, 6.4, 6.6, 6.8, 6.7, 6.0, 5.7, 5.5, 5.5, 5.8, 6.0, 5.4, 6.0, 6.7, 6.3, 5.6, 5.5, 5.5, 6.1, 5.8, 5.0, 5.6, 5.7, 5.7, 6.2, 5.1, 5.7, 6.3, 5.8, 7.1, 6.3, 6.5, 7.6, 4.9, 7.3, 6.7, 7.2, 6.5, 6.4, 6.8, 5.7, 5.8, 6.4, 6.5, 7.7, 7.7, 6.0, 6.9, 5.6, 7.7, 6.3, 6.7, 7.2, 6.2, 6.1, 6.4, 7.2, 7.4, 7.9, 6.4, 6.3, 6.1, 7.7, 6.3, 6.4, 6.0, 6.9, 6.7, 6.9, 5.8, 6.8, 6.7, 6.7, 6.3, 6.5, 6.2, 5.9], \"y\": [3.5, 3.0, 3.2, 3.1, 3.6, 3.9, 3.4, 3.4, 2.9, 3.1, 3.7, 3.4, 3.0, 3.0, 4.0, 4.4, 3.9, 3.5, 3.8, 3.8, 3.4, 3.7, 3.6, 3.3, 3.4, 3.0, 3.4, 3.5, 3.4, 3.2, 3.1, 3.4, 4.1, 4.2, 3.1, 3.2, 3.5, 3.6, 3.0, 3.4, 3.5, 2.3, 3.2, 3.5, 3.8, 3.0, 3.8, 3.2, 3.7, 3.3, 3.2, 3.2, 3.1, 2.3, 2.8, 2.8, 3.3, 2.4, 2.9, 2.7, 2.0, 3.0, 2.2, 2.9, 2.9, 3.1, 3.0, 2.7, 2.2, 2.5, 3.2, 2.8, 2.5, 2.8, 2.9, 3.0, 2.8, 3.0, 2.9, 2.6, 2.4, 2.4, 2.7, 2.7, 3.0, 3.4, 3.1, 2.3, 3.0, 2.5, 2.6, 3.0, 2.6, 2.3, 2.7, 3.0, 2.9, 2.9, 2.5, 2.8, 3.3, 2.7, 3.0, 2.9, 3.0, 3.0, 2.5, 2.9, 2.5, 3.6, 3.2, 2.7, 3.0, 2.5, 2.8, 3.2, 3.0, 3.8, 2.6, 2.2, 3.2, 2.8, 2.8, 2.7, 3.3, 3.2, 2.8, 3.0, 2.8, 3.0, 2.8, 3.8, 2.8, 2.8, 2.6, 3.0, 3.4, 3.1, 3.0, 3.1, 3.1, 3.1, 2.7, 3.2, 3.3, 3.0, 2.5, 3.0, 3.4, 3.0], \"type\": \"scatter\", \"uid\": \"93b5990f-77b9-42d9-98a7-03567ae0c537\"}], {}, {\"showLink\": false, \"linkText\": \"Export to plot.ly\", \"plotlyServerURL\": \"https://plot.ly\"})});</script><script type=\"text/javascript\">window.addEventListener(\"resize\", function(){window._Plotly.Plots.resize(document.getElementById(\"5853adef-09a8-4ccf-8141-6392c9d01159\"));});</script>"
      ]
     },
     "metadata": {},
     "output_type": "display_data"
    }
   ],
   "source": [
    "x = iris['sepal_length']\n",
    "y = iris['sepal_width']\n",
    "\n",
    "display(HTML('<figcaption> Plotly graph - better for customised finished graphs </figcaption>'))\n",
    "\n",
    "fig = go.Figure()\n",
    "fig.add_scatter(x=x,\n",
    "                y=y,\n",
    "                mode='markers',\n",
    "                marker={'size': 10,\n",
    "                        'opacity': 0.6,\n",
    "                        'colorscale': 'Viridis'\n",
    "                       });\n",
    "iplot(fig)"
   ]
  },
  {
   "cell_type": "code",
   "execution_count": 23,
   "metadata": {},
   "outputs": [
    {
     "data": {
      "text/html": [
       "<div class = \"todo\"> \n",
       "    <i>NB: Since entering data into the Plotly format is cumbersome, for any serious project using interactive graphs, use loops and custom functions.</i>\n",
       "</div>"
      ],
      "text/plain": [
       "<IPython.core.display.HTML object>"
      ]
     },
     "metadata": {},
     "output_type": "display_data"
    }
   ],
   "source": [
    "display(HTML('''<div class = \"todo\"> \n",
    "    <i>NB: Since entering data into the Plotly format is cumbersome, for any serious project using interactive graphs, use loops and custom functions.</i>\n",
    "</div>'''))\n",
    "\n"
   ]
  },
  {
   "cell_type": "markdown",
   "metadata": {},
   "source": [
    "Plotly graphs can be customised endlessly. Key functions to be aware of are:\n",
    "* Visible: to determine if a trace is visible or not. Use it to hide or show different chart elements\n",
    "* Hoverinfo: Customise the information shown on mouse hover. The defaults are to show everything, which quickly becomes cluttered.\n",
    "* Hoverlabel: Customise the look of the labels\n"
   ]
  },
  {
   "cell_type": "code",
   "execution_count": null,
   "metadata": {
    "extensions": {
     "jupyter_dashboards": {
      "version": 1,
      "views": {
       "grid_default": {},
       "report_default": {}
      }
     }
    }
   },
   "outputs": [],
   "source": [
    "\n",
    "## Internal comments\n",
    "\n",
    "\n",
    "\n",
    "Several built-in styles are provided to make commenting easier. These can be rendered in Markdown cells or in code.\n",
    "\n",
    "Example code:\n",
    "\n",
    "``` python\n",
    "display(HTML('''<div class = \"todo\"> \n",
    "    Note: Things to do. This will be visible in exported HTML\n",
    "</div>'''))\n",
    "``` "
   ]
  },
  {
   "cell_type": "markdown",
   "metadata": {},
   "source": [
    "## Internal comments\n",
    "\n",
    "You have several built-in options from the css file, which give different colours. You can access these by changing the class to different options:\n",
    "* todo (red)\n",
    "* commenter1 (yellow)\n",
    "* commenter2 (blue)\n",
    "* commenter3 (purple)"
   ]
  },
  {
   "cell_type": "code",
   "execution_count": 15,
   "metadata": {},
   "outputs": [
    {
     "data": {
      "text/html": [
       "<div class = 'commenter1'>\n",
       "    Comments class 'commenter1'\n",
       "</div>\n",
       "<div class = 'commenter2'>\n",
       "    Comments class 'commenter2'\n",
       "</div>\n",
       "\n",
       "<div class = 'commenter3'>\n",
       "    Comments class 'commenter3'\n",
       "</div>\n",
       "\n"
      ],
      "text/plain": [
       "<IPython.core.display.HTML object>"
      ]
     },
     "metadata": {},
     "output_type": "display_data"
    }
   ],
   "source": [
    "display(HTML('''<div class = 'commenter1'>\n",
    "    Comments class 'commenter1'\n",
    "</div>\n",
    "<div class = 'commenter2'>\n",
    "    Comments class 'commenter2'\n",
    "</div>\n",
    "\n",
    "<div class = 'commenter3'>\n",
    "    Comments class 'commenter3'\n",
    "</div>\n",
    "\n",
    "'''))\n"
   ]
  },
  {
   "cell_type": "markdown",
   "metadata": {},
   "source": [
    "## Export to HTML\n",
    "\n",
    "Use the command below to export the notebook to HTML while retaining the table of contents (save the notebook first).\n",
    "\n",
    "    jupyter nbconvert 01_Ricardo_template_example.ipynb --template toc2\n",
    "\n",
    "You need to navigate to your project folder in terminal and run the command there.\n",
    "\n",
    "*NB: in the current version, the colour scheme for the TOC does not update. This seems to be a bug in the extension and may be fixed in later versions.  This command needs to be run from the terminal if you don't want the outputs to be shown.*"
   ]
  },
  {
   "cell_type": "markdown",
   "metadata": {},
   "source": [
    "Alternatively, you can save the file as html by choosing file>download as>.html embedded, although this may not bring the table of contents across. Exporting regular html will not include embedded pictures."
   ]
  },
  {
   "cell_type": "markdown",
   "metadata": {},
   "source": [
    "## Hiding code \n",
    "\n",
    "To remove code from the output, make sure you have `hide code all` extension enabled.\n",
    "Refresh the notebook and select the new icon in the ribbon. This is useful for removing code prior to sharing with clients and colleagues. \n",
    "\n",
    "You can also hide individual cells using the ^ button next to it. "
   ]
  },
  {
   "cell_type": "code",
   "execution_count": 16,
   "metadata": {
    "extensions": {
     "jupyter_dashboards": {
      "version": 1,
      "views": {
       "grid_default": {},
       "report_default": {}
      }
     }
    },
    "hide_input": false
   },
   "outputs": [
    {
     "data": {
      "text/html": [
       "<figcaption> Hide all code cells </figcaption>"
      ],
      "text/plain": [
       "<IPython.core.display.HTML object>"
      ]
     },
     "metadata": {},
     "output_type": "display_data"
    },
    {
     "data": {
      "image/png": "[encoded data removed]",
      "text/plain": [
       "<IPython.core.display.Image object>"
      ]
     },
     "execution_count": 16,
     "metadata": {
      "image/png": {
       "width": 800
      }
     },
     "output_type": "execute_result"
    }
   ],
   "source": [
    "display(HTML('<figcaption> Hide all code cells </figcaption>'))\n",
    "Image('files/pictures/hide_input.PNG', width = 800)"
   ]
  },
  {
   "cell_type": "markdown",
   "metadata": {},
   "source": [
    "Using the hide code button is the best way to remove all of the code in a notebook.\n",
    "\n",
    "However, if you want to mix hidden and visible code, the best way is to edit the cell metadata. \n",
    "\n",
    "To do this:\n",
    "1. go to View > Cell Toolbar > Edit Metadata\n",
    "2. click the Edit Metadata button now showing to the top right of the cell\n",
    "3. add 'hide_input':True to the json \n",
    "4. click edit to save\n",
    "5. convert using nbconvert as normal"
   ]
  },
  {
   "cell_type": "code",
   "execution_count": 17,
   "metadata": {},
   "outputs": [
    {
     "data": {
      "text/html": [
       "\n",
       "<hr> \n",
       "<div class = 'footnote'>\n",
       "Contact gena.gibson@ricardo.com for suggestions <br>\n",
       "Version last updated on 19 July 2019\n",
       "</div>"
      ],
      "text/plain": [
       "<IPython.core.display.HTML object>"
      ]
     },
     "metadata": {},
     "output_type": "display_data"
    }
   ],
   "source": [
    "display(HTML('''\n",
    "<hr> \n",
    "<div class = 'footnote'>\n",
    "Contact gena.gibson@ricardo.com for suggestions <br>\n",
    "Version last updated on 19 July 2019\n",
    "</div>'''))"
   ]
  }
 ],
 "metadata": {
  "extensions": {
   "jupyter_dashboards": {
    "activeView": "grid_default",
    "version": 1,
    "views": {
     "grid_default": {
      "cellMargin": 10,
      "defaultCellHeight": 20,
      "maxColumns": 12,
      "name": "grid",
      "type": "grid"
     },
     "report_default": {
      "name": "report",
      "type": "report"
     }
    }
   }
  },
  "hide_input": true,
  "kernelspec": {
   "display_name": "Python 3",
   "language": "python",
   "name": "python3"
  },
  "language_info": {
   "codemirror_mode": {
    "name": "ipython",
    "version": 3
   },
   "file_extension": ".py",
   "mimetype": "text/x-python",
   "name": "python",
   "nbconvert_exporter": "python",
   "pygments_lexer": "ipython3",
   "version": "3.7.2"
  },
  "toc": {
   "base_numbering": 1,
   "nav_menu": {},
   "number_sections": true,
   "sideBar": true,
   "skip_h1_title": true,
   "title_cell": "Table of Contents",
   "title_sidebar": "Contents",
   "toc_cell": false,
   "toc_position": {
    "height": "calc(100% - 180px)",
    "left": "10px",
    "top": "150px",
    "width": "300px"
   },
   "toc_section_display": true,
   "toc_window_display": true
  },
  "varInspector": {
   "cols": {
    "lenName": 16,
    "lenType": 16,
    "lenVar": 40
   },
   "kernels_config": {
    "python": {
     "delete_cmd_postfix": "",
     "delete_cmd_prefix": "del ",
     "library": "var_list.py",
     "varRefreshCmd": "print(var_dic_list())"
    },
    "r": {
     "delete_cmd_postfix": ") ",
     "delete_cmd_prefix": "rm(",
     "library": "var_list.r",
     "varRefreshCmd": "cat(var_dic_list()) "
    }
   },
   "types_to_exclude": [
    "module",
    "function",
    "builtin_function_or_method",
    "instance",
    "_Feature"
   ],
   "window_display": false
  }
 },
 "nbformat": 4,
 "nbformat_minor": 2
}
